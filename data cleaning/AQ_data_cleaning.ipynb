{
 "cells": [
  {
   "cell_type": "code",
   "execution_count": 1,
   "metadata": {},
   "outputs": [],
   "source": [
    "import pandas as pd\n",
    "import numpy as np\n",
    "import matplotlib.pyplot as plt\n",
    "import seaborn as sns"
   ]
  },
  {
   "cell_type": "code",
   "execution_count": 2,
   "metadata": {},
   "outputs": [],
   "source": [
    "#load 2019 air quality data\n",
    "co_19 = pd.read_csv('data/2019/CO_2019.csv')\n",
    "no2_19 = pd.read_csv('data/2019/NO2_2019.csv')\n",
    "o3_19 = pd.read_csv('data/2019/O3_2019.csv')\n",
    "pm25_19= pd.read_csv('data/2019/PM2.5_2019.csv')\n",
    "pm10_19 =pd.read_csv('data/2019/PM10_2019.csv')"
   ]
  },
  {
   "cell_type": "code",
   "execution_count": 3,
   "metadata": {},
   "outputs": [],
   "source": [
    "#load 2020 air quality data\n",
    "co_20 = pd.read_csv('data/2020/CO_2020.csv')\n",
    "no2_20 = pd.read_csv('data/2020/NO2_2020.csv')\n",
    "o3_20 = pd.read_csv('data/2020/O3_2020.csv')\n",
    "pm25_20= pd.read_csv('data/2020/PM2.5_2020.csv')\n",
    "pm10_20 =pd.read_csv('data/2020/PM10_2020.csv')"
   ]
  },
  {
   "cell_type": "code",
   "execution_count": 4,
   "metadata": {},
   "outputs": [],
   "source": [
    "#load 2021 air quality data\n",
    "co_21 = pd.read_csv('data/2021/CO_2021.csv')\n",
    "no2_21 = pd.read_csv('data/2021/NO2_2021.csv')\n",
    "o3_21 = pd.read_csv('data/2021/O3_2021.csv')\n",
    "pm25_21= pd.read_csv('data/2021/PM2.5_2021.csv')\n",
    "pm10_21 =pd.read_csv('data/2021/PM10_2021.csv')"
   ]
  },
  {
   "cell_type": "code",
   "execution_count": 5,
   "metadata": {},
   "outputs": [],
   "source": [
    "covid= pd.read_csv('data/COVID-19_CA/covid19cases_deaths.csv')"
   ]
  },
  {
   "cell_type": "code",
   "execution_count": 7,
   "metadata": {},
   "outputs": [
    {
     "data": {
      "text/plain": [
       "25"
      ]
     },
     "execution_count": 7,
     "metadata": {},
     "output_type": "execute_result"
    }
   ],
   "source": [
    "co_19.COUNTY.nunique()"
   ]
  },
  {
   "cell_type": "code",
   "execution_count": 8,
   "metadata": {},
   "outputs": [
    {
     "data": {
      "text/plain": [
       "43"
      ]
     },
     "execution_count": 8,
     "metadata": {},
     "output_type": "execute_result"
    }
   ],
   "source": [
    "pm10_19.COUNTY.nunique()"
   ]
  },
  {
   "cell_type": "code",
   "execution_count": 9,
   "metadata": {},
   "outputs": [
    {
     "data": {
      "text/plain": [
       "33"
      ]
     },
     "execution_count": 9,
     "metadata": {},
     "output_type": "execute_result"
    }
   ],
   "source": [
    "no2_19.COUNTY.nunique()"
   ]
  },
  {
   "cell_type": "code",
   "execution_count": 10,
   "metadata": {},
   "outputs": [
    {
     "data": {
      "text/plain": [
       "51"
      ]
     },
     "execution_count": 10,
     "metadata": {},
     "output_type": "execute_result"
    }
   ],
   "source": [
    "pm25_19.COUNTY.nunique()"
   ]
  },
  {
   "cell_type": "code",
   "execution_count": 11,
   "metadata": {},
   "outputs": [
    {
     "data": {
      "text/plain": [
       "49"
      ]
     },
     "execution_count": 11,
     "metadata": {},
     "output_type": "execute_result"
    }
   ],
   "source": [
    "o3_19.COUNTY.nunique()"
   ]
  },
  {
   "cell_type": "code",
   "execution_count": 12,
   "metadata": {},
   "outputs": [
    {
     "data": {
      "text/html": [
       "<div>\n",
       "<style scoped>\n",
       "    .dataframe tbody tr th:only-of-type {\n",
       "        vertical-align: middle;\n",
       "    }\n",
       "\n",
       "    .dataframe tbody tr th {\n",
       "        vertical-align: top;\n",
       "    }\n",
       "\n",
       "    .dataframe thead th {\n",
       "        text-align: right;\n",
       "    }\n",
       "</style>\n",
       "<table border=\"1\" class=\"dataframe\">\n",
       "  <thead>\n",
       "    <tr style=\"text-align: right;\">\n",
       "      <th></th>\n",
       "      <th></th>\n",
       "      <th>Daily Max 8-hour CO Concentration</th>\n",
       "    </tr>\n",
       "    <tr>\n",
       "      <th>Date</th>\n",
       "      <th>COUNTY</th>\n",
       "      <th></th>\n",
       "    </tr>\n",
       "  </thead>\n",
       "  <tbody>\n",
       "    <tr>\n",
       "      <th rowspan=\"5\" valign=\"top\">01/01/2019</th>\n",
       "      <th>Alameda</th>\n",
       "      <td>0.70</td>\n",
       "    </tr>\n",
       "    <tr>\n",
       "      <th>Butte</th>\n",
       "      <td>0.70</td>\n",
       "    </tr>\n",
       "    <tr>\n",
       "      <th>Contra Costa</th>\n",
       "      <td>0.43</td>\n",
       "    </tr>\n",
       "    <tr>\n",
       "      <th>Fresno</th>\n",
       "      <td>0.80</td>\n",
       "    </tr>\n",
       "    <tr>\n",
       "      <th>Humboldt</th>\n",
       "      <td>0.50</td>\n",
       "    </tr>\n",
       "    <tr>\n",
       "      <th>...</th>\n",
       "      <th>...</th>\n",
       "      <td>...</td>\n",
       "    </tr>\n",
       "    <tr>\n",
       "      <th rowspan=\"5\" valign=\"top\">12/31/2019</th>\n",
       "      <th>Santa Barbara</th>\n",
       "      <td>0.25</td>\n",
       "    </tr>\n",
       "    <tr>\n",
       "      <th>Santa Clara</th>\n",
       "      <td>1.10</td>\n",
       "    </tr>\n",
       "    <tr>\n",
       "      <th>Solano</th>\n",
       "      <td>1.30</td>\n",
       "    </tr>\n",
       "    <tr>\n",
       "      <th>Sonoma</th>\n",
       "      <td>0.60</td>\n",
       "    </tr>\n",
       "    <tr>\n",
       "      <th>Stanislaus</th>\n",
       "      <td>0.50</td>\n",
       "    </tr>\n",
       "  </tbody>\n",
       "</table>\n",
       "<p>9096 rows × 1 columns</p>\n",
       "</div>"
      ],
      "text/plain": [
       "                          Daily Max 8-hour CO Concentration\n",
       "Date       COUNTY                                          \n",
       "01/01/2019 Alameda                                     0.70\n",
       "           Butte                                       0.70\n",
       "           Contra Costa                                0.43\n",
       "           Fresno                                      0.80\n",
       "           Humboldt                                    0.50\n",
       "...                                                     ...\n",
       "12/31/2019 Santa Barbara                               0.25\n",
       "           Santa Clara                                 1.10\n",
       "           Solano                                      1.30\n",
       "           Sonoma                                      0.60\n",
       "           Stanislaus                                  0.50\n",
       "\n",
       "[9096 rows x 1 columns]"
      ]
     },
     "execution_count": 12,
     "metadata": {},
     "output_type": "execute_result"
    }
   ],
   "source": [
    "co_19_mean= co_19.groupby(['Date','COUNTY'])[['Daily Max 8-hour CO Concentration']].mean().round(2)\n",
    "co_19_mean"
   ]
  },
  {
   "cell_type": "code",
   "execution_count": 13,
   "metadata": {},
   "outputs": [
    {
     "data": {
      "text/html": [
       "<div>\n",
       "<style scoped>\n",
       "    .dataframe tbody tr th:only-of-type {\n",
       "        vertical-align: middle;\n",
       "    }\n",
       "\n",
       "    .dataframe tbody tr th {\n",
       "        vertical-align: top;\n",
       "    }\n",
       "\n",
       "    .dataframe thead th {\n",
       "        text-align: right;\n",
       "    }\n",
       "</style>\n",
       "<table border=\"1\" class=\"dataframe\">\n",
       "  <thead>\n",
       "    <tr style=\"text-align: right;\">\n",
       "      <th></th>\n",
       "      <th></th>\n",
       "      <th>Daily Mean PM10 Concentration</th>\n",
       "    </tr>\n",
       "    <tr>\n",
       "      <th>Date</th>\n",
       "      <th>COUNTY</th>\n",
       "      <th></th>\n",
       "    </tr>\n",
       "  </thead>\n",
       "  <tbody>\n",
       "    <tr>\n",
       "      <th rowspan=\"5\" valign=\"top\">01/01/2019</th>\n",
       "      <th>Butte</th>\n",
       "      <td>18.00</td>\n",
       "    </tr>\n",
       "    <tr>\n",
       "      <th>Calaveras</th>\n",
       "      <td>13.00</td>\n",
       "    </tr>\n",
       "    <tr>\n",
       "      <th>Colusa</th>\n",
       "      <td>6.00</td>\n",
       "    </tr>\n",
       "    <tr>\n",
       "      <th>El Dorado</th>\n",
       "      <td>37.00</td>\n",
       "    </tr>\n",
       "    <tr>\n",
       "      <th>Fresno</th>\n",
       "      <td>42.25</td>\n",
       "    </tr>\n",
       "    <tr>\n",
       "      <th>...</th>\n",
       "      <th>...</th>\n",
       "      <td>...</td>\n",
       "    </tr>\n",
       "    <tr>\n",
       "      <th rowspan=\"5\" valign=\"top\">12/31/2019</th>\n",
       "      <th>Sonoma</th>\n",
       "      <td>12.33</td>\n",
       "    </tr>\n",
       "    <tr>\n",
       "      <th>Stanislaus</th>\n",
       "      <td>25.00</td>\n",
       "    </tr>\n",
       "    <tr>\n",
       "      <th>Sutter</th>\n",
       "      <td>20.00</td>\n",
       "    </tr>\n",
       "    <tr>\n",
       "      <th>Tulare</th>\n",
       "      <td>44.00</td>\n",
       "    </tr>\n",
       "    <tr>\n",
       "      <th>Ventura</th>\n",
       "      <td>5.00</td>\n",
       "    </tr>\n",
       "  </tbody>\n",
       "</table>\n",
       "<p>11877 rows × 1 columns</p>\n",
       "</div>"
      ],
      "text/plain": [
       "                       Daily Mean PM10 Concentration\n",
       "Date       COUNTY                                   \n",
       "01/01/2019 Butte                               18.00\n",
       "           Calaveras                           13.00\n",
       "           Colusa                               6.00\n",
       "           El Dorado                           37.00\n",
       "           Fresno                              42.25\n",
       "...                                              ...\n",
       "12/31/2019 Sonoma                              12.33\n",
       "           Stanislaus                          25.00\n",
       "           Sutter                              20.00\n",
       "           Tulare                              44.00\n",
       "           Ventura                              5.00\n",
       "\n",
       "[11877 rows x 1 columns]"
      ]
     },
     "execution_count": 13,
     "metadata": {},
     "output_type": "execute_result"
    }
   ],
   "source": [
    "pm10_19_mean= pm10_19.groupby(['Date', 'COUNTY'])[['Daily Mean PM10 Concentration']].mean().round(2)\n",
    "pm10_19_mean"
   ]
  },
  {
   "cell_type": "code",
   "execution_count": 14,
   "metadata": {},
   "outputs": [],
   "source": [
    "pm25_19_mean = pm25_19.groupby(['Date','COUNTY'])[['Daily Mean PM2.5 Concentration']].mean().round(2)\n",
    "o3_19_mean = o3_19.groupby(['Date','COUNTY'])[['Daily Max 8-hour Ozone Concentration']].mean().round(2)\n",
    "no2_19_mean = no2_19.groupby(['Date','COUNTY'])[['Daily Max 1-hour NO2 Concentration']].mean().round(2)"
   ]
  },
  {
   "cell_type": "code",
   "execution_count": 30,
   "metadata": {},
   "outputs": [],
   "source": [
    "co_20_mean= co_20.groupby(['Date','COUNTY'])[['Daily Max 8-hour CO Concentration']].mean().round(2)\n",
    "pm10_20_mean= pm10_20.groupby(['Date', 'COUNTY'])[['Daily Mean PM10 Concentration']].mean().round(2)\n",
    "pm25_20_mean = pm25_20.groupby(['Date','COUNTY'])[['Daily Mean PM2.5 Concentration']].mean().round(2)\n",
    "o3_20_mean = o3_20.groupby(['Date','COUNTY'])[['Daily Max 8-hour Ozone Concentration']].mean().round(2)\n",
    "no2_20_mean = no2_20.groupby(['Date','COUNTY'])[['Daily Max 1-hour NO2 Concentration']].mean().round(2)"
   ]
  },
  {
   "cell_type": "code",
   "execution_count": 94,
   "metadata": {},
   "outputs": [
    {
     "data": {
      "text/html": [
       "<div>\n",
       "<style scoped>\n",
       "    .dataframe tbody tr th:only-of-type {\n",
       "        vertical-align: middle;\n",
       "    }\n",
       "\n",
       "    .dataframe tbody tr th {\n",
       "        vertical-align: top;\n",
       "    }\n",
       "\n",
       "    .dataframe thead th {\n",
       "        text-align: right;\n",
       "    }\n",
       "</style>\n",
       "<table border=\"1\" class=\"dataframe\">\n",
       "  <thead>\n",
       "    <tr style=\"text-align: right;\">\n",
       "      <th></th>\n",
       "      <th></th>\n",
       "      <th>Daily Mean PM10 Concentration</th>\n",
       "      <th>Daily Max 8-hour CO Concentration</th>\n",
       "      <th>Daily Mean PM2.5 Concentration</th>\n",
       "      <th>Daily Max 8-hour Ozone Concentration</th>\n",
       "      <th>Daily Max 1-hour NO2 Concentration</th>\n",
       "    </tr>\n",
       "    <tr>\n",
       "      <th>Date</th>\n",
       "      <th>COUNTY</th>\n",
       "      <th></th>\n",
       "      <th></th>\n",
       "      <th></th>\n",
       "      <th></th>\n",
       "      <th></th>\n",
       "    </tr>\n",
       "  </thead>\n",
       "  <tbody>\n",
       "    <tr>\n",
       "      <th rowspan=\"5\" valign=\"top\">01/01/2019</th>\n",
       "      <th>Alameda</th>\n",
       "      <td>NaN</td>\n",
       "      <td>0.7</td>\n",
       "      <td>4.63</td>\n",
       "      <td>0.03</td>\n",
       "      <td>31.15</td>\n",
       "    </tr>\n",
       "    <tr>\n",
       "      <th>Amador</th>\n",
       "      <td>NaN</td>\n",
       "      <td>NaN</td>\n",
       "      <td>NaN</td>\n",
       "      <td>0.03</td>\n",
       "      <td>NaN</td>\n",
       "    </tr>\n",
       "    <tr>\n",
       "      <th>Butte</th>\n",
       "      <td>18.0</td>\n",
       "      <td>0.7</td>\n",
       "      <td>10.47</td>\n",
       "      <td>0.03</td>\n",
       "      <td>23.40</td>\n",
       "    </tr>\n",
       "    <tr>\n",
       "      <th>Calaveras</th>\n",
       "      <td>13.0</td>\n",
       "      <td>NaN</td>\n",
       "      <td>17.90</td>\n",
       "      <td>0.03</td>\n",
       "      <td>NaN</td>\n",
       "    </tr>\n",
       "    <tr>\n",
       "      <th>Colusa</th>\n",
       "      <td>6.0</td>\n",
       "      <td>NaN</td>\n",
       "      <td>1.90</td>\n",
       "      <td>0.03</td>\n",
       "      <td>NaN</td>\n",
       "    </tr>\n",
       "    <tr>\n",
       "      <th>...</th>\n",
       "      <th>...</th>\n",
       "      <td>...</td>\n",
       "      <td>...</td>\n",
       "      <td>...</td>\n",
       "      <td>...</td>\n",
       "      <td>...</td>\n",
       "    </tr>\n",
       "    <tr>\n",
       "      <th rowspan=\"5\" valign=\"top\">12/31/2019</th>\n",
       "      <th>Tehama</th>\n",
       "      <td>NaN</td>\n",
       "      <td>NaN</td>\n",
       "      <td>9.40</td>\n",
       "      <td>NaN</td>\n",
       "      <td>NaN</td>\n",
       "    </tr>\n",
       "    <tr>\n",
       "      <th>Trinity</th>\n",
       "      <td>NaN</td>\n",
       "      <td>NaN</td>\n",
       "      <td>16.20</td>\n",
       "      <td>NaN</td>\n",
       "      <td>NaN</td>\n",
       "    </tr>\n",
       "    <tr>\n",
       "      <th>Tulare</th>\n",
       "      <td>44.0</td>\n",
       "      <td>NaN</td>\n",
       "      <td>28.40</td>\n",
       "      <td>NaN</td>\n",
       "      <td>26.90</td>\n",
       "    </tr>\n",
       "    <tr>\n",
       "      <th>Ventura</th>\n",
       "      <td>5.0</td>\n",
       "      <td>NaN</td>\n",
       "      <td>1.50</td>\n",
       "      <td>NaN</td>\n",
       "      <td>11.50</td>\n",
       "    </tr>\n",
       "    <tr>\n",
       "      <th>Yolo</th>\n",
       "      <td>NaN</td>\n",
       "      <td>NaN</td>\n",
       "      <td>12.40</td>\n",
       "      <td>NaN</td>\n",
       "      <td>14.10</td>\n",
       "    </tr>\n",
       "  </tbody>\n",
       "</table>\n",
       "<p>19051 rows × 5 columns</p>\n",
       "</div>"
      ],
      "text/plain": [
       "                      Daily Mean PM10 Concentration  \\\n",
       "Date       COUNTY                                     \n",
       "01/01/2019 Alameda                              NaN   \n",
       "           Amador                               NaN   \n",
       "           Butte                               18.0   \n",
       "           Calaveras                           13.0   \n",
       "           Colusa                               6.0   \n",
       "...                                             ...   \n",
       "12/31/2019 Tehama                               NaN   \n",
       "           Trinity                              NaN   \n",
       "           Tulare                              44.0   \n",
       "           Ventura                              5.0   \n",
       "           Yolo                                 NaN   \n",
       "\n",
       "                      Daily Max 8-hour CO Concentration  \\\n",
       "Date       COUNTY                                         \n",
       "01/01/2019 Alameda                                  0.7   \n",
       "           Amador                                   NaN   \n",
       "           Butte                                    0.7   \n",
       "           Calaveras                                NaN   \n",
       "           Colusa                                   NaN   \n",
       "...                                                 ...   \n",
       "12/31/2019 Tehama                                   NaN   \n",
       "           Trinity                                  NaN   \n",
       "           Tulare                                   NaN   \n",
       "           Ventura                                  NaN   \n",
       "           Yolo                                     NaN   \n",
       "\n",
       "                      Daily Mean PM2.5 Concentration  \\\n",
       "Date       COUNTY                                      \n",
       "01/01/2019 Alameda                              4.63   \n",
       "           Amador                                NaN   \n",
       "           Butte                               10.47   \n",
       "           Calaveras                           17.90   \n",
       "           Colusa                               1.90   \n",
       "...                                              ...   \n",
       "12/31/2019 Tehama                               9.40   \n",
       "           Trinity                             16.20   \n",
       "           Tulare                              28.40   \n",
       "           Ventura                              1.50   \n",
       "           Yolo                                12.40   \n",
       "\n",
       "                      Daily Max 8-hour Ozone Concentration  \\\n",
       "Date       COUNTY                                            \n",
       "01/01/2019 Alameda                                    0.03   \n",
       "           Amador                                     0.03   \n",
       "           Butte                                      0.03   \n",
       "           Calaveras                                  0.03   \n",
       "           Colusa                                     0.03   \n",
       "...                                                    ...   \n",
       "12/31/2019 Tehama                                      NaN   \n",
       "           Trinity                                     NaN   \n",
       "           Tulare                                      NaN   \n",
       "           Ventura                                     NaN   \n",
       "           Yolo                                        NaN   \n",
       "\n",
       "                      Daily Max 1-hour NO2 Concentration  \n",
       "Date       COUNTY                                         \n",
       "01/01/2019 Alameda                                 31.15  \n",
       "           Amador                                    NaN  \n",
       "           Butte                                   23.40  \n",
       "           Calaveras                                 NaN  \n",
       "           Colusa                                    NaN  \n",
       "...                                                  ...  \n",
       "12/31/2019 Tehama                                    NaN  \n",
       "           Trinity                                   NaN  \n",
       "           Tulare                                  26.90  \n",
       "           Ventura                                 11.50  \n",
       "           Yolo                                    14.10  \n",
       "\n",
       "[19051 rows x 5 columns]"
      ]
     },
     "execution_count": 94,
     "metadata": {},
     "output_type": "execute_result"
    }
   ],
   "source": [
    "new_df= pd.concat([pm10_19_mean, co_19_mean, pm25_19_mean, o3_19_mean, no2_19_mean], join='outer', axis=1)\n",
    "new_df"
   ]
  }
 ],
 "metadata": {
  "interpreter": {
   "hash": "d4d1e4263499bec80672ea0156c357c1ee493ec2b1c70f0acce89fc37c4a6abe"
  },
  "kernelspec": {
   "display_name": "Python 3.9.7 ('base')",
   "language": "python",
   "name": "python3"
  },
  "language_info": {
   "codemirror_mode": {
    "name": "ipython",
    "version": 3
   },
   "file_extension": ".py",
   "mimetype": "text/x-python",
   "name": "python",
   "nbconvert_exporter": "python",
   "pygments_lexer": "ipython3",
   "version": "3.9.7"
  },
  "orig_nbformat": 4
 },
 "nbformat": 4,
 "nbformat_minor": 2
}
