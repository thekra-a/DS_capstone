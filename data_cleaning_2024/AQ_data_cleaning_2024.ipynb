{
 "cells": [
  {
   "cell_type": "code",
   "execution_count": null,
   "metadata": {},
   "outputs": [],
   "source": [
    "pip install seaborn"
   ]
  },
  {
   "cell_type": "code",
   "execution_count": 1,
   "metadata": {},
   "outputs": [],
   "source": [
    "import pandas as pd\n",
    "import numpy as np\n",
    "import matplotlib.pyplot as plt\n",
    "import seaborn as sns\n",
    "import glob as glob"
   ]
  },
  {
   "cell_type": "code",
   "execution_count": 4,
   "metadata": {},
   "outputs": [],
   "source": [
    "#load 2019 air quality data\n",
    "co_19 = pd.read_csv('C:/Users/Thekra/Desktop/ds_cap/DS_capstone/data/2019/CO_2019.csv')\n",
    "no2_19 = pd.read_csv('C:/Users/Thekra/Desktop/ds_cap/DS_capstone/data/2019/NO2_2019.csv')\n",
    "o3_19 = pd.read_csv('C:/Users/Thekra/Desktop/ds_cap/DS_capstone/data/2019/O3_2019.csv')\n",
    "pm25_19= pd.read_csv('C:/Users/Thekra/Desktop/ds_cap/DS_capstone/data/2019/PM2.5_2019.csv')\n",
    "pm10_19 =pd.read_csv('C:/Users/Thekra/Desktop/ds_cap/DS_capstone/data/2019/PM10_2019.csv')"
   ]
  },
  {
   "cell_type": "code",
   "execution_count": 92,
   "metadata": {},
   "outputs": [],
   "source": [
    "#load 2020 air quality data\n",
    "co_20 = pd.read_csv('C:/Users/Thekra/Desktop/ds_cap/DS_capstone/data/2020/CO_2020.csv')\n",
    "no2_20 = pd.read_csv('C:/Users/Thekra/Desktop/ds_cap/DS_capstone/data/2020/NO2_2020.csv')\n",
    "o3_20 = pd.read_csv('C:/Users/Thekra/Desktop/ds_cap/DS_capstone/data/2020/O3_2020.csv')\n",
    "pm25_20= pd.read_csv('C:/Users/Thekra/Desktop/ds_cap/DS_capstone/data/2020/PM2.5_2020.csv')\n",
    "pm10_20 =pd.read_csv('C:/Users/Thekra/Desktop/ds_cap/DS_capstone/data/2020/PM10_2020.csv')"
   ]
  },
  {
   "cell_type": "code",
   "execution_count": 93,
   "metadata": {},
   "outputs": [],
   "source": [
    "#load 2021 air quality data\n",
    "co_21 = pd.read_csv('C:/Users/Thekra/Desktop/ds_cap/DS_capstone/data/2021/CO_2021.csv')\n",
    "no2_21 = pd.read_csv('C:/Users/Thekra/Desktop/ds_cap/DS_capstone/data/2021/NO2_2021.csv')\n",
    "o3_21 = pd.read_csv('C:/Users/Thekra/Desktop/ds_cap/DS_capstone/data/2021/O3_2021.csv')\n",
    "pm25_21= pd.read_csv('C:/Users/Thekra/Desktop/ds_cap/DS_capstone/data/2021/PM2.5_2021.csv')\n",
    "pm10_21 =pd.read_csv('C:/Users/Thekra/Desktop/ds_cap/DS_capstone/data/2021/PM10_2021.csv')"
   ]
  },
  {
   "cell_type": "code",
   "execution_count": null,
   "metadata": {},
   "outputs": [],
   "source": [
    "#load covid-19 data\n",
    "covid= pd.read_csv('C:/Users/Thekra/Desktop/ds_cap/DS_capstone/data/COVID-19_CA/covid19cases_deaths.csv')"
   ]
  },
  {
   "cell_type": "code",
   "execution_count": 94,
   "metadata": {},
   "outputs": [
    {
     "name": "stdout",
     "output_type": "stream",
     "text": [
      "25\n",
      "43\n",
      "33\n",
      "51\n",
      "49\n"
     ]
    }
   ],
   "source": [
    "#each dataset has different number of counties \n",
    "print(co_19.COUNTY.nunique())\n",
    "print(pm10_19.COUNTY.nunique())\n",
    "print(no2_19.COUNTY.nunique())\n",
    "print(pm25_19.COUNTY.nunique())\n",
    "print(o3_19.COUNTY.nunique())"
   ]
  },
  {
   "cell_type": "markdown",
   "metadata": {},
   "source": [
    "California has 58 counties. This could be interpreted as missing values or simply the air pollutant is not being recorded in all counties. What matters is within the same readings of the air pollutant is to deal with mssing data there"
   ]
  },
  {
   "cell_type": "code",
   "execution_count": 95,
   "metadata": {},
   "outputs": [
    {
     "name": "stdout",
     "output_type": "stream",
     "text": [
      "25\n",
      "43\n",
      "33\n",
      "51\n",
      "49\n"
     ]
    }
   ],
   "source": [
    "#each dataset has different number of counties \n",
    "print(co_20.COUNTY.nunique())\n",
    "print(pm10_20.COUNTY.nunique())\n",
    "print(no2_20.COUNTY.nunique())\n",
    "print(pm25_20.COUNTY.nunique())\n",
    "print(o3_20.COUNTY.nunique())"
   ]
  },
  {
   "cell_type": "code",
   "execution_count": 97,
   "metadata": {},
   "outputs": [
    {
     "name": "stdout",
     "output_type": "stream",
     "text": [
      "25\n",
      "42\n",
      "33\n",
      "49\n",
      "48\n"
     ]
    }
   ],
   "source": [
    "#each dataset has different number of counties \n",
    "print(co_21.COUNTY.nunique())\n",
    "print(pm10_21.COUNTY.nunique())\n",
    "print(no2_21.COUNTY.nunique())\n",
    "print(pm25_21.COUNTY.nunique())\n",
    "print(o3_21.COUNTY.nunique())"
   ]
  },
  {
   "cell_type": "markdown",
   "metadata": {},
   "source": [
    "We notice missing values in pm10_21, pm25_21, o3_21"
   ]
  },
  {
   "cell_type": "markdown",
   "metadata": {},
   "source": [
    "Let's explore and process each year on its own first"
   ]
  },
  {
   "cell_type": "code",
   "execution_count": null,
   "metadata": {},
   "outputs": [],
   "source": [
    "co_19.head()"
   ]
  },
  {
   "cell_type": "code",
   "execution_count": null,
   "metadata": {},
   "outputs": [],
   "source": [
    "co_19.info()"
   ]
  },
  {
   "cell_type": "code",
   "execution_count": 98,
   "metadata": {},
   "outputs": [
    {
     "data": {
      "text/plain": [
       "0       2019-01-01\n",
       "1       2019-01-02\n",
       "2       2019-01-03\n",
       "3       2019-01-04\n",
       "4       2019-01-05\n",
       "           ...    \n",
       "57725   2019-12-07\n",
       "57726   2019-12-27\n",
       "57727   2019-12-28\n",
       "57728   2019-12-29\n",
       "57729   2019-12-30\n",
       "Name: Date, Length: 57730, dtype: datetime64[ns]"
      ]
     },
     "execution_count": 98,
     "metadata": {},
     "output_type": "execute_result"
    }
   ],
   "source": [
    "#We notice that 'Date' is not a Datetime format\n",
    "#convert 'Date' to datetime dtype. We choose this specific arrangement as oposed to\n",
    "# %d/%m/%y because the data is rcorded that way \n",
    "pd.to_datetime(co_19['Date'], format = \"%m/%d/%Y\")\n",
    "pd.to_datetime(pm10_19['Date'], format = \"%m/%d/%Y\")\n",
    "pd.to_datetime(pm25_19['Date'], format = \"%m/%d/%Y\")\n",
    "pd.to_datetime(no2_19['Date'], format = \"%m/%d/%Y\")\n",
    "pd.to_datetime(o3_19['Date'], format = \"%m/%d/%Y\")\n"
   ]
  },
  {
   "cell_type": "code",
   "execution_count": 99,
   "metadata": {},
   "outputs": [
    {
     "name": "stderr",
     "output_type": "stream",
     "text": [
      "C:\\Users\\Thekra\\AppData\\Local\\Temp\\ipykernel_21008\\68434089.py:2: FutureWarning: The default value of numeric_only in DataFrameGroupBy.mean is deprecated. In a future version, numeric_only will default to False. Either specify numeric_only or select only columns which should be valid for the function.\n",
      "  co_19=co_19.groupby('Date').mean()\n",
      "C:\\Users\\Thekra\\AppData\\Local\\Temp\\ipykernel_21008\\68434089.py:3: FutureWarning: The default value of numeric_only in DataFrameGroupBy.mean is deprecated. In a future version, numeric_only will default to False. Either specify numeric_only or select only columns which should be valid for the function.\n",
      "  o3_19=o3_19.groupby('Date').mean()\n",
      "C:\\Users\\Thekra\\AppData\\Local\\Temp\\ipykernel_21008\\68434089.py:4: FutureWarning: The default value of numeric_only in DataFrameGroupBy.mean is deprecated. In a future version, numeric_only will default to False. Either specify numeric_only or select only columns which should be valid for the function.\n",
      "  no2_19=no2_19.groupby('Date').mean()\n",
      "C:\\Users\\Thekra\\AppData\\Local\\Temp\\ipykernel_21008\\68434089.py:5: FutureWarning: The default value of numeric_only in DataFrameGroupBy.mean is deprecated. In a future version, numeric_only will default to False. Either specify numeric_only or select only columns which should be valid for the function.\n",
      "  pm10_19=pm10_19.groupby('Date').mean()\n",
      "C:\\Users\\Thekra\\AppData\\Local\\Temp\\ipykernel_21008\\68434089.py:6: FutureWarning: The default value of numeric_only in DataFrameGroupBy.mean is deprecated. In a future version, numeric_only will default to False. Either specify numeric_only or select only columns which should be valid for the function.\n",
      "  pm25_19=pm25_19.groupby('Date').mean()\n"
     ]
    }
   ],
   "source": [
    "#Average CO concentration across all counties on each day which automatically eliminates the column 'County'\n",
    "co_19=co_19.groupby('Date').mean()\n",
    "o3_19=o3_19.groupby('Date').mean()\n",
    "no2_19=no2_19.groupby('Date').mean()\n",
    "pm10_19=pm10_19.groupby('Date').mean()\n",
    "pm25_19=pm25_19.groupby('Date').mean()"
   ]
  },
  {
   "cell_type": "code",
   "execution_count": 100,
   "metadata": {},
   "outputs": [
    {
     "data": {
      "text/html": [
       "<div>\n",
       "<style scoped>\n",
       "    .dataframe tbody tr th:only-of-type {\n",
       "        vertical-align: middle;\n",
       "    }\n",
       "\n",
       "    .dataframe tbody tr th {\n",
       "        vertical-align: top;\n",
       "    }\n",
       "\n",
       "    .dataframe thead th {\n",
       "        text-align: right;\n",
       "    }\n",
       "</style>\n",
       "<table border=\"1\" class=\"dataframe\">\n",
       "  <thead>\n",
       "    <tr style=\"text-align: right;\">\n",
       "      <th></th>\n",
       "      <th>Site ID</th>\n",
       "      <th>POC</th>\n",
       "      <th>Daily Max 1-hour NO2 Concentration</th>\n",
       "      <th>DAILY_AQI_VALUE</th>\n",
       "      <th>DAILY_OBS_COUNT</th>\n",
       "      <th>PERCENT_COMPLETE</th>\n",
       "      <th>AQS_PARAMETER_CODE</th>\n",
       "      <th>CBSA_CODE</th>\n",
       "      <th>STATE_CODE</th>\n",
       "      <th>COUNTY_CODE</th>\n",
       "      <th>SITE_LATITUDE</th>\n",
       "      <th>SITE_LONGITUDE</th>\n",
       "    </tr>\n",
       "    <tr>\n",
       "      <th>Date</th>\n",
       "      <th></th>\n",
       "      <th></th>\n",
       "      <th></th>\n",
       "      <th></th>\n",
       "      <th></th>\n",
       "      <th></th>\n",
       "      <th></th>\n",
       "      <th></th>\n",
       "      <th></th>\n",
       "      <th></th>\n",
       "      <th></th>\n",
       "      <th></th>\n",
       "    </tr>\n",
       "  </thead>\n",
       "  <tbody>\n",
       "    <tr>\n",
       "      <th>01/01/2019</th>\n",
       "      <td>6.054638e+07</td>\n",
       "      <td>1.166667</td>\n",
       "      <td>19.560417</td>\n",
       "      <td>18.093750</td>\n",
       "      <td>23.177083</td>\n",
       "      <td>96.708333</td>\n",
       "      <td>42602.0</td>\n",
       "      <td>36027.500000</td>\n",
       "      <td>6.0</td>\n",
       "      <td>54.479167</td>\n",
       "      <td>35.704739</td>\n",
       "      <td>-119.580122</td>\n",
       "    </tr>\n",
       "    <tr>\n",
       "      <th>01/02/2019</th>\n",
       "      <td>6.054638e+07</td>\n",
       "      <td>1.166667</td>\n",
       "      <td>29.459375</td>\n",
       "      <td>27.520833</td>\n",
       "      <td>22.843750</td>\n",
       "      <td>95.333333</td>\n",
       "      <td>42602.0</td>\n",
       "      <td>36027.500000</td>\n",
       "      <td>6.0</td>\n",
       "      <td>54.479167</td>\n",
       "      <td>35.704739</td>\n",
       "      <td>-119.580122</td>\n",
       "    </tr>\n",
       "    <tr>\n",
       "      <th>01/03/2019</th>\n",
       "      <td>6.054668e+07</td>\n",
       "      <td>1.163265</td>\n",
       "      <td>30.051020</td>\n",
       "      <td>28.030612</td>\n",
       "      <td>22.959184</td>\n",
       "      <td>95.795918</td>\n",
       "      <td>42602.0</td>\n",
       "      <td>36023.673469</td>\n",
       "      <td>6.0</td>\n",
       "      <td>54.510204</td>\n",
       "      <td>35.686228</td>\n",
       "      <td>-119.569303</td>\n",
       "    </tr>\n",
       "    <tr>\n",
       "      <th>01/04/2019</th>\n",
       "      <td>6.054689e+07</td>\n",
       "      <td>1.163265</td>\n",
       "      <td>32.317347</td>\n",
       "      <td>30.214286</td>\n",
       "      <td>23.000000</td>\n",
       "      <td>95.979592</td>\n",
       "      <td>42602.0</td>\n",
       "      <td>36040.000000</td>\n",
       "      <td>6.0</td>\n",
       "      <td>54.530612</td>\n",
       "      <td>35.675181</td>\n",
       "      <td>-119.564776</td>\n",
       "    </tr>\n",
       "    <tr>\n",
       "      <th>01/05/2019</th>\n",
       "      <td>6.054689e+07</td>\n",
       "      <td>1.163265</td>\n",
       "      <td>24.112245</td>\n",
       "      <td>22.438776</td>\n",
       "      <td>23.051020</td>\n",
       "      <td>96.204082</td>\n",
       "      <td>42602.0</td>\n",
       "      <td>36040.000000</td>\n",
       "      <td>6.0</td>\n",
       "      <td>54.530612</td>\n",
       "      <td>35.675181</td>\n",
       "      <td>-119.564776</td>\n",
       "    </tr>\n",
       "  </tbody>\n",
       "</table>\n",
       "</div>"
      ],
      "text/plain": [
       "                 Site ID       POC  Daily Max 1-hour NO2 Concentration  \\\n",
       "Date                                                                     \n",
       "01/01/2019  6.054638e+07  1.166667                           19.560417   \n",
       "01/02/2019  6.054638e+07  1.166667                           29.459375   \n",
       "01/03/2019  6.054668e+07  1.163265                           30.051020   \n",
       "01/04/2019  6.054689e+07  1.163265                           32.317347   \n",
       "01/05/2019  6.054689e+07  1.163265                           24.112245   \n",
       "\n",
       "            DAILY_AQI_VALUE  DAILY_OBS_COUNT  PERCENT_COMPLETE  \\\n",
       "Date                                                             \n",
       "01/01/2019        18.093750        23.177083         96.708333   \n",
       "01/02/2019        27.520833        22.843750         95.333333   \n",
       "01/03/2019        28.030612        22.959184         95.795918   \n",
       "01/04/2019        30.214286        23.000000         95.979592   \n",
       "01/05/2019        22.438776        23.051020         96.204082   \n",
       "\n",
       "            AQS_PARAMETER_CODE     CBSA_CODE  STATE_CODE  COUNTY_CODE  \\\n",
       "Date                                                                    \n",
       "01/01/2019             42602.0  36027.500000         6.0    54.479167   \n",
       "01/02/2019             42602.0  36027.500000         6.0    54.479167   \n",
       "01/03/2019             42602.0  36023.673469         6.0    54.510204   \n",
       "01/04/2019             42602.0  36040.000000         6.0    54.530612   \n",
       "01/05/2019             42602.0  36040.000000         6.0    54.530612   \n",
       "\n",
       "            SITE_LATITUDE  SITE_LONGITUDE  \n",
       "Date                                       \n",
       "01/01/2019      35.704739     -119.580122  \n",
       "01/02/2019      35.704739     -119.580122  \n",
       "01/03/2019      35.686228     -119.569303  \n",
       "01/04/2019      35.675181     -119.564776  \n",
       "01/05/2019      35.675181     -119.564776  "
      ]
     },
     "execution_count": 100,
     "metadata": {},
     "output_type": "execute_result"
    }
   ],
   "source": [
    "no2_19.head()"
   ]
  },
  {
   "cell_type": "code",
   "execution_count": 101,
   "metadata": {},
   "outputs": [
    {
     "name": "stdout",
     "output_type": "stream",
     "text": [
      "<class 'pandas.core.frame.DataFrame'>\n",
      "Index: 365 entries, 01/01/2019 to 12/31/2019\n",
      "Data columns (total 12 columns):\n",
      " #   Column                              Non-Null Count  Dtype  \n",
      "---  ------                              --------------  -----  \n",
      " 0   Site ID                             365 non-null    float64\n",
      " 1   POC                                 365 non-null    float64\n",
      " 2   Daily Max 1-hour NO2 Concentration  365 non-null    float64\n",
      " 3   DAILY_AQI_VALUE                     365 non-null    float64\n",
      " 4   DAILY_OBS_COUNT                     365 non-null    float64\n",
      " 5   PERCENT_COMPLETE                    365 non-null    float64\n",
      " 6   AQS_PARAMETER_CODE                  365 non-null    float64\n",
      " 7   CBSA_CODE                           365 non-null    float64\n",
      " 8   STATE_CODE                          365 non-null    float64\n",
      " 9   COUNTY_CODE                         365 non-null    float64\n",
      " 10  SITE_LATITUDE                       365 non-null    float64\n",
      " 11  SITE_LONGITUDE                      365 non-null    float64\n",
      "dtypes: float64(12)\n",
      "memory usage: 37.1+ KB\n"
     ]
    }
   ],
   "source": [
    "no2_19.info()"
   ]
  },
  {
   "cell_type": "code",
   "execution_count": null,
   "metadata": {},
   "outputs": [],
   "source": [
    "#we will eliminate the following columns because of their irrelevance: Site ID, POC, Dails AQI, Daily OBS, AQSParamerter code, CBSA_code. StateCode, CountyCoe, Site latitude, site longitude"
   ]
  },
  {
   "cell_type": "code",
   "execution_count": 102,
   "metadata": {},
   "outputs": [],
   "source": [
    "no2_19.drop(['POC','CBSA_CODE','DAILY_AQI_VALUE','DAILY_OBS_COUNT',\n",
    "             'AQS_PARAMETER_CODE','STATE_CODE','COUNTY_CODE','SITE_LATITUDE','SITE_LONGITUDE'], axis=1, inplace=True)"
   ]
  },
  {
   "cell_type": "code",
   "execution_count": 103,
   "metadata": {},
   "outputs": [],
   "source": [
    "co_19.drop(['POC','CBSA_CODE','DAILY_AQI_VALUE','DAILY_OBS_COUNT',\n",
    "             'AQS_PARAMETER_CODE','STATE_CODE','COUNTY_CODE','SITE_LATITUDE','SITE_LONGITUDE'], axis=1, inplace=True)\n",
    "pm25_19.drop(['POC','CBSA_CODE','DAILY_AQI_VALUE','DAILY_OBS_COUNT',\n",
    "             'AQS_PARAMETER_CODE','STATE_CODE','COUNTY_CODE','SITE_LATITUDE','SITE_LONGITUDE'], axis=1, inplace=True)\n",
    "pm10_19.drop(['POC','CBSA_CODE','DAILY_AQI_VALUE','DAILY_OBS_COUNT',\n",
    "             'AQS_PARAMETER_CODE','STATE_CODE','COUNTY_CODE','SITE_LATITUDE','SITE_LONGITUDE'], axis=1, inplace=True)\n",
    "o3_19.drop(['POC','CBSA_CODE','DAILY_AQI_VALUE','DAILY_OBS_COUNT',\n",
    "             'AQS_PARAMETER_CODE','STATE_CODE','COUNTY_CODE','SITE_LATITUDE','SITE_LONGITUDE'], axis=1, inplace=True)"
   ]
  },
  {
   "cell_type": "code",
   "execution_count": 104,
   "metadata": {},
   "outputs": [
    {
     "data": {
      "text/html": [
       "<div>\n",
       "<style scoped>\n",
       "    .dataframe tbody tr th:only-of-type {\n",
       "        vertical-align: middle;\n",
       "    }\n",
       "\n",
       "    .dataframe tbody tr th {\n",
       "        vertical-align: top;\n",
       "    }\n",
       "\n",
       "    .dataframe thead th {\n",
       "        text-align: right;\n",
       "    }\n",
       "</style>\n",
       "<table border=\"1\" class=\"dataframe\">\n",
       "  <thead>\n",
       "    <tr style=\"text-align: right;\">\n",
       "      <th></th>\n",
       "      <th>Site ID</th>\n",
       "      <th>Daily Max 8-hour Ozone Concentration</th>\n",
       "      <th>PERCENT_COMPLETE</th>\n",
       "    </tr>\n",
       "    <tr>\n",
       "      <th>Date</th>\n",
       "      <th></th>\n",
       "      <th></th>\n",
       "      <th></th>\n",
       "    </tr>\n",
       "  </thead>\n",
       "  <tbody>\n",
       "    <tr>\n",
       "      <th>01/01/2019</th>\n",
       "      <td>6.059087e+07</td>\n",
       "      <td>0.033000</td>\n",
       "      <td>99.734177</td>\n",
       "    </tr>\n",
       "    <tr>\n",
       "      <th>01/02/2019</th>\n",
       "      <td>6.058962e+07</td>\n",
       "      <td>0.030066</td>\n",
       "      <td>99.523179</td>\n",
       "    </tr>\n",
       "    <tr>\n",
       "      <th>01/03/2019</th>\n",
       "      <td>6.059100e+07</td>\n",
       "      <td>0.028192</td>\n",
       "      <td>99.384615</td>\n",
       "    </tr>\n",
       "    <tr>\n",
       "      <th>01/04/2019</th>\n",
       "      <td>6.059098e+07</td>\n",
       "      <td>0.028737</td>\n",
       "      <td>99.884615</td>\n",
       "    </tr>\n",
       "    <tr>\n",
       "      <th>01/05/2019</th>\n",
       "      <td>6.059213e+07</td>\n",
       "      <td>0.031823</td>\n",
       "      <td>99.810127</td>\n",
       "    </tr>\n",
       "  </tbody>\n",
       "</table>\n",
       "</div>"
      ],
      "text/plain": [
       "                 Site ID  Daily Max 8-hour Ozone Concentration  \\\n",
       "Date                                                             \n",
       "01/01/2019  6.059087e+07                              0.033000   \n",
       "01/02/2019  6.058962e+07                              0.030066   \n",
       "01/03/2019  6.059100e+07                              0.028192   \n",
       "01/04/2019  6.059098e+07                              0.028737   \n",
       "01/05/2019  6.059213e+07                              0.031823   \n",
       "\n",
       "            PERCENT_COMPLETE  \n",
       "Date                          \n",
       "01/01/2019         99.734177  \n",
       "01/02/2019         99.523179  \n",
       "01/03/2019         99.384615  \n",
       "01/04/2019         99.884615  \n",
       "01/05/2019         99.810127  "
      ]
     },
     "execution_count": 104,
     "metadata": {},
     "output_type": "execute_result"
    }
   ],
   "source": [
    "o3_19.head()"
   ]
  },
  {
   "cell_type": "code",
   "execution_count": 105,
   "metadata": {},
   "outputs": [
    {
     "name": "stdout",
     "output_type": "stream",
     "text": [
      "(365, 3)\n",
      "(365, 3)\n",
      "(364, 3)\n",
      "(365, 3)\n",
      "(365, 3)\n"
     ]
    }
   ],
   "source": [
    "#missing dates in o3\n",
    "print(co_19.shape)\n",
    "print(no2_19.shape)\n",
    "print(o3_19.shape)\n",
    "print(pm10_19.shape)\n",
    "print(pm25_19.shape)"
   ]
  },
  {
   "cell_type": "code",
   "execution_count": 106,
   "metadata": {},
   "outputs": [
    {
     "data": {
      "text/plain": [
       "DatetimeIndex(['2019-12-31'], dtype='datetime64[ns]', freq=None)"
      ]
     },
     "execution_count": 106,
     "metadata": {},
     "output_type": "execute_result"
    }
   ],
   "source": [
    "#find which once and remove\n",
    "pd.date_range(start = '2019-01-01', end = '2019-12-31').difference(o3_19.index)"
   ]
  },
  {
   "cell_type": "code",
   "execution_count": 107,
   "metadata": {},
   "outputs": [
    {
     "data": {
      "text/html": [
       "<div>\n",
       "<style scoped>\n",
       "    .dataframe tbody tr th:only-of-type {\n",
       "        vertical-align: middle;\n",
       "    }\n",
       "\n",
       "    .dataframe tbody tr th {\n",
       "        vertical-align: top;\n",
       "    }\n",
       "\n",
       "    .dataframe thead th {\n",
       "        text-align: right;\n",
       "    }\n",
       "</style>\n",
       "<table border=\"1\" class=\"dataframe\">\n",
       "  <thead>\n",
       "    <tr style=\"text-align: right;\">\n",
       "      <th></th>\n",
       "      <th>Site ID</th>\n",
       "      <th>Daily Max 8-hour Ozone Concentration</th>\n",
       "      <th>PERCENT_COMPLETE</th>\n",
       "    </tr>\n",
       "    <tr>\n",
       "      <th>Date</th>\n",
       "      <th></th>\n",
       "      <th></th>\n",
       "      <th></th>\n",
       "    </tr>\n",
       "  </thead>\n",
       "  <tbody>\n",
       "    <tr>\n",
       "      <th>12/26/2019</th>\n",
       "      <td>6.059252e+07</td>\n",
       "      <td>0.031275</td>\n",
       "      <td>99.607843</td>\n",
       "    </tr>\n",
       "    <tr>\n",
       "      <th>12/27/2019</th>\n",
       "      <td>6.059040e+07</td>\n",
       "      <td>0.029230</td>\n",
       "      <td>99.447368</td>\n",
       "    </tr>\n",
       "    <tr>\n",
       "      <th>12/28/2019</th>\n",
       "      <td>6.059538e+07</td>\n",
       "      <td>0.029285</td>\n",
       "      <td>99.506329</td>\n",
       "    </tr>\n",
       "    <tr>\n",
       "      <th>12/29/2019</th>\n",
       "      <td>6.060235e+07</td>\n",
       "      <td>0.028924</td>\n",
       "      <td>99.582278</td>\n",
       "    </tr>\n",
       "    <tr>\n",
       "      <th>12/30/2019</th>\n",
       "      <td>6.059855e+07</td>\n",
       "      <td>0.028506</td>\n",
       "      <td>99.582278</td>\n",
       "    </tr>\n",
       "  </tbody>\n",
       "</table>\n",
       "</div>"
      ],
      "text/plain": [
       "                 Site ID  Daily Max 8-hour Ozone Concentration  \\\n",
       "Date                                                             \n",
       "12/26/2019  6.059252e+07                              0.031275   \n",
       "12/27/2019  6.059040e+07                              0.029230   \n",
       "12/28/2019  6.059538e+07                              0.029285   \n",
       "12/29/2019  6.060235e+07                              0.028924   \n",
       "12/30/2019  6.059855e+07                              0.028506   \n",
       "\n",
       "            PERCENT_COMPLETE  \n",
       "Date                          \n",
       "12/26/2019         99.607843  \n",
       "12/27/2019         99.447368  \n",
       "12/28/2019         99.506329  \n",
       "12/29/2019         99.582278  \n",
       "12/30/2019         99.582278  "
      ]
     },
     "execution_count": 107,
     "metadata": {},
     "output_type": "execute_result"
    }
   ],
   "source": [
    "#the result told us that the missing date is December 31. Let's check of thats true:\n",
    "o3_19.tail()"
   ]
  },
  {
   "cell_type": "code",
   "execution_count": null,
   "metadata": {},
   "outputs": [],
   "source": [
    "#rename columns\n"
   ]
  },
  {
   "cell_type": "code",
   "execution_count": null,
   "metadata": {},
   "outputs": [],
   "source": [
    "#set 'Date' as the index\n",
    "co_19.set_index('Date')\n",
    "o3_19.set_index('Date')\n",
    "no2_19.set_index('Date')\n",
    "pm10_19.set_index('Date')\n",
    "pm25_19.set_index('Date')"
   ]
  },
  {
   "cell_type": "code",
   "execution_count": null,
   "metadata": {},
   "outputs": [],
   "source": [
    "#perform groupby() on each of the 5 air quality datasets to get the daily average concentration for each county\n",
    "co_19_mean= co_19.sort_index().groupby(['Date','COUNTY'])[['Daily Max 8-hour CO Concentration']].mean().round(2)\n",
    "pm10_19_mean= pm10_19.sort_index().groupby(['Date','COUNTY'])[['Daily Mean PM10 Concentration']].mean().round(2)\n",
    "pm25_19_mean = pm25_19.sort_index().groupby(['Date','COUNTY'])[['Daily Mean PM2.5 Concentration']].mean().round(2)\n",
    "o3_19_mean = o3_19.sort_index().groupby(['Date', 'COUNTY'])[['Daily Max 8-hour Ozone Concentration']].mean().round(2)\n",
    "no2_19_mean = no2_19.sort_index().groupby(['Date','COUNTY'])[['Daily Max 1-hour NO2 Concentration']].mean().round(2)"
   ]
  },
  {
   "cell_type": "code",
   "execution_count": null,
   "metadata": {},
   "outputs": [],
   "source": [
    "#the concatenated df of 2019 datasets should have 19,345 rows (364 days * 53 counties)\n",
    "air19= pd.concat([co_19_mean, pm10_19_mean, pm25_19_mean, o3_19_mean, no2_19_mean], join='outer', axis=1)\n",
    "air19"
   ]
  },
  {
   "cell_type": "code",
   "execution_count": null,
   "metadata": {},
   "outputs": [],
   "source": [
    "#find missing dates if there's any\n",
    "pd.date_range(start = '2019-01-01', end = '2019-12-31').difference(air19.index)\n"
   ]
  },
  {
   "cell_type": "code",
   "execution_count": null,
   "metadata": {},
   "outputs": [],
   "source": [
    "#even if some counties don't have measueemnet for a specifc pollutatnt, it should be listed and have NaN for the value of that specifc pollutant"
   ]
  },
  {
   "cell_type": "code",
   "execution_count": null,
   "metadata": {},
   "outputs": [],
   "source": [
    "#check the number of counties in the dataset. counties are now indecies after appkying groupby()\n",
    "list(air19.index)"
   ]
  },
  {
   "cell_type": "code",
   "execution_count": null,
   "metadata": {},
   "outputs": [],
   "source": [
    "air19.index.unique(level='COUNTY').value_counts().sum()"
   ]
  },
  {
   "cell_type": "code",
   "execution_count": null,
   "metadata": {},
   "outputs": [],
   "source": [
    "#find columns with no recodidings on a specifc day (which indicates wrong calculation)\n",
    "air19[air19.isnull().all(axis=1)]"
   ]
  },
  {
   "cell_type": "code",
   "execution_count": null,
   "metadata": {},
   "outputs": [],
   "source": [
    "air19[air19.isnull().any(axis=1)]"
   ]
  },
  {
   "cell_type": "code",
   "execution_count": null,
   "metadata": {},
   "outputs": [],
   "source": [
    "#apply groupby() to each of the 5 air quality datasets from 2020 to get the daily average concentration for each county\n",
    "co_20_mean= co_20.sort_index().groupby(['Date', 'COUNTY'])[['Daily Max 8-hour CO Concentration']].mean().round(2)\n",
    "pm10_20_mean= pm10_20.sort_index().groupby(['Date', 'COUNTY'])[['Daily Mean PM10 Concentration']].mean().round(2)\n",
    "pm25_20_mean = pm25_20.sort_index().groupby(['Date','COUNTY'])[['Daily Mean PM2.5 Concentration']].mean().round(2)\n",
    "o3_20_mean = o3_20.sort_index().groupby(['Date','COUNTY'])[['Daily Max 8-hour Ozone Concentration']].mean().round(2)\n",
    "no2_20_mean = no2_20.sort_index().groupby(['Date','COUNTY'])[['Daily Max 1-hour NO2 Concentration']].mean().round(2)"
   ]
  },
  {
   "cell_type": "code",
   "execution_count": null,
   "metadata": {},
   "outputs": [],
   "source": [
    "#concatenate 2019 and 2020 data\n",
    "air20= pd.concat([air19, co_20_mean, pm10_20_mean, pm25_20_mean, o3_20_mean, no2_20_mean], join='outer')\n",
    "air20"
   ]
  },
  {
   "cell_type": "code",
   "execution_count": null,
   "metadata": {},
   "outputs": [],
   "source": [
    "air20.reset_index(inplace=True)"
   ]
  },
  {
   "cell_type": "code",
   "execution_count": null,
   "metadata": {},
   "outputs": [],
   "source": [
    "new_df21.info()"
   ]
  },
  {
   "cell_type": "code",
   "execution_count": null,
   "metadata": {},
   "outputs": [],
   "source": [
    "new_df21[['Date', 'COUNTY']].duplicated().sum()"
   ]
  },
  {
   "cell_type": "code",
   "execution_count": null,
   "metadata": {},
   "outputs": [],
   "source": [
    "#apply groupby() on each of the 5 air quality datasets from 2021 to get the daily average concentration for each county\n",
    "co_21_mean= co_21.sort_index().groupby(['Date','COUNTY'])[['Daily Max 8-hour CO Concentration']].mean().round(2)\n",
    "pm10_21_mean= pm10_21.sort_index().groupby(['Date','COUNTY'])[['Daily Mean PM10 Concentration']].mean().round(2)\n",
    "pm25_21_mean = pm25_21.sort_index().groupby(['Date','COUNTY'])[['Daily Mean PM2.5 Concentration']].mean().round(2)\n",
    "o3_21_mean = o3_21.sort_index().groupby(['Date', 'COUNTY'])[['Daily Max 8-hour Ozone Concentration']].mean().round(2)\n",
    "no2_21_mean = no2_21.sort_index().groupby(['Date','COUNTY'])[['Daily Max 1-hour NO2 Concentration']].mean().round(2)"
   ]
  },
  {
   "cell_type": "code",
   "execution_count": null,
   "metadata": {},
   "outputs": [],
   "source": [
    "co_21.sort_index().groupby(['Date','COUNTY'])[['Daily Max 8-hour CO Concentration']].mean().round(2)"
   ]
  },
  {
   "cell_type": "code",
   "execution_count": null,
   "metadata": {},
   "outputs": [],
   "source": [
    "print(co_21_mean.shape)\n",
    "print(no2_21_mean.shape)\n",
    "print(o3_21_mean.shape)\n",
    "print(pm10_21_mean.shape)\n",
    "print(pm25_21_mean.shape)"
   ]
  },
  {
   "cell_type": "code",
   "execution_count": null,
   "metadata": {},
   "outputs": [],
   "source": [
    "#new_df20.reset_index(inplace=True)"
   ]
  },
  {
   "cell_type": "code",
   "execution_count": null,
   "metadata": {},
   "outputs": [],
   "source": [
    "#co_21_mean.reset_index(inplace=True)\n",
    "#pm10_21_mean.reset_index(inplace=True)\n",
    "#pm25_21_mean.reset_index(inplace=True)\n",
    "#o3_21_mean.reset_index(inplace=True)\n",
    "#no2_21_mean.reset_index(inplace=True)"
   ]
  },
  {
   "cell_type": "code",
   "execution_count": null,
   "metadata": {},
   "outputs": [],
   "source": [
    "#the concatenated df of 2021 datasets should have 19,345 rows\n",
    "air21= pd.merge([co_21_mean, pm10_21_mean, pm25_21_mean, o3_21_mean, no2_21_mean], on='Date')\n",
    "air21"
   ]
  },
  {
   "cell_type": "code",
   "execution_count": null,
   "metadata": {},
   "outputs": [],
   "source": [
    "#the concatenated df of 2021 datasets should have 18,980 rows (52 counties * 365 days)\n",
    "air21= pd.concat([co_21_mean, pm10_21_mean, pm25_21_mean, o3_21_mean, no2_21_mean], join='outer', axis=1)\n",
    "air21"
   ]
  },
  {
   "cell_type": "code",
   "execution_count": null,
   "metadata": {},
   "outputs": [],
   "source": [
    "#number of counties in 2021 dataset\n",
    "air21.index.unique(level='COUNTY').value_counts().sum()"
   ]
  },
  {
   "cell_type": "code",
   "execution_count": null,
   "metadata": {},
   "outputs": [],
   "source": [
    "#check for missing dates\n",
    "pd.date_range(start = '2021-01-01', end = '2021-12-31').difference(air19.index)\n"
   ]
  },
  {
   "cell_type": "code",
   "execution_count": null,
   "metadata": {},
   "outputs": [],
   "source": [
    "air21.reset_index(inplace=True)"
   ]
  },
  {
   "cell_type": "code",
   "execution_count": null,
   "metadata": {},
   "outputs": [],
   "source": [
    "#check for duplicates\n",
    "air21.duplicated().value_counts()"
   ]
  },
  {
   "cell_type": "code",
   "execution_count": null,
   "metadata": {},
   "outputs": [],
   "source": [
    "#check the unique counties in COVID-19 and air19 datasets\n",
    "cov_county = list(covid.area.unique())\n",
    "cov_county"
   ]
  },
  {
   "cell_type": "code",
   "execution_count": null,
   "metadata": {},
   "outputs": [],
   "source": [
    "covid.area.unique()"
   ]
  },
  {
   "cell_type": "code",
   "execution_count": null,
   "metadata": {},
   "outputs": [],
   "source": [
    "[x for x in covid.area.unique() if x not in air19.index]"
   ]
  },
  {
   "cell_type": "code",
   "execution_count": null,
   "metadata": {},
   "outputs": [],
   "source": [
    "for x in covid.area.unique():\n",
    "    if x not in co_19.COUNTY.unique():\n",
    "        print(x)"
   ]
  },
  {
   "cell_type": "code",
   "execution_count": null,
   "metadata": {},
   "outputs": [],
   "source": [
    "list(air21.index.values.sum())"
   ]
  },
  {
   "cell_type": "code",
   "execution_count": null,
   "metadata": {},
   "outputs": [],
   "source": [
    "air21.index.values.tolist()"
   ]
  },
  {
   "cell_type": "markdown",
   "metadata": {},
   "source": [
    "------------------------------------------------------------------------------------------------------------"
   ]
  },
  {
   "cell_type": "code",
   "execution_count": null,
   "metadata": {},
   "outputs": [],
   "source": [
    "co_19.set_index('Date')\n",
    "o3_19.set_index('Date')\n",
    "no2_19.set_index('Date')\n",
    "pm10_19.set_index('Date')\n",
    "pm25_19.set_index('Date')\n",
    "co_20.set_index('Date')\n",
    "o3_20.set_index('Date')\n",
    "no2_20.set_index('Date')\n",
    "pm10_20.set_index('Date')\n",
    "pm25_20.set_index('Date')"
   ]
  },
  {
   "cell_type": "code",
   "execution_count": null,
   "metadata": {},
   "outputs": [],
   "source": [
    "#concat() 2019 data\n",
    "new_df= pd.concat([co_19, pm10_19, pm25_19, o3_19, no2_19], join='outer', axis=1)\n",
    "new_df"
   ]
  },
  {
   "cell_type": "code",
   "execution_count": null,
   "metadata": {},
   "outputs": [],
   "source": [
    "#concat 2019 and 2020 data\n",
    "new_df20= pd.concat([new_df, co_20, pm10_20, pm25_20, o3_20, no2_20], join='outer')\n",
    "new_df20"
   ]
  },
  {
   "cell_type": "code",
   "execution_count": null,
   "metadata": {},
   "outputs": [],
   "source": [
    "new_df = pd.concat([co_19, no2_19, o3_19, pm25_19, pm10_19])\n",
    "\n",
    "new_df_county= list(new_df.COUNTY.unique())\n",
    "cov_county = list(covid.area.unique())\n",
    "\n",
    "[x for x in cov_county if x not in new_df_county]"
   ]
  },
  {
   "cell_type": "code",
   "execution_count": null,
   "metadata": {},
   "outputs": [],
   "source": [
    "new_df"
   ]
  },
  {
   "cell_type": "code",
   "execution_count": null,
   "metadata": {},
   "outputs": [],
   "source": [
    "counties = {'county':['Alameda','Amador','Butte','Calaveras','Colusa', 'Contra Costa', 'Del Norte',\n",
    "'El Dorado','Fresno', 'Glenn','Humboldt','Imperial','Inyo','Kern','Kings','Lake','Los Angeles','Madera',\n",
    "'Marin','Mariposa','Merced', 'Mono','Monterey','Napa','Nevada','Orange','Placer','Plumas','Riverside','Sacramento',\n",
    "'San Benito','San Bernardino','San Diego','San Francisco','San Joaquin','San Luis Obispo','San Mateo','Santa Barbara',\n",
    "'Santa Clara','Santa Cruz','Shasta','Siskiyou','Solano','Sonoma','Stanislaus','Sutter','Tehama','Trinity','Tulare',\n",
    "'Tuolumne','Ventura','Yolo']}"
   ]
  },
  {
   "cell_type": "code",
   "execution_count": null,
   "metadata": {},
   "outputs": [],
   "source": [
    "df= pd.DataFrame(counties)\n",
    "df"
   ]
  },
  {
   "cell_type": "code",
   "execution_count": null,
   "metadata": {},
   "outputs": [],
   "source": [
    "df['date']=pd.date_range(start='2021-01-01', end= '2021-12-31')"
   ]
  },
  {
   "cell_type": "code",
   "execution_count": null,
   "metadata": {},
   "outputs": [],
   "source": [
    "df_county_date= pd.date_range(start='2021-01-01', end= '2021-12-31')\n",
    "df_county_date"
   ]
  },
  {
   "cell_type": "code",
   "execution_count": null,
   "metadata": {},
   "outputs": [],
   "source": [
    "df_county_date['county']= counties"
   ]
  }
 ],
 "metadata": {
  "interpreter": {
   "hash": "d4d1e4263499bec80672ea0156c357c1ee493ec2b1c70f0acce89fc37c4a6abe"
  },
  "kernelspec": {
   "display_name": "Python 3.9.7 ('base')",
   "language": "python",
   "name": "python3"
  },
  "language_info": {
   "codemirror_mode": {
    "name": "ipython",
    "version": 3
   },
   "file_extension": ".py",
   "mimetype": "text/x-python",
   "name": "python",
   "nbconvert_exporter": "python",
   "pygments_lexer": "ipython3",
   "version": "3.9.7"
  },
  "orig_nbformat": 4
 },
 "nbformat": 4,
 "nbformat_minor": 2
}
