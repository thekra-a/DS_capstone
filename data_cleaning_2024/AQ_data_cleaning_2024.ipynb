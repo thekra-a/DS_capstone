{
 "cells": [
  {
   "cell_type": "code",
   "execution_count": null,
   "metadata": {},
   "outputs": [],
   "source": [
    "pip install seaborn"
   ]
  },
  {
   "cell_type": "code",
   "execution_count": 6,
   "metadata": {},
   "outputs": [],
   "source": [
    "import pandas as pd\n",
    "import numpy as np\n",
    "import matplotlib.pyplot as plt\n",
    "import seaborn as sns\n",
    "import glob as glob"
   ]
  },
  {
   "cell_type": "code",
   "execution_count": 7,
   "metadata": {},
   "outputs": [],
   "source": [
    "#load 2019 air quality data\n",
    "co_19 = pd.read_csv('C:/Users/Thekra/Desktop/ds_cap/DS_capstone/data/2019/CO_2019.csv')\n",
    "no2_19 = pd.read_csv('C:/Users/Thekra/Desktop/ds_cap/DS_capstone/data/2019/NO2_2019.csv')\n",
    "o3_19 = pd.read_csv('C:/Users/Thekra/Desktop/ds_cap/DS_capstone/data/2019/O3_2019.csv')\n",
    "pm25_19= pd.read_csv('C:/Users/Thekra/Desktop/ds_cap/DS_capstone/data/2019/PM2.5_2019.csv')\n",
    "pm10_19 =pd.read_csv('C:/Users/Thekra/Desktop/ds_cap/DS_capstone/data/2019/PM10_2019.csv')"
   ]
  },
  {
   "cell_type": "code",
   "execution_count": 8,
   "metadata": {},
   "outputs": [],
   "source": [
    "#load 2020 air quality data\n",
    "co_20 = pd.read_csv('C:/Users/Thekra/Desktop/ds_cap/DS_capstone/data/2020/CO_2020.csv')\n",
    "no2_20 = pd.read_csv('C:/Users/Thekra/Desktop/ds_cap/DS_capstone/data/2020/NO2_2020.csv')\n",
    "o3_20 = pd.read_csv('C:/Users/Thekra/Desktop/ds_cap/DS_capstone/data/2020/O3_2020.csv')\n",
    "pm25_20= pd.read_csv('C:/Users/Thekra/Desktop/ds_cap/DS_capstone/data/2020/PM2.5_2020.csv')\n",
    "pm10_20 =pd.read_csv('C:/Users/Thekra/Desktop/ds_cap/DS_capstone/data/2020/PM10_2020.csv')"
   ]
  },
  {
   "cell_type": "code",
   "execution_count": 9,
   "metadata": {},
   "outputs": [],
   "source": [
    "#load 2021 air quality data\n",
    "co_21 = pd.read_csv('C:/Users/Thekra/Desktop/ds_cap/DS_capstone/data/2021/CO_2021.csv')\n",
    "no2_21 = pd.read_csv('C:/Users/Thekra/Desktop/ds_cap/DS_capstone/data/2021/NO2_2021.csv')\n",
    "o3_21 = pd.read_csv('C:/Users/Thekra/Desktop/ds_cap/DS_capstone/data/2021/O3_2021.csv')\n",
    "pm25_21= pd.read_csv('C:/Users/Thekra/Desktop/ds_cap/DS_capstone/data/2021/PM2.5_2021.csv')\n",
    "pm10_21 =pd.read_csv('C:/Users/Thekra/Desktop/ds_cap/DS_capstone/data/2021/PM10_2021.csv')"
   ]
  },
  {
   "cell_type": "code",
   "execution_count": 10,
   "metadata": {},
   "outputs": [],
   "source": [
    "#load covid-19 data\n",
    "covid= pd.read_csv('C:/Users/Thekra/Desktop/ds_cap/DS_capstone/data/COVID-19_CA/covid19cases_deaths.csv')"
   ]
  },
  {
   "cell_type": "code",
   "execution_count": 11,
   "metadata": {},
   "outputs": [],
   "source": [
    "#view shape of 2019 datasets to compare the number  of entries after groupingby()"
   ]
  },
  {
   "cell_type": "code",
   "execution_count": 12,
   "metadata": {},
   "outputs": [
    {
     "name": "stdout",
     "output_type": "stream",
     "text": [
      "25\n",
      "43\n",
      "33\n",
      "51\n",
      "49\n"
     ]
    }
   ],
   "source": [
    "#each dataset has different number of counties \n",
    "print(co_19.COUNTY.nunique())\n",
    "print(pm10_19.COUNTY.nunique())\n",
    "print(no2_19.COUNTY.nunique())\n",
    "print(pm25_19.COUNTY.nunique())\n",
    "print(o3_19.COUNTY.nunique())"
   ]
  },
  {
   "cell_type": "markdown",
   "metadata": {},
   "source": [
    "California has 58 counties. This could be interpreted as missing values or simply the air pollutant is not being recorded in all counties. What matters is within the same readings of the air pollutant is to deal with mssing data there"
   ]
  },
  {
   "cell_type": "code",
   "execution_count": 13,
   "metadata": {},
   "outputs": [
    {
     "name": "stdout",
     "output_type": "stream",
     "text": [
      "25\n",
      "43\n",
      "33\n",
      "51\n",
      "49\n"
     ]
    }
   ],
   "source": [
    "#each dataset has different number of counties in 2020\n",
    "print(co_20.COUNTY.nunique())\n",
    "print(pm10_20.COUNTY.nunique())\n",
    "print(no2_20.COUNTY.nunique())\n",
    "print(pm25_20.COUNTY.nunique())\n",
    "print(o3_20.COUNTY.nunique())"
   ]
  },
  {
   "cell_type": "code",
   "execution_count": 14,
   "metadata": {},
   "outputs": [
    {
     "name": "stdout",
     "output_type": "stream",
     "text": [
      "25\n",
      "42\n",
      "33\n",
      "49\n",
      "48\n"
     ]
    }
   ],
   "source": [
    " #each dataset has different number of counties in 2021\n",
    "print(co_21.COUNTY.nunique())\n",
    "print(pm10_21.COUNTY.nunique())\n",
    "print(no2_21.COUNTY.nunique())\n",
    "print(pm25_21.COUNTY.nunique())\n",
    "print(o3_21.COUNTY.nunique())"
   ]
  },
  {
   "cell_type": "markdown",
   "metadata": {},
   "source": [
    "We notice missing values in pm10_21, pm25_21, . Will deal with it later when we get to 2021. Now lets work on 2019"
   ]
  },
  {
   "cell_type": "markdown",
   "metadata": {},
   "source": [
    "Let's explore and process each year on its own first"
   ]
  },
  {
   "cell_type": "code",
   "execution_count": 15,
   "metadata": {},
   "outputs": [
    {
     "data": {
      "text/html": [
       "<div>\n",
       "<style scoped>\n",
       "    .dataframe tbody tr th:only-of-type {\n",
       "        vertical-align: middle;\n",
       "    }\n",
       "\n",
       "    .dataframe tbody tr th {\n",
       "        vertical-align: top;\n",
       "    }\n",
       "\n",
       "    .dataframe thead th {\n",
       "        text-align: right;\n",
       "    }\n",
       "</style>\n",
       "<table border=\"1\" class=\"dataframe\">\n",
       "  <thead>\n",
       "    <tr style=\"text-align: right;\">\n",
       "      <th></th>\n",
       "      <th>Date</th>\n",
       "      <th>Source</th>\n",
       "      <th>Site ID</th>\n",
       "      <th>POC</th>\n",
       "      <th>Daily Max 8-hour CO Concentration</th>\n",
       "      <th>UNITS</th>\n",
       "      <th>DAILY_AQI_VALUE</th>\n",
       "      <th>Site Name</th>\n",
       "      <th>DAILY_OBS_COUNT</th>\n",
       "      <th>PERCENT_COMPLETE</th>\n",
       "      <th>AQS_PARAMETER_CODE</th>\n",
       "      <th>AQS_PARAMETER_DESC</th>\n",
       "      <th>CBSA_CODE</th>\n",
       "      <th>CBSA_NAME</th>\n",
       "      <th>STATE_CODE</th>\n",
       "      <th>STATE</th>\n",
       "      <th>COUNTY_CODE</th>\n",
       "      <th>COUNTY</th>\n",
       "      <th>SITE_LATITUDE</th>\n",
       "      <th>SITE_LONGITUDE</th>\n",
       "    </tr>\n",
       "  </thead>\n",
       "  <tbody>\n",
       "    <tr>\n",
       "      <th>0</th>\n",
       "      <td>01/01/2019</td>\n",
       "      <td>AQS</td>\n",
       "      <td>60010009</td>\n",
       "      <td>1</td>\n",
       "      <td>0.4</td>\n",
       "      <td>ppm</td>\n",
       "      <td>5</td>\n",
       "      <td>Oakland</td>\n",
       "      <td>18</td>\n",
       "      <td>75.0</td>\n",
       "      <td>42101</td>\n",
       "      <td>Carbon monoxide</td>\n",
       "      <td>41860</td>\n",
       "      <td>San Francisco-Oakland-Hayward, CA</td>\n",
       "      <td>6</td>\n",
       "      <td>California</td>\n",
       "      <td>1</td>\n",
       "      <td>Alameda</td>\n",
       "      <td>37.743065</td>\n",
       "      <td>-122.169935</td>\n",
       "    </tr>\n",
       "    <tr>\n",
       "      <th>1</th>\n",
       "      <td>01/02/2019</td>\n",
       "      <td>AQS</td>\n",
       "      <td>60010009</td>\n",
       "      <td>1</td>\n",
       "      <td>0.6</td>\n",
       "      <td>ppm</td>\n",
       "      <td>7</td>\n",
       "      <td>Oakland</td>\n",
       "      <td>24</td>\n",
       "      <td>100.0</td>\n",
       "      <td>42101</td>\n",
       "      <td>Carbon monoxide</td>\n",
       "      <td>41860</td>\n",
       "      <td>San Francisco-Oakland-Hayward, CA</td>\n",
       "      <td>6</td>\n",
       "      <td>California</td>\n",
       "      <td>1</td>\n",
       "      <td>Alameda</td>\n",
       "      <td>37.743065</td>\n",
       "      <td>-122.169935</td>\n",
       "    </tr>\n",
       "    <tr>\n",
       "      <th>2</th>\n",
       "      <td>01/03/2019</td>\n",
       "      <td>AQS</td>\n",
       "      <td>60010009</td>\n",
       "      <td>1</td>\n",
       "      <td>0.6</td>\n",
       "      <td>ppm</td>\n",
       "      <td>7</td>\n",
       "      <td>Oakland</td>\n",
       "      <td>24</td>\n",
       "      <td>100.0</td>\n",
       "      <td>42101</td>\n",
       "      <td>Carbon monoxide</td>\n",
       "      <td>41860</td>\n",
       "      <td>San Francisco-Oakland-Hayward, CA</td>\n",
       "      <td>6</td>\n",
       "      <td>California</td>\n",
       "      <td>1</td>\n",
       "      <td>Alameda</td>\n",
       "      <td>37.743065</td>\n",
       "      <td>-122.169935</td>\n",
       "    </tr>\n",
       "    <tr>\n",
       "      <th>3</th>\n",
       "      <td>01/04/2019</td>\n",
       "      <td>AQS</td>\n",
       "      <td>60010009</td>\n",
       "      <td>1</td>\n",
       "      <td>0.7</td>\n",
       "      <td>ppm</td>\n",
       "      <td>8</td>\n",
       "      <td>Oakland</td>\n",
       "      <td>24</td>\n",
       "      <td>100.0</td>\n",
       "      <td>42101</td>\n",
       "      <td>Carbon monoxide</td>\n",
       "      <td>41860</td>\n",
       "      <td>San Francisco-Oakland-Hayward, CA</td>\n",
       "      <td>6</td>\n",
       "      <td>California</td>\n",
       "      <td>1</td>\n",
       "      <td>Alameda</td>\n",
       "      <td>37.743065</td>\n",
       "      <td>-122.169935</td>\n",
       "    </tr>\n",
       "    <tr>\n",
       "      <th>4</th>\n",
       "      <td>01/05/2019</td>\n",
       "      <td>AQS</td>\n",
       "      <td>60010009</td>\n",
       "      <td>1</td>\n",
       "      <td>0.6</td>\n",
       "      <td>ppm</td>\n",
       "      <td>7</td>\n",
       "      <td>Oakland</td>\n",
       "      <td>24</td>\n",
       "      <td>100.0</td>\n",
       "      <td>42101</td>\n",
       "      <td>Carbon monoxide</td>\n",
       "      <td>41860</td>\n",
       "      <td>San Francisco-Oakland-Hayward, CA</td>\n",
       "      <td>6</td>\n",
       "      <td>California</td>\n",
       "      <td>1</td>\n",
       "      <td>Alameda</td>\n",
       "      <td>37.743065</td>\n",
       "      <td>-122.169935</td>\n",
       "    </tr>\n",
       "  </tbody>\n",
       "</table>\n",
       "</div>"
      ],
      "text/plain": [
       "         Date Source   Site ID  POC  Daily Max 8-hour CO Concentration UNITS  \\\n",
       "0  01/01/2019    AQS  60010009    1                                0.4   ppm   \n",
       "1  01/02/2019    AQS  60010009    1                                0.6   ppm   \n",
       "2  01/03/2019    AQS  60010009    1                                0.6   ppm   \n",
       "3  01/04/2019    AQS  60010009    1                                0.7   ppm   \n",
       "4  01/05/2019    AQS  60010009    1                                0.6   ppm   \n",
       "\n",
       "   DAILY_AQI_VALUE Site Name  DAILY_OBS_COUNT  PERCENT_COMPLETE  \\\n",
       "0                5   Oakland               18              75.0   \n",
       "1                7   Oakland               24             100.0   \n",
       "2                7   Oakland               24             100.0   \n",
       "3                8   Oakland               24             100.0   \n",
       "4                7   Oakland               24             100.0   \n",
       "\n",
       "   AQS_PARAMETER_CODE AQS_PARAMETER_DESC  CBSA_CODE  \\\n",
       "0               42101    Carbon monoxide      41860   \n",
       "1               42101    Carbon monoxide      41860   \n",
       "2               42101    Carbon monoxide      41860   \n",
       "3               42101    Carbon monoxide      41860   \n",
       "4               42101    Carbon monoxide      41860   \n",
       "\n",
       "                           CBSA_NAME  STATE_CODE       STATE  COUNTY_CODE  \\\n",
       "0  San Francisco-Oakland-Hayward, CA           6  California            1   \n",
       "1  San Francisco-Oakland-Hayward, CA           6  California            1   \n",
       "2  San Francisco-Oakland-Hayward, CA           6  California            1   \n",
       "3  San Francisco-Oakland-Hayward, CA           6  California            1   \n",
       "4  San Francisco-Oakland-Hayward, CA           6  California            1   \n",
       "\n",
       "    COUNTY  SITE_LATITUDE  SITE_LONGITUDE  \n",
       "0  Alameda      37.743065     -122.169935  \n",
       "1  Alameda      37.743065     -122.169935  \n",
       "2  Alameda      37.743065     -122.169935  \n",
       "3  Alameda      37.743065     -122.169935  \n",
       "4  Alameda      37.743065     -122.169935  "
      ]
     },
     "execution_count": 15,
     "metadata": {},
     "output_type": "execute_result"
    }
   ],
   "source": [
    "co_19.head()"
   ]
  },
  {
   "cell_type": "code",
   "execution_count": 16,
   "metadata": {},
   "outputs": [
    {
     "name": "stdout",
     "output_type": "stream",
     "text": [
      "<class 'pandas.core.frame.DataFrame'>\n",
      "RangeIndex: 22290 entries, 0 to 22289\n",
      "Data columns (total 20 columns):\n",
      " #   Column                             Non-Null Count  Dtype  \n",
      "---  ------                             --------------  -----  \n",
      " 0   Date                               22290 non-null  object \n",
      " 1   Source                             22290 non-null  object \n",
      " 2   Site ID                            22290 non-null  int64  \n",
      " 3   POC                                22290 non-null  int64  \n",
      " 4   Daily Max 8-hour CO Concentration  22290 non-null  float64\n",
      " 5   UNITS                              22290 non-null  object \n",
      " 6   DAILY_AQI_VALUE                    22290 non-null  int64  \n",
      " 7   Site Name                          22290 non-null  object \n",
      " 8   DAILY_OBS_COUNT                    22290 non-null  int64  \n",
      " 9   PERCENT_COMPLETE                   22290 non-null  float64\n",
      " 10  AQS_PARAMETER_CODE                 22290 non-null  int64  \n",
      " 11  AQS_PARAMETER_DESC                 22290 non-null  object \n",
      " 12  CBSA_CODE                          22290 non-null  int64  \n",
      " 13  CBSA_NAME                          22290 non-null  object \n",
      " 14  STATE_CODE                         22290 non-null  int64  \n",
      " 15  STATE                              22290 non-null  object \n",
      " 16  COUNTY_CODE                        22290 non-null  int64  \n",
      " 17  COUNTY                             22290 non-null  object \n",
      " 18  SITE_LATITUDE                      22290 non-null  float64\n",
      " 19  SITE_LONGITUDE                     22290 non-null  float64\n",
      "dtypes: float64(4), int64(8), object(8)\n",
      "memory usage: 3.4+ MB\n"
     ]
    }
   ],
   "source": [
    "co_19.info()"
   ]
  },
  {
   "cell_type": "code",
   "execution_count": 17,
   "metadata": {},
   "outputs": [
    {
     "data": {
      "text/plain": [
       "0       2019-01-01\n",
       "1       2019-01-02\n",
       "2       2019-01-03\n",
       "3       2019-01-04\n",
       "4       2019-01-05\n",
       "           ...    \n",
       "57725   2019-12-07\n",
       "57726   2019-12-27\n",
       "57727   2019-12-28\n",
       "57728   2019-12-29\n",
       "57729   2019-12-30\n",
       "Name: Date, Length: 57730, dtype: datetime64[ns]"
      ]
     },
     "execution_count": 17,
     "metadata": {},
     "output_type": "execute_result"
    }
   ],
   "source": [
    "#We notice that 'Date' is not a Datetime format\n",
    "#convert 'Date' to datetime dtype. We choose this specific arrangement as opposed to\n",
    "# %d/%m/%y because the data is rcorded that way originally. This is why first inspection of the CSV file is necessary\n",
    "pd.to_datetime(co_19['Date'], format = \"%m/%d/%Y\")\n",
    "pd.to_datetime(pm10_19['Date'], format = \"%m/%d/%Y\")\n",
    "pd.to_datetime(pm25_19['Date'], format = \"%m/%d/%Y\")\n",
    "pd.to_datetime(no2_19['Date'], format = \"%m/%d/%Y\")\n",
    "pd.to_datetime(o3_19['Date'], format = \"%m/%d/%Y\")\n"
   ]
  },
  {
   "cell_type": "code",
   "execution_count": 18,
   "metadata": {},
   "outputs": [
    {
     "name": "stderr",
     "output_type": "stream",
     "text": [
      "C:\\Users\\Thekra\\AppData\\Local\\Temp\\ipykernel_5828\\3832656372.py:6: FutureWarning: The default value of numeric_only in DataFrameGroupBy.mean is deprecated. In a future version, numeric_only will default to False. Either specify numeric_only or select only columns which should be valid for the function.\n",
      "  co_19=co_19.groupby('Date').mean()\n",
      "C:\\Users\\Thekra\\AppData\\Local\\Temp\\ipykernel_5828\\3832656372.py:7: FutureWarning: The default value of numeric_only in DataFrameGroupBy.mean is deprecated. In a future version, numeric_only will default to False. Either specify numeric_only or select only columns which should be valid for the function.\n",
      "  o3_19=o3_19.groupby('Date').mean()\n",
      "C:\\Users\\Thekra\\AppData\\Local\\Temp\\ipykernel_5828\\3832656372.py:8: FutureWarning: The default value of numeric_only in DataFrameGroupBy.mean is deprecated. In a future version, numeric_only will default to False. Either specify numeric_only or select only columns which should be valid for the function.\n",
      "  no2_19=no2_19.groupby('Date').mean()\n",
      "C:\\Users\\Thekra\\AppData\\Local\\Temp\\ipykernel_5828\\3832656372.py:9: FutureWarning: The default value of numeric_only in DataFrameGroupBy.mean is deprecated. In a future version, numeric_only will default to False. Either specify numeric_only or select only columns which should be valid for the function.\n",
      "  pm10_19=pm10_19.groupby('Date').mean()\n",
      "C:\\Users\\Thekra\\AppData\\Local\\Temp\\ipykernel_5828\\3832656372.py:10: FutureWarning: The default value of numeric_only in DataFrameGroupBy.mean is deprecated. In a future version, numeric_only will default to False. Either specify numeric_only or select only columns which should be valid for the function.\n",
      "  pm25_19=pm25_19.groupby('Date').mean()\n"
     ]
    }
   ],
   "source": [
    "#Now we will groupby() date and assign that to the original dataset. \n",
    "#Rationale for grouping by date: for every day, there is around -+50 entries; one recodrding for each county\n",
    "#It's best to see the big picture and just view the concenration of that pollutant over that day,\n",
    "#aka instead of +2000 entries /rows for each dataset we will get only 365 or so depending on if there are any missing dates\n",
    "#grouping by date will automatically eliminates the column 'County'\n",
    "co_19=co_19.groupby('Date').mean()\n",
    "o3_19=o3_19.groupby('Date').mean()\n",
    "no2_19=no2_19.groupby('Date').mean()\n",
    "pm10_19=pm10_19.groupby('Date').mean()\n",
    "pm25_19=pm25_19.groupby('Date').mean()"
   ]
  },
  {
   "cell_type": "code",
   "execution_count": 19,
   "metadata": {},
   "outputs": [
    {
     "data": {
      "text/html": [
       "<div>\n",
       "<style scoped>\n",
       "    .dataframe tbody tr th:only-of-type {\n",
       "        vertical-align: middle;\n",
       "    }\n",
       "\n",
       "    .dataframe tbody tr th {\n",
       "        vertical-align: top;\n",
       "    }\n",
       "\n",
       "    .dataframe thead th {\n",
       "        text-align: right;\n",
       "    }\n",
       "</style>\n",
       "<table border=\"1\" class=\"dataframe\">\n",
       "  <thead>\n",
       "    <tr style=\"text-align: right;\">\n",
       "      <th></th>\n",
       "      <th>Site ID</th>\n",
       "      <th>POC</th>\n",
       "      <th>Daily Max 1-hour NO2 Concentration</th>\n",
       "      <th>DAILY_AQI_VALUE</th>\n",
       "      <th>DAILY_OBS_COUNT</th>\n",
       "      <th>PERCENT_COMPLETE</th>\n",
       "      <th>AQS_PARAMETER_CODE</th>\n",
       "      <th>CBSA_CODE</th>\n",
       "      <th>STATE_CODE</th>\n",
       "      <th>COUNTY_CODE</th>\n",
       "      <th>SITE_LATITUDE</th>\n",
       "      <th>SITE_LONGITUDE</th>\n",
       "    </tr>\n",
       "    <tr>\n",
       "      <th>Date</th>\n",
       "      <th></th>\n",
       "      <th></th>\n",
       "      <th></th>\n",
       "      <th></th>\n",
       "      <th></th>\n",
       "      <th></th>\n",
       "      <th></th>\n",
       "      <th></th>\n",
       "      <th></th>\n",
       "      <th></th>\n",
       "      <th></th>\n",
       "      <th></th>\n",
       "    </tr>\n",
       "  </thead>\n",
       "  <tbody>\n",
       "    <tr>\n",
       "      <th>01/01/2019</th>\n",
       "      <td>6.054638e+07</td>\n",
       "      <td>1.166667</td>\n",
       "      <td>19.560417</td>\n",
       "      <td>18.093750</td>\n",
       "      <td>23.177083</td>\n",
       "      <td>96.708333</td>\n",
       "      <td>42602.0</td>\n",
       "      <td>36027.500000</td>\n",
       "      <td>6.0</td>\n",
       "      <td>54.479167</td>\n",
       "      <td>35.704739</td>\n",
       "      <td>-119.580122</td>\n",
       "    </tr>\n",
       "    <tr>\n",
       "      <th>01/02/2019</th>\n",
       "      <td>6.054638e+07</td>\n",
       "      <td>1.166667</td>\n",
       "      <td>29.459375</td>\n",
       "      <td>27.520833</td>\n",
       "      <td>22.843750</td>\n",
       "      <td>95.333333</td>\n",
       "      <td>42602.0</td>\n",
       "      <td>36027.500000</td>\n",
       "      <td>6.0</td>\n",
       "      <td>54.479167</td>\n",
       "      <td>35.704739</td>\n",
       "      <td>-119.580122</td>\n",
       "    </tr>\n",
       "    <tr>\n",
       "      <th>01/03/2019</th>\n",
       "      <td>6.054668e+07</td>\n",
       "      <td>1.163265</td>\n",
       "      <td>30.051020</td>\n",
       "      <td>28.030612</td>\n",
       "      <td>22.959184</td>\n",
       "      <td>95.795918</td>\n",
       "      <td>42602.0</td>\n",
       "      <td>36023.673469</td>\n",
       "      <td>6.0</td>\n",
       "      <td>54.510204</td>\n",
       "      <td>35.686228</td>\n",
       "      <td>-119.569303</td>\n",
       "    </tr>\n",
       "    <tr>\n",
       "      <th>01/04/2019</th>\n",
       "      <td>6.054689e+07</td>\n",
       "      <td>1.163265</td>\n",
       "      <td>32.317347</td>\n",
       "      <td>30.214286</td>\n",
       "      <td>23.000000</td>\n",
       "      <td>95.979592</td>\n",
       "      <td>42602.0</td>\n",
       "      <td>36040.000000</td>\n",
       "      <td>6.0</td>\n",
       "      <td>54.530612</td>\n",
       "      <td>35.675181</td>\n",
       "      <td>-119.564776</td>\n",
       "    </tr>\n",
       "    <tr>\n",
       "      <th>01/05/2019</th>\n",
       "      <td>6.054689e+07</td>\n",
       "      <td>1.163265</td>\n",
       "      <td>24.112245</td>\n",
       "      <td>22.438776</td>\n",
       "      <td>23.051020</td>\n",
       "      <td>96.204082</td>\n",
       "      <td>42602.0</td>\n",
       "      <td>36040.000000</td>\n",
       "      <td>6.0</td>\n",
       "      <td>54.530612</td>\n",
       "      <td>35.675181</td>\n",
       "      <td>-119.564776</td>\n",
       "    </tr>\n",
       "  </tbody>\n",
       "</table>\n",
       "</div>"
      ],
      "text/plain": [
       "                 Site ID       POC  Daily Max 1-hour NO2 Concentration  \\\n",
       "Date                                                                     \n",
       "01/01/2019  6.054638e+07  1.166667                           19.560417   \n",
       "01/02/2019  6.054638e+07  1.166667                           29.459375   \n",
       "01/03/2019  6.054668e+07  1.163265                           30.051020   \n",
       "01/04/2019  6.054689e+07  1.163265                           32.317347   \n",
       "01/05/2019  6.054689e+07  1.163265                           24.112245   \n",
       "\n",
       "            DAILY_AQI_VALUE  DAILY_OBS_COUNT  PERCENT_COMPLETE  \\\n",
       "Date                                                             \n",
       "01/01/2019        18.093750        23.177083         96.708333   \n",
       "01/02/2019        27.520833        22.843750         95.333333   \n",
       "01/03/2019        28.030612        22.959184         95.795918   \n",
       "01/04/2019        30.214286        23.000000         95.979592   \n",
       "01/05/2019        22.438776        23.051020         96.204082   \n",
       "\n",
       "            AQS_PARAMETER_CODE     CBSA_CODE  STATE_CODE  COUNTY_CODE  \\\n",
       "Date                                                                    \n",
       "01/01/2019             42602.0  36027.500000         6.0    54.479167   \n",
       "01/02/2019             42602.0  36027.500000         6.0    54.479167   \n",
       "01/03/2019             42602.0  36023.673469         6.0    54.510204   \n",
       "01/04/2019             42602.0  36040.000000         6.0    54.530612   \n",
       "01/05/2019             42602.0  36040.000000         6.0    54.530612   \n",
       "\n",
       "            SITE_LATITUDE  SITE_LONGITUDE  \n",
       "Date                                       \n",
       "01/01/2019      35.704739     -119.580122  \n",
       "01/02/2019      35.704739     -119.580122  \n",
       "01/03/2019      35.686228     -119.569303  \n",
       "01/04/2019      35.675181     -119.564776  \n",
       "01/05/2019      35.675181     -119.564776  "
      ]
     },
     "execution_count": 19,
     "metadata": {},
     "output_type": "execute_result"
    }
   ],
   "source": [
    "#take a look at an example\n",
    "no2_19.head()"
   ]
  },
  {
   "cell_type": "markdown",
   "metadata": {},
   "source": [
    "Notice that 'County' and 'Units' were gone after grouping. \n",
    ">Explain why?"
   ]
  },
  {
   "cell_type": "code",
   "execution_count": 20,
   "metadata": {},
   "outputs": [
    {
     "name": "stdout",
     "output_type": "stream",
     "text": [
      "<class 'pandas.core.frame.DataFrame'>\n",
      "Index: 365 entries, 01/01/2019 to 12/31/2019\n",
      "Data columns (total 12 columns):\n",
      " #   Column                              Non-Null Count  Dtype  \n",
      "---  ------                              --------------  -----  \n",
      " 0   Site ID                             365 non-null    float64\n",
      " 1   POC                                 365 non-null    float64\n",
      " 2   Daily Max 1-hour NO2 Concentration  365 non-null    float64\n",
      " 3   DAILY_AQI_VALUE                     365 non-null    float64\n",
      " 4   DAILY_OBS_COUNT                     365 non-null    float64\n",
      " 5   PERCENT_COMPLETE                    365 non-null    float64\n",
      " 6   AQS_PARAMETER_CODE                  365 non-null    float64\n",
      " 7   CBSA_CODE                           365 non-null    float64\n",
      " 8   STATE_CODE                          365 non-null    float64\n",
      " 9   COUNTY_CODE                         365 non-null    float64\n",
      " 10  SITE_LATITUDE                       365 non-null    float64\n",
      " 11  SITE_LONGITUDE                      365 non-null    float64\n",
      "dtypes: float64(12)\n",
      "memory usage: 37.1+ KB\n"
     ]
    }
   ],
   "source": [
    "#for this dataset, 365 data entries (as expected) where previously it was 34,515 \n",
    "no2_19.info()"
   ]
  },
  {
   "cell_type": "markdown",
   "metadata": {},
   "source": [
    "Next step: eliminate the following columns because of their irrelevance: Site ID, POC, Dails AQI, Daily OBS, AQSParamerter code, CBSA_code. StateCode, CountyCoe, Site latitude, site longitude\n",
    "> I've decided to keep 'SITE ID' just in case the analysis shows something interesting and we want to delve deeper in analysis\n",
    "> Update: Site ID is not important because it numerical and after merging all sites will be calculated as avergaes so I'll delete that"
   ]
  },
  {
   "cell_type": "code",
   "execution_count": 21,
   "metadata": {},
   "outputs": [],
   "source": [
    "co_19.drop(['Site ID','POC','CBSA_CODE','DAILY_AQI_VALUE','DAILY_OBS_COUNT',\n",
    "             'AQS_PARAMETER_CODE','STATE_CODE','COUNTY_CODE','SITE_LATITUDE','SITE_LONGITUDE'], axis=1, inplace=True)\n",
    "pm25_19.drop(['Site ID','POC','CBSA_CODE','DAILY_AQI_VALUE','DAILY_OBS_COUNT',\n",
    "             'AQS_PARAMETER_CODE','STATE_CODE','COUNTY_CODE','SITE_LATITUDE','SITE_LONGITUDE'], axis=1, inplace=True)\n",
    "pm10_19.drop(['Site ID','POC','CBSA_CODE','DAILY_AQI_VALUE','DAILY_OBS_COUNT',\n",
    "             'AQS_PARAMETER_CODE','STATE_CODE','COUNTY_CODE','SITE_LATITUDE','SITE_LONGITUDE'], axis=1, inplace=True)\n",
    "o3_19.drop(['Site ID','POC','CBSA_CODE','DAILY_AQI_VALUE','DAILY_OBS_COUNT',\n",
    "             'AQS_PARAMETER_CODE','STATE_CODE','COUNTY_CODE','SITE_LATITUDE','SITE_LONGITUDE'], axis=1, inplace=True)\n",
    "no2_19.drop(['Site ID','POC','CBSA_CODE','DAILY_AQI_VALUE','DAILY_OBS_COUNT',\n",
    "             'AQS_PARAMETER_CODE','STATE_CODE','COUNTY_CODE','SITE_LATITUDE','SITE_LONGITUDE'], axis=1, inplace=True)"
   ]
  },
  {
   "cell_type": "code",
   "execution_count": 22,
   "metadata": {},
   "outputs": [
    {
     "data": {
      "text/html": [
       "<div>\n",
       "<style scoped>\n",
       "    .dataframe tbody tr th:only-of-type {\n",
       "        vertical-align: middle;\n",
       "    }\n",
       "\n",
       "    .dataframe tbody tr th {\n",
       "        vertical-align: top;\n",
       "    }\n",
       "\n",
       "    .dataframe thead th {\n",
       "        text-align: right;\n",
       "    }\n",
       "</style>\n",
       "<table border=\"1\" class=\"dataframe\">\n",
       "  <thead>\n",
       "    <tr style=\"text-align: right;\">\n",
       "      <th></th>\n",
       "      <th>Daily Max 8-hour Ozone Concentration</th>\n",
       "      <th>PERCENT_COMPLETE</th>\n",
       "    </tr>\n",
       "    <tr>\n",
       "      <th>Date</th>\n",
       "      <th></th>\n",
       "      <th></th>\n",
       "    </tr>\n",
       "  </thead>\n",
       "  <tbody>\n",
       "    <tr>\n",
       "      <th>01/01/2019</th>\n",
       "      <td>0.033000</td>\n",
       "      <td>99.734177</td>\n",
       "    </tr>\n",
       "    <tr>\n",
       "      <th>01/02/2019</th>\n",
       "      <td>0.030066</td>\n",
       "      <td>99.523179</td>\n",
       "    </tr>\n",
       "    <tr>\n",
       "      <th>01/03/2019</th>\n",
       "      <td>0.028192</td>\n",
       "      <td>99.384615</td>\n",
       "    </tr>\n",
       "    <tr>\n",
       "      <th>01/04/2019</th>\n",
       "      <td>0.028737</td>\n",
       "      <td>99.884615</td>\n",
       "    </tr>\n",
       "    <tr>\n",
       "      <th>01/05/2019</th>\n",
       "      <td>0.031823</td>\n",
       "      <td>99.810127</td>\n",
       "    </tr>\n",
       "  </tbody>\n",
       "</table>\n",
       "</div>"
      ],
      "text/plain": [
       "            Daily Max 8-hour Ozone Concentration  PERCENT_COMPLETE\n",
       "Date                                                              \n",
       "01/01/2019                              0.033000         99.734177\n",
       "01/02/2019                              0.030066         99.523179\n",
       "01/03/2019                              0.028192         99.384615\n",
       "01/04/2019                              0.028737         99.884615\n",
       "01/05/2019                              0.031823         99.810127"
      ]
     },
     "execution_count": 22,
     "metadata": {},
     "output_type": "execute_result"
    }
   ],
   "source": [
    "#have a look at the results\n",
    "o3_19.head()"
   ]
  },
  {
   "cell_type": "code",
   "execution_count": 23,
   "metadata": {},
   "outputs": [
    {
     "name": "stdout",
     "output_type": "stream",
     "text": [
      "(365, 2)\n",
      "(365, 2)\n",
      "(364, 2)\n",
      "(365, 2)\n",
      "(365, 2)\n"
     ]
    }
   ],
   "source": [
    "#Nice. Now, are we misisng any dates?\n",
    "print(co_19.shape)\n",
    "print(no2_19.shape)\n",
    "print(o3_19.shape)\n",
    "print(pm10_19.shape)\n",
    "print(pm25_19.shape)"
   ]
  },
  {
   "cell_type": "code",
   "execution_count": 24,
   "metadata": {},
   "outputs": [
    {
     "data": {
      "text/plain": [
       "DatetimeIndex(['2019-12-31'], dtype='datetime64[ns]', freq=None)"
      ]
     },
     "execution_count": 24,
     "metadata": {},
     "output_type": "execute_result"
    }
   ],
   "source": [
    "#missing dates in o3. It's fun to find find which day it is :)\n",
    "pd.date_range(start = '2019-01-01', end = '2019-12-31').difference(o3_19.index)"
   ]
  },
  {
   "cell_type": "code",
   "execution_count": 25,
   "metadata": {},
   "outputs": [
    {
     "data": {
      "text/html": [
       "<div>\n",
       "<style scoped>\n",
       "    .dataframe tbody tr th:only-of-type {\n",
       "        vertical-align: middle;\n",
       "    }\n",
       "\n",
       "    .dataframe tbody tr th {\n",
       "        vertical-align: top;\n",
       "    }\n",
       "\n",
       "    .dataframe thead th {\n",
       "        text-align: right;\n",
       "    }\n",
       "</style>\n",
       "<table border=\"1\" class=\"dataframe\">\n",
       "  <thead>\n",
       "    <tr style=\"text-align: right;\">\n",
       "      <th></th>\n",
       "      <th>Daily Max 8-hour Ozone Concentration</th>\n",
       "      <th>PERCENT_COMPLETE</th>\n",
       "    </tr>\n",
       "    <tr>\n",
       "      <th>Date</th>\n",
       "      <th></th>\n",
       "      <th></th>\n",
       "    </tr>\n",
       "  </thead>\n",
       "  <tbody>\n",
       "    <tr>\n",
       "      <th>12/26/2019</th>\n",
       "      <td>0.031275</td>\n",
       "      <td>99.607843</td>\n",
       "    </tr>\n",
       "    <tr>\n",
       "      <th>12/27/2019</th>\n",
       "      <td>0.029230</td>\n",
       "      <td>99.447368</td>\n",
       "    </tr>\n",
       "    <tr>\n",
       "      <th>12/28/2019</th>\n",
       "      <td>0.029285</td>\n",
       "      <td>99.506329</td>\n",
       "    </tr>\n",
       "    <tr>\n",
       "      <th>12/29/2019</th>\n",
       "      <td>0.028924</td>\n",
       "      <td>99.582278</td>\n",
       "    </tr>\n",
       "    <tr>\n",
       "      <th>12/30/2019</th>\n",
       "      <td>0.028506</td>\n",
       "      <td>99.582278</td>\n",
       "    </tr>\n",
       "  </tbody>\n",
       "</table>\n",
       "</div>"
      ],
      "text/plain": [
       "            Daily Max 8-hour Ozone Concentration  PERCENT_COMPLETE\n",
       "Date                                                              \n",
       "12/26/2019                              0.031275         99.607843\n",
       "12/27/2019                              0.029230         99.447368\n",
       "12/28/2019                              0.029285         99.506329\n",
       "12/29/2019                              0.028924         99.582278\n",
       "12/30/2019                              0.028506         99.582278"
      ]
     },
     "execution_count": 25,
     "metadata": {},
     "output_type": "execute_result"
    }
   ],
   "source": [
    "#the result told us that the missing date is December 31. Let's check of thats true:\n",
    "o3_19.tail()"
   ]
  },
  {
   "cell_type": "markdown",
   "metadata": {},
   "source": [
    "Next Step: rename columns\n",
    "First explore all the columns that we have so far after grouping by and dropping others, then rename"
   ]
  },
  {
   "cell_type": "code",
   "execution_count": 26,
   "metadata": {},
   "outputs": [
    {
     "name": "stdout",
     "output_type": "stream",
     "text": [
      "Daily Max 8-hour CO Concentration    False\n",
      "PERCENT_COMPLETE                     False\n",
      "dtype: bool\n",
      "Daily Max 8-hour Ozone Concentration    False\n",
      "PERCENT_COMPLETE                        False\n",
      "dtype: bool\n",
      "Daily Max 1-hour NO2 Concentration    False\n",
      "PERCENT_COMPLETE                      False\n",
      "dtype: bool\n",
      "Daily Mean PM10 Concentration    False\n",
      "PERCENT_COMPLETE                 False\n",
      "dtype: bool\n",
      "Daily Mean PM2.5 Concentration    False\n",
      "PERCENT_COMPLETE                  False\n",
      "dtype: bool\n"
     ]
    }
   ],
   "source": [
    "#Ok cool. Are we missing any data points at all?\n",
    "print(co_19.isna().any())\n",
    "print(o3_19.isna().any())\n",
    "print(no2_19.isna().any())\n",
    "print(pm10_19.isna().any())\n",
    "print(pm25_19.isna().any())"
   ]
  },
  {
   "cell_type": "code",
   "execution_count": 27,
   "metadata": {},
   "outputs": [
    {
     "name": "stdout",
     "output_type": "stream",
     "text": [
      "Index(['Daily Max 8-hour CO Concentration', 'PERCENT_COMPLETE'], dtype='object')\n",
      "Index(['Daily Max 1-hour NO2 Concentration', 'PERCENT_COMPLETE'], dtype='object')\n",
      "Index(['Daily Max 8-hour Ozone Concentration', 'PERCENT_COMPLETE'], dtype='object')\n",
      "Index(['Daily Mean PM10 Concentration', 'PERCENT_COMPLETE'], dtype='object')\n",
      "Index(['Daily Mean PM2.5 Concentration', 'PERCENT_COMPLETE'], dtype='object')\n"
     ]
    }
   ],
   "source": [
    "print(co_19.columns)\n",
    "print(no2_19.columns)\n",
    "print(o3_19.columns)\n",
    "print(pm10_19.columns)\n",
    "print(pm25_19.columns)"
   ]
  },
  {
   "cell_type": "code",
   "execution_count": 28,
   "metadata": {},
   "outputs": [],
   "source": [
    "#rename columns\n",
    "co_19.rename(columns={'Site ID':'site_id', 'Daily Max 8-hour CO Concentration':'daily_max_co','PERCENT_COMPLETE':'percent_complete'}, inplace=True)\n"
   ]
  },
  {
   "cell_type": "code",
   "execution_count": 29,
   "metadata": {},
   "outputs": [],
   "source": [
    "no2_19.rename(columns={'Site ID':'site_id','Daily Max 1-hour NO2 Concentration':'daily_max_no2', 'PERCENT_COMPLETE':'percent_complete'}, inplace=True)\n",
    "o3_19.rename(columns={'Site ID':'site_id','Daily Max 8-hour Ozone Concentration':'daily_max_o3','PERCENT_COMPLETE':'percent_complete'}, inplace=True)\n",
    "pm10_19.rename(columns={'Site ID':'site_id','Daily Mean PM10 Concentration':'daily_mean_pm10','PERCENT_COMPLETE':'percent_complete'}, inplace=True)\n",
    "pm25_19.rename(columns={'Site ID':'site_id','Daily Mean PM2.5 Concentration':'daily_mean_pm2.5','PERCENT_COMPLETE':'percent_complete'}, inplace=True)\n"
   ]
  },
  {
   "cell_type": "markdown",
   "metadata": {},
   "source": [
    "Rename percent_complete to indicate each percent_complete is specific to each pollutant (e.g. percent_complete_co3) so they dont get mergened togther after we pd.merge(). or explore any specific information provided in this column each dataset on its own beofore moving foreward with this dataset"
   ]
  },
  {
   "cell_type": "code",
   "execution_count": 30,
   "metadata": {},
   "outputs": [
    {
     "data": {
      "text/html": [
       "<div>\n",
       "<style scoped>\n",
       "    .dataframe tbody tr th:only-of-type {\n",
       "        vertical-align: middle;\n",
       "    }\n",
       "\n",
       "    .dataframe tbody tr th {\n",
       "        vertical-align: top;\n",
       "    }\n",
       "\n",
       "    .dataframe thead th {\n",
       "        text-align: right;\n",
       "    }\n",
       "</style>\n",
       "<table border=\"1\" class=\"dataframe\">\n",
       "  <thead>\n",
       "    <tr style=\"text-align: right;\">\n",
       "      <th></th>\n",
       "      <th>daily_mean_pm10</th>\n",
       "      <th>percent_complete</th>\n",
       "    </tr>\n",
       "    <tr>\n",
       "      <th>Date</th>\n",
       "      <th></th>\n",
       "      <th></th>\n",
       "    </tr>\n",
       "  </thead>\n",
       "  <tbody>\n",
       "    <tr>\n",
       "      <th>01/01/2019</th>\n",
       "      <td>16.166667</td>\n",
       "      <td>100.0</td>\n",
       "    </tr>\n",
       "    <tr>\n",
       "      <th>01/02/2019</th>\n",
       "      <td>17.734940</td>\n",
       "      <td>100.0</td>\n",
       "    </tr>\n",
       "    <tr>\n",
       "      <th>01/03/2019</th>\n",
       "      <td>24.357664</td>\n",
       "      <td>100.0</td>\n",
       "    </tr>\n",
       "    <tr>\n",
       "      <th>01/04/2019</th>\n",
       "      <td>23.626506</td>\n",
       "      <td>100.0</td>\n",
       "    </tr>\n",
       "    <tr>\n",
       "      <th>01/05/2019</th>\n",
       "      <td>19.404762</td>\n",
       "      <td>100.0</td>\n",
       "    </tr>\n",
       "    <tr>\n",
       "      <th>...</th>\n",
       "      <td>...</td>\n",
       "      <td>...</td>\n",
       "    </tr>\n",
       "    <tr>\n",
       "      <th>12/27/2019</th>\n",
       "      <td>10.439024</td>\n",
       "      <td>100.0</td>\n",
       "    </tr>\n",
       "    <tr>\n",
       "      <th>12/28/2019</th>\n",
       "      <td>15.768293</td>\n",
       "      <td>100.0</td>\n",
       "    </tr>\n",
       "    <tr>\n",
       "      <th>12/29/2019</th>\n",
       "      <td>15.425373</td>\n",
       "      <td>100.0</td>\n",
       "    </tr>\n",
       "    <tr>\n",
       "      <th>12/30/2019</th>\n",
       "      <td>11.462500</td>\n",
       "      <td>100.0</td>\n",
       "    </tr>\n",
       "    <tr>\n",
       "      <th>12/31/2019</th>\n",
       "      <td>14.975610</td>\n",
       "      <td>100.0</td>\n",
       "    </tr>\n",
       "  </tbody>\n",
       "</table>\n",
       "<p>365 rows × 2 columns</p>\n",
       "</div>"
      ],
      "text/plain": [
       "            daily_mean_pm10  percent_complete\n",
       "Date                                         \n",
       "01/01/2019        16.166667             100.0\n",
       "01/02/2019        17.734940             100.0\n",
       "01/03/2019        24.357664             100.0\n",
       "01/04/2019        23.626506             100.0\n",
       "01/05/2019        19.404762             100.0\n",
       "...                     ...               ...\n",
       "12/27/2019        10.439024             100.0\n",
       "12/28/2019        15.768293             100.0\n",
       "12/29/2019        15.425373             100.0\n",
       "12/30/2019        11.462500             100.0\n",
       "12/31/2019        14.975610             100.0\n",
       "\n",
       "[365 rows x 2 columns]"
      ]
     },
     "execution_count": 30,
     "metadata": {},
     "output_type": "execute_result"
    }
   ],
   "source": [
    "#have a look at how it looks now \n",
    "pm10_19"
   ]
  },
  {
   "cell_type": "markdown",
   "metadata": {},
   "source": [
    "Before we merge let's explore something fun and interesting to hone our coding skills. \n",
    "According to the dictionary, a minimum percent complete for any pollutant on any given day of 75% is required. \n",
    "Lets explore if any percent_complete is below 75?"
   ]
  },
  {
   "cell_type": "code",
   "execution_count": 31,
   "metadata": {},
   "outputs": [
    {
     "data": {
      "text/plain": [
       "daily_max_co        float64\n",
       "percent_complete    float64\n",
       "dtype: object"
      ]
     },
     "execution_count": 31,
     "metadata": {},
     "output_type": "execute_result"
    }
   ],
   "source": [
    "co_19.dtypes"
   ]
  },
  {
   "cell_type": "code",
   "execution_count": 32,
   "metadata": {},
   "outputs": [],
   "source": [
    "#It is not possible to query the column percent_complete if it is object dtype.\n",
    "#Below I tried to convert 'percent complete into an int. but I forgot that there are commas in the numbers aks float \n",
    "#the error message was basically saying that i'd lose percsion if i convert from object to int "
   ]
  },
  {
   "cell_type": "code",
   "execution_count": 33,
   "metadata": {},
   "outputs": [
    {
     "data": {
      "text/html": [
       "<div>\n",
       "<style scoped>\n",
       "    .dataframe tbody tr th:only-of-type {\n",
       "        vertical-align: middle;\n",
       "    }\n",
       "\n",
       "    .dataframe tbody tr th {\n",
       "        vertical-align: top;\n",
       "    }\n",
       "\n",
       "    .dataframe thead th {\n",
       "        text-align: right;\n",
       "    }\n",
       "</style>\n",
       "<table border=\"1\" class=\"dataframe\">\n",
       "  <thead>\n",
       "    <tr style=\"text-align: right;\">\n",
       "      <th></th>\n",
       "      <th>daily_max_co</th>\n",
       "      <th>percent_complete</th>\n",
       "    </tr>\n",
       "    <tr>\n",
       "      <th>Date</th>\n",
       "      <th></th>\n",
       "      <th></th>\n",
       "    </tr>\n",
       "  </thead>\n",
       "  <tbody>\n",
       "    <tr>\n",
       "      <th>01/01/2019</th>\n",
       "      <td>0.477049</td>\n",
       "      <td>75.868852</td>\n",
       "    </tr>\n",
       "    <tr>\n",
       "      <th>01/02/2019</th>\n",
       "      <td>0.685246</td>\n",
       "      <td>95.786885</td>\n",
       "    </tr>\n",
       "    <tr>\n",
       "      <th>01/03/2019</th>\n",
       "      <td>0.766129</td>\n",
       "      <td>96.580645</td>\n",
       "    </tr>\n",
       "    <tr>\n",
       "      <th>01/04/2019</th>\n",
       "      <td>0.830645</td>\n",
       "      <td>98.129032</td>\n",
       "    </tr>\n",
       "    <tr>\n",
       "      <th>01/05/2019</th>\n",
       "      <td>0.840323</td>\n",
       "      <td>99.193548</td>\n",
       "    </tr>\n",
       "    <tr>\n",
       "      <th>...</th>\n",
       "      <td>...</td>\n",
       "      <td>...</td>\n",
       "    </tr>\n",
       "    <tr>\n",
       "      <th>12/27/2019</th>\n",
       "      <td>0.608333</td>\n",
       "      <td>96.550000</td>\n",
       "    </tr>\n",
       "    <tr>\n",
       "      <th>12/28/2019</th>\n",
       "      <td>0.693333</td>\n",
       "      <td>98.683333</td>\n",
       "    </tr>\n",
       "    <tr>\n",
       "      <th>12/29/2019</th>\n",
       "      <td>0.788333</td>\n",
       "      <td>98.966667</td>\n",
       "    </tr>\n",
       "    <tr>\n",
       "      <th>12/30/2019</th>\n",
       "      <td>0.698333</td>\n",
       "      <td>99.033333</td>\n",
       "    </tr>\n",
       "    <tr>\n",
       "      <th>12/31/2019</th>\n",
       "      <td>0.648333</td>\n",
       "      <td>96.066667</td>\n",
       "    </tr>\n",
       "  </tbody>\n",
       "</table>\n",
       "<p>365 rows × 2 columns</p>\n",
       "</div>"
      ],
      "text/plain": [
       "            daily_max_co  percent_complete\n",
       "Date                                      \n",
       "01/01/2019      0.477049         75.868852\n",
       "01/02/2019      0.685246         95.786885\n",
       "01/03/2019      0.766129         96.580645\n",
       "01/04/2019      0.830645         98.129032\n",
       "01/05/2019      0.840323         99.193548\n",
       "...                  ...               ...\n",
       "12/27/2019      0.608333         96.550000\n",
       "12/28/2019      0.693333         98.683333\n",
       "12/29/2019      0.788333         98.966667\n",
       "12/30/2019      0.698333         99.033333\n",
       "12/31/2019      0.648333         96.066667\n",
       "\n",
       "[365 rows x 2 columns]"
      ]
     },
     "execution_count": 33,
     "metadata": {},
     "output_type": "execute_result"
    }
   ],
   "source": [
    "co_19.astype('float64')"
   ]
  },
  {
   "cell_type": "code",
   "execution_count": 34,
   "metadata": {},
   "outputs": [
    {
     "data": {
      "text/plain": [
       "False"
      ]
     },
     "execution_count": 34,
     "metadata": {},
     "output_type": "execute_result"
    }
   ],
   "source": [
    "#find any % compete below 75\n",
    "(co_19['percent_complete'] < 75.0).any()"
   ]
  },
  {
   "cell_type": "code",
   "execution_count": 35,
   "metadata": {},
   "outputs": [
    {
     "data": {
      "text/html": [
       "<div>\n",
       "<style scoped>\n",
       "    .dataframe tbody tr th:only-of-type {\n",
       "        vertical-align: middle;\n",
       "    }\n",
       "\n",
       "    .dataframe tbody tr th {\n",
       "        vertical-align: top;\n",
       "    }\n",
       "\n",
       "    .dataframe thead th {\n",
       "        text-align: right;\n",
       "    }\n",
       "</style>\n",
       "<table border=\"1\" class=\"dataframe\">\n",
       "  <thead>\n",
       "    <tr style=\"text-align: right;\">\n",
       "      <th></th>\n",
       "      <th>daily_mean_pm2.5</th>\n",
       "      <th>percent_complete</th>\n",
       "    </tr>\n",
       "    <tr>\n",
       "      <th>Date</th>\n",
       "      <th></th>\n",
       "      <th></th>\n",
       "    </tr>\n",
       "  </thead>\n",
       "  <tbody>\n",
       "    <tr>\n",
       "      <th>01/01/2019</th>\n",
       "      <td>9.606452</td>\n",
       "      <td>100.0</td>\n",
       "    </tr>\n",
       "    <tr>\n",
       "      <th>01/02/2019</th>\n",
       "      <td>12.747414</td>\n",
       "      <td>100.0</td>\n",
       "    </tr>\n",
       "    <tr>\n",
       "      <th>01/03/2019</th>\n",
       "      <td>16.041667</td>\n",
       "      <td>100.0</td>\n",
       "    </tr>\n",
       "    <tr>\n",
       "      <th>01/04/2019</th>\n",
       "      <td>18.258065</td>\n",
       "      <td>100.0</td>\n",
       "    </tr>\n",
       "    <tr>\n",
       "      <th>01/05/2019</th>\n",
       "      <td>11.968293</td>\n",
       "      <td>100.0</td>\n",
       "    </tr>\n",
       "    <tr>\n",
       "      <th>...</th>\n",
       "      <td>...</td>\n",
       "      <td>...</td>\n",
       "    </tr>\n",
       "    <tr>\n",
       "      <th>12/27/2019</th>\n",
       "      <td>7.513821</td>\n",
       "      <td>100.0</td>\n",
       "    </tr>\n",
       "    <tr>\n",
       "      <th>12/28/2019</th>\n",
       "      <td>12.344715</td>\n",
       "      <td>100.0</td>\n",
       "    </tr>\n",
       "    <tr>\n",
       "      <th>12/29/2019</th>\n",
       "      <td>12.076020</td>\n",
       "      <td>100.0</td>\n",
       "    </tr>\n",
       "    <tr>\n",
       "      <th>12/30/2019</th>\n",
       "      <td>8.441667</td>\n",
       "      <td>100.0</td>\n",
       "    </tr>\n",
       "    <tr>\n",
       "      <th>12/31/2019</th>\n",
       "      <td>11.286508</td>\n",
       "      <td>100.0</td>\n",
       "    </tr>\n",
       "  </tbody>\n",
       "</table>\n",
       "<p>365 rows × 2 columns</p>\n",
       "</div>"
      ],
      "text/plain": [
       "            daily_mean_pm2.5  percent_complete\n",
       "Date                                          \n",
       "01/01/2019          9.606452             100.0\n",
       "01/02/2019         12.747414             100.0\n",
       "01/03/2019         16.041667             100.0\n",
       "01/04/2019         18.258065             100.0\n",
       "01/05/2019         11.968293             100.0\n",
       "...                      ...               ...\n",
       "12/27/2019          7.513821             100.0\n",
       "12/28/2019         12.344715             100.0\n",
       "12/29/2019         12.076020             100.0\n",
       "12/30/2019          8.441667             100.0\n",
       "12/31/2019         11.286508             100.0\n",
       "\n",
       "[365 rows x 2 columns]"
      ]
     },
     "execution_count": 35,
     "metadata": {},
     "output_type": "execute_result"
    }
   ],
   "source": [
    "#lets do the same for the rest\n",
    "no2_19.astype('float64')\n",
    "o3_19.astype('float64')\n",
    "pm10_19.astype('float64')\n",
    "pm25_19.astype('float64')"
   ]
  },
  {
   "cell_type": "code",
   "execution_count": 36,
   "metadata": {},
   "outputs": [
    {
     "name": "stdout",
     "output_type": "stream",
     "text": [
      "False\n",
      "False\n",
      "False\n",
      "False\n"
     ]
    }
   ],
   "source": [
    "print((no2_19['percent_complete'] < 75.0).any())\n",
    "print((o3_19['percent_complete'] < 75.0).any())\n",
    "print((pm10_19['percent_complete'] < 75.0).any())\n",
    "print((pm25_19['percent_complete'] < 75.0).any())"
   ]
  },
  {
   "cell_type": "code",
   "execution_count": 37,
   "metadata": {},
   "outputs": [],
   "source": [
    "#Now that I no longer need the percent_complete I'll drop them because it\n",
    "#will effect the way I merge all the datasets and will not be menaingful anymore\n",
    "co_19.drop(['percent_complete'], axis=1,inplace=True)"
   ]
  },
  {
   "cell_type": "code",
   "execution_count": 38,
   "metadata": {},
   "outputs": [],
   "source": [
    "no2_19.drop(['percent_complete'], axis=1, inplace=True)\n",
    "o3_19.drop(['percent_complete'], axis=1, inplace=True)\n",
    "pm10_19.drop(['percent_complete'], axis=1, inplace=True)\n",
    "pm25_19.drop(['percent_complete'], axis=1, inplace=True)"
   ]
  },
  {
   "cell_type": "code",
   "execution_count": 39,
   "metadata": {},
   "outputs": [
    {
     "data": {
      "text/html": [
       "<div>\n",
       "<style scoped>\n",
       "    .dataframe tbody tr th:only-of-type {\n",
       "        vertical-align: middle;\n",
       "    }\n",
       "\n",
       "    .dataframe tbody tr th {\n",
       "        vertical-align: top;\n",
       "    }\n",
       "\n",
       "    .dataframe thead th {\n",
       "        text-align: right;\n",
       "    }\n",
       "</style>\n",
       "<table border=\"1\" class=\"dataframe\">\n",
       "  <thead>\n",
       "    <tr style=\"text-align: right;\">\n",
       "      <th></th>\n",
       "      <th>daily_max_co</th>\n",
       "    </tr>\n",
       "    <tr>\n",
       "      <th>Date</th>\n",
       "      <th></th>\n",
       "    </tr>\n",
       "  </thead>\n",
       "  <tbody>\n",
       "    <tr>\n",
       "      <th>01/01/2019</th>\n",
       "      <td>0.477049</td>\n",
       "    </tr>\n",
       "    <tr>\n",
       "      <th>01/02/2019</th>\n",
       "      <td>0.685246</td>\n",
       "    </tr>\n",
       "    <tr>\n",
       "      <th>01/03/2019</th>\n",
       "      <td>0.766129</td>\n",
       "    </tr>\n",
       "    <tr>\n",
       "      <th>01/04/2019</th>\n",
       "      <td>0.830645</td>\n",
       "    </tr>\n",
       "    <tr>\n",
       "      <th>01/05/2019</th>\n",
       "      <td>0.840323</td>\n",
       "    </tr>\n",
       "    <tr>\n",
       "      <th>...</th>\n",
       "      <td>...</td>\n",
       "    </tr>\n",
       "    <tr>\n",
       "      <th>12/27/2019</th>\n",
       "      <td>0.608333</td>\n",
       "    </tr>\n",
       "    <tr>\n",
       "      <th>12/28/2019</th>\n",
       "      <td>0.693333</td>\n",
       "    </tr>\n",
       "    <tr>\n",
       "      <th>12/29/2019</th>\n",
       "      <td>0.788333</td>\n",
       "    </tr>\n",
       "    <tr>\n",
       "      <th>12/30/2019</th>\n",
       "      <td>0.698333</td>\n",
       "    </tr>\n",
       "    <tr>\n",
       "      <th>12/31/2019</th>\n",
       "      <td>0.648333</td>\n",
       "    </tr>\n",
       "  </tbody>\n",
       "</table>\n",
       "<p>365 rows × 1 columns</p>\n",
       "</div>"
      ],
      "text/plain": [
       "            daily_max_co\n",
       "Date                    \n",
       "01/01/2019      0.477049\n",
       "01/02/2019      0.685246\n",
       "01/03/2019      0.766129\n",
       "01/04/2019      0.830645\n",
       "01/05/2019      0.840323\n",
       "...                  ...\n",
       "12/27/2019      0.608333\n",
       "12/28/2019      0.693333\n",
       "12/29/2019      0.788333\n",
       "12/30/2019      0.698333\n",
       "12/31/2019      0.648333\n",
       "\n",
       "[365 rows x 1 columns]"
      ]
     },
     "execution_count": 39,
     "metadata": {},
     "output_type": "execute_result"
    }
   ],
   "source": [
    "co_19"
   ]
  },
  {
   "cell_type": "markdown",
   "metadata": {},
   "source": [
    "Next Step: Merge 2019 datasets together"
   ]
  },
  {
   "cell_type": "code",
   "execution_count": 40,
   "metadata": {},
   "outputs": [],
   "source": [
    "from functools import reduce"
   ]
  },
  {
   "cell_type": "code",
   "execution_count": 41,
   "metadata": {},
   "outputs": [],
   "source": [
    "df2019=[co_19,o3_19,no2_19,pm10_19,pm25_19]"
   ]
  },
  {
   "cell_type": "code",
   "execution_count": 42,
   "metadata": {},
   "outputs": [
    {
     "name": "stdout",
     "output_type": "stream",
     "text": [
      "            daily_max_co  daily_max_o3  daily_max_no2  daily_mean_pm10  \\\n",
      "Date                                                                     \n",
      "01/01/2019      0.477049      0.033000      19.560417        16.166667   \n",
      "01/02/2019      0.685246      0.030066      29.459375        17.734940   \n",
      "01/03/2019      0.766129      0.028192      30.051020        24.357664   \n",
      "01/04/2019      0.830645      0.028737      32.317347        23.626506   \n",
      "01/05/2019      0.840323      0.031823      24.112245        19.404762   \n",
      "...                  ...           ...            ...              ...   \n",
      "12/27/2019      0.608333      0.029230      24.465556        10.439024   \n",
      "12/28/2019      0.693333      0.029285      23.453846        15.768293   \n",
      "12/29/2019      0.788333      0.028924      20.415217        15.425373   \n",
      "12/30/2019      0.698333      0.028506      23.014130        11.462500   \n",
      "12/31/2019      0.648333           NaN      23.470330        14.975610   \n",
      "\n",
      "            daily_mean_pm2.5  \n",
      "Date                          \n",
      "01/01/2019          9.606452  \n",
      "01/02/2019         12.747414  \n",
      "01/03/2019         16.041667  \n",
      "01/04/2019         18.258065  \n",
      "01/05/2019         11.968293  \n",
      "...                      ...  \n",
      "12/27/2019          7.513821  \n",
      "12/28/2019         12.344715  \n",
      "12/29/2019         12.076020  \n",
      "12/30/2019          8.441667  \n",
      "12/31/2019         11.286508  \n",
      "\n",
      "[365 rows x 5 columns]\n"
     ]
    }
   ],
   "source": [
    "#how='outer': This results in the union of keys from both frames. All rows from both DataFrames will be included,\n",
    "#filling in NaNs where necessary if a key is present in one frame but not in the other\n",
    "air2019 = reduce(lambda  left,right: pd.merge(left,right,on=['Date'],\n",
    "                                            how='outer'), df2019)\n",
    "print(air2019)"
   ]
  },
  {
   "cell_type": "code",
   "execution_count": 43,
   "metadata": {},
   "outputs": [
    {
     "data": {
      "text/html": [
       "<div>\n",
       "<style scoped>\n",
       "    .dataframe tbody tr th:only-of-type {\n",
       "        vertical-align: middle;\n",
       "    }\n",
       "\n",
       "    .dataframe tbody tr th {\n",
       "        vertical-align: top;\n",
       "    }\n",
       "\n",
       "    .dataframe thead th {\n",
       "        text-align: right;\n",
       "    }\n",
       "</style>\n",
       "<table border=\"1\" class=\"dataframe\">\n",
       "  <thead>\n",
       "    <tr style=\"text-align: right;\">\n",
       "      <th></th>\n",
       "      <th>daily_max_co</th>\n",
       "      <th>daily_max_o3</th>\n",
       "      <th>daily_max_no2</th>\n",
       "      <th>daily_mean_pm10</th>\n",
       "      <th>daily_mean_pm2.5</th>\n",
       "    </tr>\n",
       "    <tr>\n",
       "      <th>Date</th>\n",
       "      <th></th>\n",
       "      <th></th>\n",
       "      <th></th>\n",
       "      <th></th>\n",
       "      <th></th>\n",
       "    </tr>\n",
       "  </thead>\n",
       "  <tbody>\n",
       "    <tr>\n",
       "      <th>01/01/2019</th>\n",
       "      <td>0.477049</td>\n",
       "      <td>0.033000</td>\n",
       "      <td>19.560417</td>\n",
       "      <td>16.166667</td>\n",
       "      <td>9.606452</td>\n",
       "    </tr>\n",
       "    <tr>\n",
       "      <th>01/02/2019</th>\n",
       "      <td>0.685246</td>\n",
       "      <td>0.030066</td>\n",
       "      <td>29.459375</td>\n",
       "      <td>17.734940</td>\n",
       "      <td>12.747414</td>\n",
       "    </tr>\n",
       "    <tr>\n",
       "      <th>01/03/2019</th>\n",
       "      <td>0.766129</td>\n",
       "      <td>0.028192</td>\n",
       "      <td>30.051020</td>\n",
       "      <td>24.357664</td>\n",
       "      <td>16.041667</td>\n",
       "    </tr>\n",
       "    <tr>\n",
       "      <th>01/04/2019</th>\n",
       "      <td>0.830645</td>\n",
       "      <td>0.028737</td>\n",
       "      <td>32.317347</td>\n",
       "      <td>23.626506</td>\n",
       "      <td>18.258065</td>\n",
       "    </tr>\n",
       "    <tr>\n",
       "      <th>01/05/2019</th>\n",
       "      <td>0.840323</td>\n",
       "      <td>0.031823</td>\n",
       "      <td>24.112245</td>\n",
       "      <td>19.404762</td>\n",
       "      <td>11.968293</td>\n",
       "    </tr>\n",
       "    <tr>\n",
       "      <th>...</th>\n",
       "      <td>...</td>\n",
       "      <td>...</td>\n",
       "      <td>...</td>\n",
       "      <td>...</td>\n",
       "      <td>...</td>\n",
       "    </tr>\n",
       "    <tr>\n",
       "      <th>12/27/2019</th>\n",
       "      <td>0.608333</td>\n",
       "      <td>0.029230</td>\n",
       "      <td>24.465556</td>\n",
       "      <td>10.439024</td>\n",
       "      <td>7.513821</td>\n",
       "    </tr>\n",
       "    <tr>\n",
       "      <th>12/28/2019</th>\n",
       "      <td>0.693333</td>\n",
       "      <td>0.029285</td>\n",
       "      <td>23.453846</td>\n",
       "      <td>15.768293</td>\n",
       "      <td>12.344715</td>\n",
       "    </tr>\n",
       "    <tr>\n",
       "      <th>12/29/2019</th>\n",
       "      <td>0.788333</td>\n",
       "      <td>0.028924</td>\n",
       "      <td>20.415217</td>\n",
       "      <td>15.425373</td>\n",
       "      <td>12.076020</td>\n",
       "    </tr>\n",
       "    <tr>\n",
       "      <th>12/30/2019</th>\n",
       "      <td>0.698333</td>\n",
       "      <td>0.028506</td>\n",
       "      <td>23.014130</td>\n",
       "      <td>11.462500</td>\n",
       "      <td>8.441667</td>\n",
       "    </tr>\n",
       "    <tr>\n",
       "      <th>12/31/2019</th>\n",
       "      <td>0.648333</td>\n",
       "      <td>NaN</td>\n",
       "      <td>23.470330</td>\n",
       "      <td>14.975610</td>\n",
       "      <td>11.286508</td>\n",
       "    </tr>\n",
       "  </tbody>\n",
       "</table>\n",
       "<p>365 rows × 5 columns</p>\n",
       "</div>"
      ],
      "text/plain": [
       "            daily_max_co  daily_max_o3  daily_max_no2  daily_mean_pm10  \\\n",
       "Date                                                                     \n",
       "01/01/2019      0.477049      0.033000      19.560417        16.166667   \n",
       "01/02/2019      0.685246      0.030066      29.459375        17.734940   \n",
       "01/03/2019      0.766129      0.028192      30.051020        24.357664   \n",
       "01/04/2019      0.830645      0.028737      32.317347        23.626506   \n",
       "01/05/2019      0.840323      0.031823      24.112245        19.404762   \n",
       "...                  ...           ...            ...              ...   \n",
       "12/27/2019      0.608333      0.029230      24.465556        10.439024   \n",
       "12/28/2019      0.693333      0.029285      23.453846        15.768293   \n",
       "12/29/2019      0.788333      0.028924      20.415217        15.425373   \n",
       "12/30/2019      0.698333      0.028506      23.014130        11.462500   \n",
       "12/31/2019      0.648333           NaN      23.470330        14.975610   \n",
       "\n",
       "            daily_mean_pm2.5  \n",
       "Date                          \n",
       "01/01/2019          9.606452  \n",
       "01/02/2019         12.747414  \n",
       "01/03/2019         16.041667  \n",
       "01/04/2019         18.258065  \n",
       "01/05/2019         11.968293  \n",
       "...                      ...  \n",
       "12/27/2019          7.513821  \n",
       "12/28/2019         12.344715  \n",
       "12/29/2019         12.076020  \n",
       "12/30/2019          8.441667  \n",
       "12/31/2019         11.286508  \n",
       "\n",
       "[365 rows x 5 columns]"
      ]
     },
     "execution_count": 43,
     "metadata": {},
     "output_type": "execute_result"
    }
   ],
   "source": [
    "air2019"
   ]
  },
  {
   "cell_type": "markdown",
   "metadata": {},
   "source": [
    "2020 Datasets "
   ]
  },
  {
   "cell_type": "code",
   "execution_count": 44,
   "metadata": {},
   "outputs": [
    {
     "data": {
      "text/html": [
       "<div>\n",
       "<style scoped>\n",
       "    .dataframe tbody tr th:only-of-type {\n",
       "        vertical-align: middle;\n",
       "    }\n",
       "\n",
       "    .dataframe tbody tr th {\n",
       "        vertical-align: top;\n",
       "    }\n",
       "\n",
       "    .dataframe thead th {\n",
       "        text-align: right;\n",
       "    }\n",
       "</style>\n",
       "<table border=\"1\" class=\"dataframe\">\n",
       "  <thead>\n",
       "    <tr style=\"text-align: right;\">\n",
       "      <th></th>\n",
       "      <th>Date</th>\n",
       "      <th>Source</th>\n",
       "      <th>Site ID</th>\n",
       "      <th>POC</th>\n",
       "      <th>Daily Max 8-hour CO Concentration</th>\n",
       "      <th>UNITS</th>\n",
       "      <th>DAILY_AQI_VALUE</th>\n",
       "      <th>Site Name</th>\n",
       "      <th>DAILY_OBS_COUNT</th>\n",
       "      <th>PERCENT_COMPLETE</th>\n",
       "      <th>AQS_PARAMETER_CODE</th>\n",
       "      <th>AQS_PARAMETER_DESC</th>\n",
       "      <th>CBSA_CODE</th>\n",
       "      <th>CBSA_NAME</th>\n",
       "      <th>STATE_CODE</th>\n",
       "      <th>STATE</th>\n",
       "      <th>COUNTY_CODE</th>\n",
       "      <th>COUNTY</th>\n",
       "      <th>SITE_LATITUDE</th>\n",
       "      <th>SITE_LONGITUDE</th>\n",
       "    </tr>\n",
       "  </thead>\n",
       "  <tbody>\n",
       "    <tr>\n",
       "      <th>0</th>\n",
       "      <td>01/01/2020</td>\n",
       "      <td>AQS</td>\n",
       "      <td>60010009</td>\n",
       "      <td>1</td>\n",
       "      <td>0.7</td>\n",
       "      <td>ppm</td>\n",
       "      <td>8</td>\n",
       "      <td>Oakland</td>\n",
       "      <td>18</td>\n",
       "      <td>75.0</td>\n",
       "      <td>42101</td>\n",
       "      <td>Carbon monoxide</td>\n",
       "      <td>41860</td>\n",
       "      <td>San Francisco-Oakland-Hayward, CA</td>\n",
       "      <td>6</td>\n",
       "      <td>California</td>\n",
       "      <td>1</td>\n",
       "      <td>Alameda</td>\n",
       "      <td>37.743065</td>\n",
       "      <td>-122.169935</td>\n",
       "    </tr>\n",
       "    <tr>\n",
       "      <th>1</th>\n",
       "      <td>01/02/2020</td>\n",
       "      <td>AQS</td>\n",
       "      <td>60010009</td>\n",
       "      <td>1</td>\n",
       "      <td>0.7</td>\n",
       "      <td>ppm</td>\n",
       "      <td>8</td>\n",
       "      <td>Oakland</td>\n",
       "      <td>24</td>\n",
       "      <td>100.0</td>\n",
       "      <td>42101</td>\n",
       "      <td>Carbon monoxide</td>\n",
       "      <td>41860</td>\n",
       "      <td>San Francisco-Oakland-Hayward, CA</td>\n",
       "      <td>6</td>\n",
       "      <td>California</td>\n",
       "      <td>1</td>\n",
       "      <td>Alameda</td>\n",
       "      <td>37.743065</td>\n",
       "      <td>-122.169935</td>\n",
       "    </tr>\n",
       "    <tr>\n",
       "      <th>2</th>\n",
       "      <td>01/03/2020</td>\n",
       "      <td>AQS</td>\n",
       "      <td>60010009</td>\n",
       "      <td>1</td>\n",
       "      <td>0.9</td>\n",
       "      <td>ppm</td>\n",
       "      <td>10</td>\n",
       "      <td>Oakland</td>\n",
       "      <td>24</td>\n",
       "      <td>100.0</td>\n",
       "      <td>42101</td>\n",
       "      <td>Carbon monoxide</td>\n",
       "      <td>41860</td>\n",
       "      <td>San Francisco-Oakland-Hayward, CA</td>\n",
       "      <td>6</td>\n",
       "      <td>California</td>\n",
       "      <td>1</td>\n",
       "      <td>Alameda</td>\n",
       "      <td>37.743065</td>\n",
       "      <td>-122.169935</td>\n",
       "    </tr>\n",
       "    <tr>\n",
       "      <th>3</th>\n",
       "      <td>01/04/2020</td>\n",
       "      <td>AQS</td>\n",
       "      <td>60010009</td>\n",
       "      <td>1</td>\n",
       "      <td>0.8</td>\n",
       "      <td>ppm</td>\n",
       "      <td>9</td>\n",
       "      <td>Oakland</td>\n",
       "      <td>24</td>\n",
       "      <td>100.0</td>\n",
       "      <td>42101</td>\n",
       "      <td>Carbon monoxide</td>\n",
       "      <td>41860</td>\n",
       "      <td>San Francisco-Oakland-Hayward, CA</td>\n",
       "      <td>6</td>\n",
       "      <td>California</td>\n",
       "      <td>1</td>\n",
       "      <td>Alameda</td>\n",
       "      <td>37.743065</td>\n",
       "      <td>-122.169935</td>\n",
       "    </tr>\n",
       "    <tr>\n",
       "      <th>4</th>\n",
       "      <td>01/05/2020</td>\n",
       "      <td>AQS</td>\n",
       "      <td>60010009</td>\n",
       "      <td>1</td>\n",
       "      <td>0.7</td>\n",
       "      <td>ppm</td>\n",
       "      <td>8</td>\n",
       "      <td>Oakland</td>\n",
       "      <td>24</td>\n",
       "      <td>100.0</td>\n",
       "      <td>42101</td>\n",
       "      <td>Carbon monoxide</td>\n",
       "      <td>41860</td>\n",
       "      <td>San Francisco-Oakland-Hayward, CA</td>\n",
       "      <td>6</td>\n",
       "      <td>California</td>\n",
       "      <td>1</td>\n",
       "      <td>Alameda</td>\n",
       "      <td>37.743065</td>\n",
       "      <td>-122.169935</td>\n",
       "    </tr>\n",
       "    <tr>\n",
       "      <th>...</th>\n",
       "      <td>...</td>\n",
       "      <td>...</td>\n",
       "      <td>...</td>\n",
       "      <td>...</td>\n",
       "      <td>...</td>\n",
       "      <td>...</td>\n",
       "      <td>...</td>\n",
       "      <td>...</td>\n",
       "      <td>...</td>\n",
       "      <td>...</td>\n",
       "      <td>...</td>\n",
       "      <td>...</td>\n",
       "      <td>...</td>\n",
       "      <td>...</td>\n",
       "      <td>...</td>\n",
       "      <td>...</td>\n",
       "      <td>...</td>\n",
       "      <td>...</td>\n",
       "      <td>...</td>\n",
       "      <td>...</td>\n",
       "    </tr>\n",
       "    <tr>\n",
       "      <th>22130</th>\n",
       "      <td>12/27/2020</td>\n",
       "      <td>AQS</td>\n",
       "      <td>60990005</td>\n",
       "      <td>3</td>\n",
       "      <td>1.1</td>\n",
       "      <td>ppm</td>\n",
       "      <td>13</td>\n",
       "      <td>Modesto-14th Street</td>\n",
       "      <td>24</td>\n",
       "      <td>100.0</td>\n",
       "      <td>42101</td>\n",
       "      <td>Carbon monoxide</td>\n",
       "      <td>33700</td>\n",
       "      <td>Modesto, CA</td>\n",
       "      <td>6</td>\n",
       "      <td>California</td>\n",
       "      <td>99</td>\n",
       "      <td>Stanislaus</td>\n",
       "      <td>37.642165</td>\n",
       "      <td>-120.994212</td>\n",
       "    </tr>\n",
       "    <tr>\n",
       "      <th>22131</th>\n",
       "      <td>12/28/2020</td>\n",
       "      <td>AQS</td>\n",
       "      <td>60990005</td>\n",
       "      <td>3</td>\n",
       "      <td>1.1</td>\n",
       "      <td>ppm</td>\n",
       "      <td>13</td>\n",
       "      <td>Modesto-14th Street</td>\n",
       "      <td>24</td>\n",
       "      <td>100.0</td>\n",
       "      <td>42101</td>\n",
       "      <td>Carbon monoxide</td>\n",
       "      <td>33700</td>\n",
       "      <td>Modesto, CA</td>\n",
       "      <td>6</td>\n",
       "      <td>California</td>\n",
       "      <td>99</td>\n",
       "      <td>Stanislaus</td>\n",
       "      <td>37.642165</td>\n",
       "      <td>-120.994212</td>\n",
       "    </tr>\n",
       "    <tr>\n",
       "      <th>22132</th>\n",
       "      <td>12/29/2020</td>\n",
       "      <td>AQS</td>\n",
       "      <td>60990005</td>\n",
       "      <td>3</td>\n",
       "      <td>1.6</td>\n",
       "      <td>ppm</td>\n",
       "      <td>18</td>\n",
       "      <td>Modesto-14th Street</td>\n",
       "      <td>24</td>\n",
       "      <td>100.0</td>\n",
       "      <td>42101</td>\n",
       "      <td>Carbon monoxide</td>\n",
       "      <td>33700</td>\n",
       "      <td>Modesto, CA</td>\n",
       "      <td>6</td>\n",
       "      <td>California</td>\n",
       "      <td>99</td>\n",
       "      <td>Stanislaus</td>\n",
       "      <td>37.642165</td>\n",
       "      <td>-120.994212</td>\n",
       "    </tr>\n",
       "    <tr>\n",
       "      <th>22133</th>\n",
       "      <td>12/30/2020</td>\n",
       "      <td>AQS</td>\n",
       "      <td>60990005</td>\n",
       "      <td>3</td>\n",
       "      <td>1.7</td>\n",
       "      <td>ppm</td>\n",
       "      <td>19</td>\n",
       "      <td>Modesto-14th Street</td>\n",
       "      <td>24</td>\n",
       "      <td>100.0</td>\n",
       "      <td>42101</td>\n",
       "      <td>Carbon monoxide</td>\n",
       "      <td>33700</td>\n",
       "      <td>Modesto, CA</td>\n",
       "      <td>6</td>\n",
       "      <td>California</td>\n",
       "      <td>99</td>\n",
       "      <td>Stanislaus</td>\n",
       "      <td>37.642165</td>\n",
       "      <td>-120.994212</td>\n",
       "    </tr>\n",
       "    <tr>\n",
       "      <th>22134</th>\n",
       "      <td>12/31/2020</td>\n",
       "      <td>AQS</td>\n",
       "      <td>60990005</td>\n",
       "      <td>3</td>\n",
       "      <td>1.1</td>\n",
       "      <td>ppm</td>\n",
       "      <td>13</td>\n",
       "      <td>Modesto-14th Street</td>\n",
       "      <td>24</td>\n",
       "      <td>100.0</td>\n",
       "      <td>42101</td>\n",
       "      <td>Carbon monoxide</td>\n",
       "      <td>33700</td>\n",
       "      <td>Modesto, CA</td>\n",
       "      <td>6</td>\n",
       "      <td>California</td>\n",
       "      <td>99</td>\n",
       "      <td>Stanislaus</td>\n",
       "      <td>37.642165</td>\n",
       "      <td>-120.994212</td>\n",
       "    </tr>\n",
       "  </tbody>\n",
       "</table>\n",
       "<p>22135 rows × 20 columns</p>\n",
       "</div>"
      ],
      "text/plain": [
       "             Date Source   Site ID  POC  Daily Max 8-hour CO Concentration  \\\n",
       "0      01/01/2020    AQS  60010009    1                                0.7   \n",
       "1      01/02/2020    AQS  60010009    1                                0.7   \n",
       "2      01/03/2020    AQS  60010009    1                                0.9   \n",
       "3      01/04/2020    AQS  60010009    1                                0.8   \n",
       "4      01/05/2020    AQS  60010009    1                                0.7   \n",
       "...           ...    ...       ...  ...                                ...   \n",
       "22130  12/27/2020    AQS  60990005    3                                1.1   \n",
       "22131  12/28/2020    AQS  60990005    3                                1.1   \n",
       "22132  12/29/2020    AQS  60990005    3                                1.6   \n",
       "22133  12/30/2020    AQS  60990005    3                                1.7   \n",
       "22134  12/31/2020    AQS  60990005    3                                1.1   \n",
       "\n",
       "      UNITS  DAILY_AQI_VALUE            Site Name  DAILY_OBS_COUNT  \\\n",
       "0       ppm                8              Oakland               18   \n",
       "1       ppm                8              Oakland               24   \n",
       "2       ppm               10              Oakland               24   \n",
       "3       ppm                9              Oakland               24   \n",
       "4       ppm                8              Oakland               24   \n",
       "...     ...              ...                  ...              ...   \n",
       "22130   ppm               13  Modesto-14th Street               24   \n",
       "22131   ppm               13  Modesto-14th Street               24   \n",
       "22132   ppm               18  Modesto-14th Street               24   \n",
       "22133   ppm               19  Modesto-14th Street               24   \n",
       "22134   ppm               13  Modesto-14th Street               24   \n",
       "\n",
       "       PERCENT_COMPLETE  AQS_PARAMETER_CODE AQS_PARAMETER_DESC  CBSA_CODE  \\\n",
       "0                  75.0               42101    Carbon monoxide      41860   \n",
       "1                 100.0               42101    Carbon monoxide      41860   \n",
       "2                 100.0               42101    Carbon monoxide      41860   \n",
       "3                 100.0               42101    Carbon monoxide      41860   \n",
       "4                 100.0               42101    Carbon monoxide      41860   \n",
       "...                 ...                 ...                ...        ...   \n",
       "22130             100.0               42101    Carbon monoxide      33700   \n",
       "22131             100.0               42101    Carbon monoxide      33700   \n",
       "22132             100.0               42101    Carbon monoxide      33700   \n",
       "22133             100.0               42101    Carbon monoxide      33700   \n",
       "22134             100.0               42101    Carbon monoxide      33700   \n",
       "\n",
       "                               CBSA_NAME  STATE_CODE       STATE  COUNTY_CODE  \\\n",
       "0      San Francisco-Oakland-Hayward, CA           6  California            1   \n",
       "1      San Francisco-Oakland-Hayward, CA           6  California            1   \n",
       "2      San Francisco-Oakland-Hayward, CA           6  California            1   \n",
       "3      San Francisco-Oakland-Hayward, CA           6  California            1   \n",
       "4      San Francisco-Oakland-Hayward, CA           6  California            1   \n",
       "...                                  ...         ...         ...          ...   \n",
       "22130                        Modesto, CA           6  California           99   \n",
       "22131                        Modesto, CA           6  California           99   \n",
       "22132                        Modesto, CA           6  California           99   \n",
       "22133                        Modesto, CA           6  California           99   \n",
       "22134                        Modesto, CA           6  California           99   \n",
       "\n",
       "           COUNTY  SITE_LATITUDE  SITE_LONGITUDE  \n",
       "0         Alameda      37.743065     -122.169935  \n",
       "1         Alameda      37.743065     -122.169935  \n",
       "2         Alameda      37.743065     -122.169935  \n",
       "3         Alameda      37.743065     -122.169935  \n",
       "4         Alameda      37.743065     -122.169935  \n",
       "...           ...            ...             ...  \n",
       "22130  Stanislaus      37.642165     -120.994212  \n",
       "22131  Stanislaus      37.642165     -120.994212  \n",
       "22132  Stanislaus      37.642165     -120.994212  \n",
       "22133  Stanislaus      37.642165     -120.994212  \n",
       "22134  Stanislaus      37.642165     -120.994212  \n",
       "\n",
       "[22135 rows x 20 columns]"
      ]
     },
     "execution_count": 44,
     "metadata": {},
     "output_type": "execute_result"
    }
   ],
   "source": [
    "co_20"
   ]
  },
  {
   "cell_type": "code",
   "execution_count": 45,
   "metadata": {},
   "outputs": [
    {
     "name": "stdout",
     "output_type": "stream",
     "text": [
      "25\n",
      "43\n",
      "33\n",
      "51\n",
      "49\n"
     ]
    }
   ],
   "source": [
    "#Same number of counties\n",
    "print(co_20.COUNTY.nunique())\n",
    "print(pm10_20.COUNTY.nunique())\n",
    "print(no2_20.COUNTY.nunique())\n",
    "print(pm25_20.COUNTY.nunique())\n",
    "print(o3_20.COUNTY.nunique())"
   ]
  },
  {
   "cell_type": "code",
   "execution_count": 46,
   "metadata": {},
   "outputs": [
    {
     "name": "stdout",
     "output_type": "stream",
     "text": [
      "<class 'pandas.core.frame.DataFrame'>\n",
      "RangeIndex: 22135 entries, 0 to 22134\n",
      "Data columns (total 20 columns):\n",
      " #   Column                             Non-Null Count  Dtype  \n",
      "---  ------                             --------------  -----  \n",
      " 0   Date                               22135 non-null  object \n",
      " 1   Source                             22135 non-null  object \n",
      " 2   Site ID                            22135 non-null  int64  \n",
      " 3   POC                                22135 non-null  int64  \n",
      " 4   Daily Max 8-hour CO Concentration  22135 non-null  float64\n",
      " 5   UNITS                              22135 non-null  object \n",
      " 6   DAILY_AQI_VALUE                    22135 non-null  int64  \n",
      " 7   Site Name                          22135 non-null  object \n",
      " 8   DAILY_OBS_COUNT                    22135 non-null  int64  \n",
      " 9   PERCENT_COMPLETE                   22135 non-null  float64\n",
      " 10  AQS_PARAMETER_CODE                 22135 non-null  int64  \n",
      " 11  AQS_PARAMETER_DESC                 22135 non-null  object \n",
      " 12  CBSA_CODE                          22135 non-null  int64  \n",
      " 13  CBSA_NAME                          22135 non-null  object \n",
      " 14  STATE_CODE                         22135 non-null  int64  \n",
      " 15  STATE                              22135 non-null  object \n",
      " 16  COUNTY_CODE                        22135 non-null  int64  \n",
      " 17  COUNTY                             22135 non-null  object \n",
      " 18  SITE_LATITUDE                      22135 non-null  float64\n",
      " 19  SITE_LONGITUDE                     22135 non-null  float64\n",
      "dtypes: float64(4), int64(8), object(8)\n",
      "memory usage: 3.4+ MB\n"
     ]
    }
   ],
   "source": [
    "#explore data type\n",
    "co_20.info()"
   ]
  },
  {
   "cell_type": "code",
   "execution_count": 57,
   "metadata": {},
   "outputs": [],
   "source": [
    "#We notice that 'Date' is not a Datetime format\n",
    "#convert 'Date' to datetime dtype. We choose this specific arrangement as opposed to\n",
    "# %d/%m/%y because the data is rcorded that way originally. This is why first inspection of the CSV file is necessary\n",
    "co_20['Date']=pd.to_datetime(co_20['Date'], format = \"%m/%d/%Y\")\n",
    "pm10_20['Date']=pd.to_datetime(pm10_20['Date'], format = \"%m/%d/%Y\")\n",
    "pm25_20['Date']=pd.to_datetime(pm25_20['Date'], format = \"%m/%d/%Y\")\n",
    "no2_20['Date']=pd.to_datetime(no2_20['Date'], format = \"%m/%d/%Y\")\n",
    "o3_20['Date']=pd.to_datetime(o3_20['Date'], format = \"%m/%d/%Y\")"
   ]
  },
  {
   "cell_type": "code",
   "execution_count": 56,
   "metadata": {},
   "outputs": [
    {
     "name": "stdout",
     "output_type": "stream",
     "text": [
      "<class 'pandas.core.frame.DataFrame'>\n",
      "RangeIndex: 22135 entries, 0 to 22134\n",
      "Data columns (total 20 columns):\n",
      " #   Column                             Non-Null Count  Dtype         \n",
      "---  ------                             --------------  -----         \n",
      " 0   Date                               22135 non-null  datetime64[ns]\n",
      " 1   Source                             22135 non-null  object        \n",
      " 2   Site ID                            22135 non-null  int64         \n",
      " 3   POC                                22135 non-null  int64         \n",
      " 4   Daily Max 8-hour CO Concentration  22135 non-null  float64       \n",
      " 5   UNITS                              22135 non-null  object        \n",
      " 6   DAILY_AQI_VALUE                    22135 non-null  int64         \n",
      " 7   Site Name                          22135 non-null  object        \n",
      " 8   DAILY_OBS_COUNT                    22135 non-null  int64         \n",
      " 9   PERCENT_COMPLETE                   22135 non-null  float64       \n",
      " 10  AQS_PARAMETER_CODE                 22135 non-null  int64         \n",
      " 11  AQS_PARAMETER_DESC                 22135 non-null  object        \n",
      " 12  CBSA_CODE                          22135 non-null  int64         \n",
      " 13  CBSA_NAME                          22135 non-null  object        \n",
      " 14  STATE_CODE                         22135 non-null  int64         \n",
      " 15  STATE                              22135 non-null  object        \n",
      " 16  COUNTY_CODE                        22135 non-null  int64         \n",
      " 17  COUNTY                             22135 non-null  object        \n",
      " 18  SITE_LATITUDE                      22135 non-null  float64       \n",
      " 19  SITE_LONGITUDE                     22135 non-null  float64       \n",
      "dtypes: datetime64[ns](1), float64(4), int64(8), object(7)\n",
      "memory usage: 3.4+ MB\n"
     ]
    }
   ],
   "source": [
    "co_20.info()"
   ]
  },
  {
   "cell_type": "code",
   "execution_count": null,
   "metadata": {},
   "outputs": [],
   "source": []
  },
  {
   "cell_type": "code",
   "execution_count": null,
   "metadata": {},
   "outputs": [],
   "source": []
  },
  {
   "cell_type": "code",
   "execution_count": null,
   "metadata": {},
   "outputs": [],
   "source": []
  },
  {
   "cell_type": "code",
   "execution_count": null,
   "metadata": {},
   "outputs": [],
   "source": []
  },
  {
   "cell_type": "code",
   "execution_count": null,
   "metadata": {},
   "outputs": [],
   "source": []
  },
  {
   "cell_type": "markdown",
   "metadata": {},
   "source": [
    "--------------------------------------------------------------------------------------------------"
   ]
  },
  {
   "cell_type": "code",
   "execution_count": 49,
   "metadata": {},
   "outputs": [],
   "source": [
    "#df1 = pd.DataFrame({'A': [1, 2], 'B': [3, 4]})\n",
    "#df2 = pd.DataFrame({'A': [5, 6], 'B': [7, 8]})\n",
    "\n",
    "#result = pd.concat([df1, df2])\n",
    "#result = pd.concat([df1, df2], axis=1)\n",
    "#print(result)\n"
   ]
  },
  {
   "cell_type": "code",
   "execution_count": 50,
   "metadata": {},
   "outputs": [
    {
     "ename": "IndentationError",
     "evalue": "unexpected indent (2386845606.py, line 2)",
     "output_type": "error",
     "traceback": [
      "\u001b[1;36m  Input \u001b[1;32mIn [50]\u001b[1;36m\u001b[0m\n\u001b[1;33m    'A': ['A0', 'A1', 'A2', 'A3']})\u001b[0m\n\u001b[1;37m    ^\u001b[0m\n\u001b[1;31mIndentationError\u001b[0m\u001b[1;31m:\u001b[0m unexpected indent\n"
     ]
    }
   ],
   "source": [
    "#df1 = pd.DataFrame({'Key': ['K0', 'K1', 'K2', 'K3'],\n",
    "                    'A': ['A0', 'A1', 'A2', 'A3']})\n",
    "#df2 = pd.DataFrame({'Key': ['K0', 'K1', 'K2', 'K3'],\n",
    "                    'B': ['B0', 'B1', 'B2', 'B3']})\n",
    "\n",
    "#result = pd.merge(df1, df2)\n",
    "#print(result)\n"
   ]
  },
  {
   "cell_type": "code",
   "execution_count": null,
   "metadata": {},
   "outputs": [],
   "source": []
  },
  {
   "cell_type": "code",
   "execution_count": null,
   "metadata": {},
   "outputs": [],
   "source": [
    "#set 'Date' as the index\n",
    "co_19.set_index('Date')\n",
    "o3_19.set_index('Date')\n",
    "no2_19.set_index('Date')\n",
    "pm10_19.set_index('Date')\n",
    "pm25_19.set_index('Date')"
   ]
  },
  {
   "cell_type": "code",
   "execution_count": null,
   "metadata": {},
   "outputs": [],
   "source": [
    "#perform groupby() on each of the 5 air quality datasets to get the daily average concentration for each county\n",
    "co_19_mean= co_19.sort_index().groupby(['Date','COUNTY'])[['Daily Max 8-hour CO Concentration']].mean().round(2)\n",
    "pm10_19_mean= pm10_19.sort_index().groupby(['Date','COUNTY'])[['Daily Mean PM10 Concentration']].mean().round(2)\n",
    "pm25_19_mean = pm25_19.sort_index().groupby(['Date','COUNTY'])[['Daily Mean PM2.5 Concentration']].mean().round(2)\n",
    "o3_19_mean = o3_19.sort_index().groupby(['Date', 'COUNTY'])[['Daily Max 8-hour Ozone Concentration']].mean().round(2)\n",
    "no2_19_mean = no2_19.sort_index().groupby(['Date','COUNTY'])[['Daily Max 1-hour NO2 Concentration']].mean().round(2)"
   ]
  },
  {
   "cell_type": "code",
   "execution_count": null,
   "metadata": {},
   "outputs": [],
   "source": [
    "#the concatenated df of 2019 datasets should have 19,345 rows (364 days * 53 counties)\n",
    "air19= pd.concat([co_19_mean, pm10_19_mean, pm25_19_mean, o3_19_mean, no2_19_mean], join='outer', axis=1)\n",
    "air19"
   ]
  },
  {
   "cell_type": "code",
   "execution_count": null,
   "metadata": {},
   "outputs": [],
   "source": [
    "#find missing dates if there's any\n",
    "pd.date_range(start = '2019-01-01', end = '2019-12-31').difference(air19.index)\n"
   ]
  },
  {
   "cell_type": "code",
   "execution_count": null,
   "metadata": {},
   "outputs": [],
   "source": [
    "#even if some counties don't have measueemnet for a specifc pollutatnt, it should be listed and have NaN for the value of that specifc pollutant"
   ]
  },
  {
   "cell_type": "code",
   "execution_count": null,
   "metadata": {},
   "outputs": [],
   "source": [
    "#check the number of counties in the dataset. counties are now indecies after appkying groupby()\n",
    "list(air19.index)"
   ]
  },
  {
   "cell_type": "code",
   "execution_count": null,
   "metadata": {},
   "outputs": [],
   "source": [
    "air19.index.unique(level='COUNTY').value_counts().sum()"
   ]
  },
  {
   "cell_type": "code",
   "execution_count": null,
   "metadata": {},
   "outputs": [],
   "source": [
    "#find columns with no recodidings on a specifc day (which indicates wrong calculation)\n",
    "air19[air19.isnull().all(axis=1)]"
   ]
  },
  {
   "cell_type": "code",
   "execution_count": null,
   "metadata": {},
   "outputs": [],
   "source": [
    "air19[air19.isnull().any(axis=1)]"
   ]
  },
  {
   "cell_type": "code",
   "execution_count": null,
   "metadata": {},
   "outputs": [],
   "source": [
    "#apply groupby() to each of the 5 air quality datasets from 2020 to get the daily average concentration for each county\n",
    "co_20_mean= co_20.sort_index().groupby(['Date', 'COUNTY'])[['Daily Max 8-hour CO Concentration']].mean().round(2)\n",
    "pm10_20_mean= pm10_20.sort_index().groupby(['Date', 'COUNTY'])[['Daily Mean PM10 Concentration']].mean().round(2)\n",
    "pm25_20_mean = pm25_20.sort_index().groupby(['Date','COUNTY'])[['Daily Mean PM2.5 Concentration']].mean().round(2)\n",
    "o3_20_mean = o3_20.sort_index().groupby(['Date','COUNTY'])[['Daily Max 8-hour Ozone Concentration']].mean().round(2)\n",
    "no2_20_mean = no2_20.sort_index().groupby(['Date','COUNTY'])[['Daily Max 1-hour NO2 Concentration']].mean().round(2)"
   ]
  },
  {
   "cell_type": "code",
   "execution_count": null,
   "metadata": {},
   "outputs": [],
   "source": [
    "#concatenate 2019 and 2020 data\n",
    "air20= pd.concat([air19, co_20_mean, pm10_20_mean, pm25_20_mean, o3_20_mean, no2_20_mean], join='outer')\n",
    "air20"
   ]
  },
  {
   "cell_type": "code",
   "execution_count": null,
   "metadata": {},
   "outputs": [],
   "source": [
    "air20.reset_index(inplace=True)"
   ]
  },
  {
   "cell_type": "code",
   "execution_count": null,
   "metadata": {},
   "outputs": [],
   "source": [
    "new_df21.info()"
   ]
  },
  {
   "cell_type": "code",
   "execution_count": null,
   "metadata": {},
   "outputs": [],
   "source": [
    "new_df21[['Date', 'COUNTY']].duplicated().sum()"
   ]
  },
  {
   "cell_type": "code",
   "execution_count": null,
   "metadata": {},
   "outputs": [],
   "source": [
    "#apply groupby() on each of the 5 air quality datasets from 2021 to get the daily average concentration for each county\n",
    "co_21_mean= co_21.sort_index().groupby(['Date','COUNTY'])[['Daily Max 8-hour CO Concentration']].mean().round(2)\n",
    "pm10_21_mean= pm10_21.sort_index().groupby(['Date','COUNTY'])[['Daily Mean PM10 Concentration']].mean().round(2)\n",
    "pm25_21_mean = pm25_21.sort_index().groupby(['Date','COUNTY'])[['Daily Mean PM2.5 Concentration']].mean().round(2)\n",
    "o3_21_mean = o3_21.sort_index().groupby(['Date', 'COUNTY'])[['Daily Max 8-hour Ozone Concentration']].mean().round(2)\n",
    "no2_21_mean = no2_21.sort_index().groupby(['Date','COUNTY'])[['Daily Max 1-hour NO2 Concentration']].mean().round(2)"
   ]
  },
  {
   "cell_type": "code",
   "execution_count": null,
   "metadata": {},
   "outputs": [],
   "source": [
    "co_21.sort_index().groupby(['Date','COUNTY'])[['Daily Max 8-hour CO Concentration']].mean().round(2)"
   ]
  },
  {
   "cell_type": "code",
   "execution_count": null,
   "metadata": {},
   "outputs": [],
   "source": [
    "print(co_21_mean.shape)\n",
    "print(no2_21_mean.shape)\n",
    "print(o3_21_mean.shape)\n",
    "print(pm10_21_mean.shape)\n",
    "print(pm25_21_mean.shape)"
   ]
  },
  {
   "cell_type": "code",
   "execution_count": null,
   "metadata": {},
   "outputs": [],
   "source": [
    "#new_df20.reset_index(inplace=True)"
   ]
  },
  {
   "cell_type": "code",
   "execution_count": null,
   "metadata": {},
   "outputs": [],
   "source": [
    "#co_21_mean.reset_index(inplace=True)\n",
    "#pm10_21_mean.reset_index(inplace=True)\n",
    "#pm25_21_mean.reset_index(inplace=True)\n",
    "#o3_21_mean.reset_index(inplace=True)\n",
    "#no2_21_mean.reset_index(inplace=True)"
   ]
  },
  {
   "cell_type": "code",
   "execution_count": null,
   "metadata": {},
   "outputs": [],
   "source": [
    "#the concatenated df of 2021 datasets should have 19,345 rows\n",
    "air21= pd.merge([co_21_mean, pm10_21_mean, pm25_21_mean, o3_21_mean, no2_21_mean], on='Date')\n",
    "air21"
   ]
  },
  {
   "cell_type": "code",
   "execution_count": null,
   "metadata": {},
   "outputs": [],
   "source": [
    "#the concatenated df of 2021 datasets should have 18,980 rows (52 counties * 365 days)\n",
    "air21= pd.concat([co_21_mean, pm10_21_mean, pm25_21_mean, o3_21_mean, no2_21_mean], join='outer', axis=1)\n",
    "air21"
   ]
  },
  {
   "cell_type": "code",
   "execution_count": null,
   "metadata": {},
   "outputs": [],
   "source": [
    "#number of counties in 2021 dataset\n",
    "air21.index.unique(level='COUNTY').value_counts().sum()"
   ]
  },
  {
   "cell_type": "code",
   "execution_count": null,
   "metadata": {},
   "outputs": [],
   "source": [
    "#check for missing dates\n",
    "pd.date_range(start = '2021-01-01', end = '2021-12-31').difference(air19.index)\n"
   ]
  },
  {
   "cell_type": "code",
   "execution_count": null,
   "metadata": {},
   "outputs": [],
   "source": [
    "air21.reset_index(inplace=True)"
   ]
  },
  {
   "cell_type": "code",
   "execution_count": null,
   "metadata": {},
   "outputs": [],
   "source": [
    "#check for duplicates\n",
    "air21.duplicated().value_counts()"
   ]
  },
  {
   "cell_type": "code",
   "execution_count": null,
   "metadata": {},
   "outputs": [],
   "source": [
    "#check the unique counties in COVID-19 and air19 datasets\n",
    "cov_county = list(covid.area.unique())\n",
    "cov_county"
   ]
  },
  {
   "cell_type": "code",
   "execution_count": null,
   "metadata": {},
   "outputs": [],
   "source": [
    "covid.area.unique()"
   ]
  },
  {
   "cell_type": "code",
   "execution_count": null,
   "metadata": {},
   "outputs": [],
   "source": [
    "[x for x in covid.area.unique() if x not in air19.index]"
   ]
  },
  {
   "cell_type": "code",
   "execution_count": null,
   "metadata": {},
   "outputs": [],
   "source": [
    "for x in covid.area.unique():\n",
    "    if x not in co_19.COUNTY.unique():\n",
    "        print(x)"
   ]
  },
  {
   "cell_type": "code",
   "execution_count": null,
   "metadata": {},
   "outputs": [],
   "source": [
    "list(air21.index.values.sum())"
   ]
  },
  {
   "cell_type": "code",
   "execution_count": null,
   "metadata": {},
   "outputs": [],
   "source": [
    "air21.index.values.tolist()"
   ]
  },
  {
   "cell_type": "markdown",
   "metadata": {},
   "source": [
    "------------------------------------------------------------------------------------------------------------"
   ]
  },
  {
   "cell_type": "code",
   "execution_count": null,
   "metadata": {},
   "outputs": [],
   "source": [
    "co_19.set_index('Date')\n",
    "o3_19.set_index('Date')\n",
    "no2_19.set_index('Date')\n",
    "pm10_19.set_index('Date')\n",
    "pm25_19.set_index('Date')\n",
    "co_20.set_index('Date')\n",
    "o3_20.set_index('Date')\n",
    "no2_20.set_index('Date')\n",
    "pm10_20.set_index('Date')\n",
    "pm25_20.set_index('Date')"
   ]
  },
  {
   "cell_type": "code",
   "execution_count": null,
   "metadata": {},
   "outputs": [],
   "source": [
    "#concat() 2019 data\n",
    "new_df= pd.concat([co_19, pm10_19, pm25_19, o3_19, no2_19], join='outer', axis=1)\n",
    "new_df"
   ]
  },
  {
   "cell_type": "code",
   "execution_count": null,
   "metadata": {},
   "outputs": [],
   "source": [
    "#concat 2019 and 2020 data\n",
    "new_df20= pd.concat([new_df, co_20, pm10_20, pm25_20, o3_20, no2_20], join='outer')\n",
    "new_df20"
   ]
  },
  {
   "cell_type": "code",
   "execution_count": null,
   "metadata": {},
   "outputs": [],
   "source": [
    "new_df = pd.concat([co_19, no2_19, o3_19, pm25_19, pm10_19])\n",
    "\n",
    "new_df_county= list(new_df.COUNTY.unique())\n",
    "cov_county = list(covid.area.unique())\n",
    "\n",
    "[x for x in cov_county if x not in new_df_county]"
   ]
  },
  {
   "cell_type": "code",
   "execution_count": null,
   "metadata": {},
   "outputs": [],
   "source": [
    "new_df"
   ]
  },
  {
   "cell_type": "code",
   "execution_count": null,
   "metadata": {},
   "outputs": [],
   "source": [
    "counties = {'county':['Alameda','Amador','Butte','Calaveras','Colusa', 'Contra Costa', 'Del Norte',\n",
    "'El Dorado','Fresno', 'Glenn','Humboldt','Imperial','Inyo','Kern','Kings','Lake','Los Angeles','Madera',\n",
    "'Marin','Mariposa','Merced', 'Mono','Monterey','Napa','Nevada','Orange','Placer','Plumas','Riverside','Sacramento',\n",
    "'San Benito','San Bernardino','San Diego','San Francisco','San Joaquin','San Luis Obispo','San Mateo','Santa Barbara',\n",
    "'Santa Clara','Santa Cruz','Shasta','Siskiyou','Solano','Sonoma','Stanislaus','Sutter','Tehama','Trinity','Tulare',\n",
    "'Tuolumne','Ventura','Yolo']}"
   ]
  },
  {
   "cell_type": "code",
   "execution_count": null,
   "metadata": {},
   "outputs": [],
   "source": [
    "df= pd.DataFrame(counties)\n",
    "df"
   ]
  },
  {
   "cell_type": "code",
   "execution_count": null,
   "metadata": {},
   "outputs": [],
   "source": [
    "df['date']=pd.date_range(start='2021-01-01', end= '2021-12-31')"
   ]
  },
  {
   "cell_type": "code",
   "execution_count": null,
   "metadata": {},
   "outputs": [],
   "source": [
    "df_county_date= pd.date_range(start='2021-01-01', end= '2021-12-31')\n",
    "df_county_date"
   ]
  },
  {
   "cell_type": "code",
   "execution_count": null,
   "metadata": {},
   "outputs": [],
   "source": [
    "df_county_date['county']= counties"
   ]
  },
  {
   "cell_type": "markdown",
   "metadata": {},
   "source": [
    "Final thoughts:\n",
    "> You can search for exactly which counties are missing and dig deeper in analysis. You might create a list of all the countiyes of California then use glob() or any relevant method \n",
    "> It's important to understant why some pollutants recorded as Max while others at Mean"
   ]
  }
 ],
 "metadata": {
  "interpreter": {
   "hash": "d4d1e4263499bec80672ea0156c357c1ee493ec2b1c70f0acce89fc37c4a6abe"
  },
  "kernelspec": {
   "display_name": "Python 3.9.7 ('base')",
   "language": "python",
   "name": "python3"
  },
  "language_info": {
   "codemirror_mode": {
    "name": "ipython",
    "version": 3
   },
   "file_extension": ".py",
   "mimetype": "text/x-python",
   "name": "python",
   "nbconvert_exporter": "python",
   "pygments_lexer": "ipython3",
   "version": "3.9.7"
  },
  "orig_nbformat": 4
 },
 "nbformat": 4,
 "nbformat_minor": 2
}
