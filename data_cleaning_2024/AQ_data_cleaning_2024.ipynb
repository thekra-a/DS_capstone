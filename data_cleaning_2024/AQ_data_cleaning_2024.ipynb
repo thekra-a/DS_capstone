{
 "cells": [
  {
   "cell_type": "code",
   "execution_count": null,
   "metadata": {},
   "outputs": [],
   "source": [
    "pip install seaborn"
   ]
  },
  {
   "cell_type": "code",
   "execution_count": 145,
   "metadata": {},
   "outputs": [],
   "source": [
    "import pandas as pd\n",
    "import numpy as np\n",
    "import matplotlib.pyplot as plt\n",
    "import seaborn as sns\n",
    "import glob as glob"
   ]
  },
  {
   "cell_type": "code",
   "execution_count": 146,
   "metadata": {},
   "outputs": [],
   "source": [
    "#load 2019 air quality data\n",
    "co_19 = pd.read_csv('C:/Users/Thekra/Desktop/ds_cap/DS_capstone/data/2019/CO_2019.csv')\n",
    "no2_19 = pd.read_csv('C:/Users/Thekra/Desktop/ds_cap/DS_capstone/data/2019/NO2_2019.csv')\n",
    "o3_19 = pd.read_csv('C:/Users/Thekra/Desktop/ds_cap/DS_capstone/data/2019/O3_2019.csv')\n",
    "pm25_19= pd.read_csv('C:/Users/Thekra/Desktop/ds_cap/DS_capstone/data/2019/PM2.5_2019.csv')\n",
    "pm10_19 =pd.read_csv('C:/Users/Thekra/Desktop/ds_cap/DS_capstone/data/2019/PM10_2019.csv')"
   ]
  },
  {
   "cell_type": "code",
   "execution_count": 147,
   "metadata": {},
   "outputs": [],
   "source": [
    "#load 2020 air quality data\n",
    "co_20 = pd.read_csv('C:/Users/Thekra/Desktop/ds_cap/DS_capstone/data/2020/CO_2020.csv')\n",
    "no2_20 = pd.read_csv('C:/Users/Thekra/Desktop/ds_cap/DS_capstone/data/2020/NO2_2020.csv')\n",
    "o3_20 = pd.read_csv('C:/Users/Thekra/Desktop/ds_cap/DS_capstone/data/2020/O3_2020.csv')\n",
    "pm25_20= pd.read_csv('C:/Users/Thekra/Desktop/ds_cap/DS_capstone/data/2020/PM2.5_2020.csv')\n",
    "pm10_20 =pd.read_csv('C:/Users/Thekra/Desktop/ds_cap/DS_capstone/data/2020/PM10_2020.csv')"
   ]
  },
  {
   "cell_type": "code",
   "execution_count": 148,
   "metadata": {},
   "outputs": [],
   "source": [
    "#load 2021 air quality data\n",
    "co_21 = pd.read_csv('C:/Users/Thekra/Desktop/ds_cap/DS_capstone/data/2021/CO_2021.csv')\n",
    "no2_21 = pd.read_csv('C:/Users/Thekra/Desktop/ds_cap/DS_capstone/data/2021/NO2_2021.csv')\n",
    "o3_21 = pd.read_csv('C:/Users/Thekra/Desktop/ds_cap/DS_capstone/data/2021/O3_2021.csv')\n",
    "pm25_21= pd.read_csv('C:/Users/Thekra/Desktop/ds_cap/DS_capstone/data/2021/PM2.5_2021.csv')\n",
    "pm10_21 =pd.read_csv('C:/Users/Thekra/Desktop/ds_cap/DS_capstone/data/2021/PM10_2021.csv')"
   ]
  },
  {
   "cell_type": "code",
   "execution_count": 149,
   "metadata": {},
   "outputs": [],
   "source": [
    "#load covid-19 data\n",
    "covid= pd.read_csv('C:/Users/Thekra/Desktop/ds_cap/DS_capstone/data/COVID-19_CA/covid19cases_deaths.csv')"
   ]
  },
  {
   "cell_type": "code",
   "execution_count": 150,
   "metadata": {},
   "outputs": [],
   "source": [
    "#view shape of 2019 datasets to compare the number  of entries after groupingby()"
   ]
  },
  {
   "cell_type": "code",
   "execution_count": 151,
   "metadata": {},
   "outputs": [
    {
     "name": "stdout",
     "output_type": "stream",
     "text": [
      "25\n",
      "43\n",
      "33\n",
      "51\n",
      "49\n"
     ]
    }
   ],
   "source": [
    "#each dataset has different number of counties \n",
    "print(co_19.COUNTY.nunique())\n",
    "print(pm10_19.COUNTY.nunique())\n",
    "print(no2_19.COUNTY.nunique())\n",
    "print(pm25_19.COUNTY.nunique())\n",
    "print(o3_19.COUNTY.nunique())"
   ]
  },
  {
   "cell_type": "markdown",
   "metadata": {},
   "source": [
    "California has 58 counties. This could be interpreted as missing values or simply the air pollutant is not being recorded in all counties. What matters is within the same readings of the air pollutant is to deal with mssing data there"
   ]
  },
  {
   "cell_type": "code",
   "execution_count": 152,
   "metadata": {},
   "outputs": [
    {
     "name": "stdout",
     "output_type": "stream",
     "text": [
      "25\n",
      "43\n",
      "33\n",
      "51\n",
      "49\n"
     ]
    }
   ],
   "source": [
    "#each dataset has different number of counties in 2020\n",
    "print(co_20.COUNTY.nunique())\n",
    "print(pm10_20.COUNTY.nunique())\n",
    "print(no2_20.COUNTY.nunique())\n",
    "print(pm25_20.COUNTY.nunique())\n",
    "print(o3_20.COUNTY.nunique())"
   ]
  },
  {
   "cell_type": "code",
   "execution_count": 153,
   "metadata": {},
   "outputs": [
    {
     "name": "stdout",
     "output_type": "stream",
     "text": [
      "25\n",
      "42\n",
      "33\n",
      "49\n",
      "48\n"
     ]
    }
   ],
   "source": [
    " #each dataset has different number of counties in 2021\n",
    "print(co_21.COUNTY.nunique())\n",
    "print(pm10_21.COUNTY.nunique())\n",
    "print(no2_21.COUNTY.nunique())\n",
    "print(pm25_21.COUNTY.nunique())\n",
    "print(o3_21.COUNTY.nunique())"
   ]
  },
  {
   "cell_type": "markdown",
   "metadata": {},
   "source": [
    "We notice missing values in pm10_21, pm25_21, . Will deal with it later when we get to 2021. Now lets work on 2019"
   ]
  },
  {
   "cell_type": "markdown",
   "metadata": {},
   "source": [
    "Let's explore and process each year on its own first"
   ]
  },
  {
   "cell_type": "code",
   "execution_count": 154,
   "metadata": {},
   "outputs": [
    {
     "data": {
      "text/html": [
       "<div>\n",
       "<style scoped>\n",
       "    .dataframe tbody tr th:only-of-type {\n",
       "        vertical-align: middle;\n",
       "    }\n",
       "\n",
       "    .dataframe tbody tr th {\n",
       "        vertical-align: top;\n",
       "    }\n",
       "\n",
       "    .dataframe thead th {\n",
       "        text-align: right;\n",
       "    }\n",
       "</style>\n",
       "<table border=\"1\" class=\"dataframe\">\n",
       "  <thead>\n",
       "    <tr style=\"text-align: right;\">\n",
       "      <th></th>\n",
       "      <th>Date</th>\n",
       "      <th>Source</th>\n",
       "      <th>Site ID</th>\n",
       "      <th>POC</th>\n",
       "      <th>Daily Max 8-hour CO Concentration</th>\n",
       "      <th>UNITS</th>\n",
       "      <th>DAILY_AQI_VALUE</th>\n",
       "      <th>Site Name</th>\n",
       "      <th>DAILY_OBS_COUNT</th>\n",
       "      <th>PERCENT_COMPLETE</th>\n",
       "      <th>AQS_PARAMETER_CODE</th>\n",
       "      <th>AQS_PARAMETER_DESC</th>\n",
       "      <th>CBSA_CODE</th>\n",
       "      <th>CBSA_NAME</th>\n",
       "      <th>STATE_CODE</th>\n",
       "      <th>STATE</th>\n",
       "      <th>COUNTY_CODE</th>\n",
       "      <th>COUNTY</th>\n",
       "      <th>SITE_LATITUDE</th>\n",
       "      <th>SITE_LONGITUDE</th>\n",
       "    </tr>\n",
       "  </thead>\n",
       "  <tbody>\n",
       "    <tr>\n",
       "      <th>0</th>\n",
       "      <td>01/01/2019</td>\n",
       "      <td>AQS</td>\n",
       "      <td>60010009</td>\n",
       "      <td>1</td>\n",
       "      <td>0.4</td>\n",
       "      <td>ppm</td>\n",
       "      <td>5</td>\n",
       "      <td>Oakland</td>\n",
       "      <td>18</td>\n",
       "      <td>75.0</td>\n",
       "      <td>42101</td>\n",
       "      <td>Carbon monoxide</td>\n",
       "      <td>41860</td>\n",
       "      <td>San Francisco-Oakland-Hayward, CA</td>\n",
       "      <td>6</td>\n",
       "      <td>California</td>\n",
       "      <td>1</td>\n",
       "      <td>Alameda</td>\n",
       "      <td>37.743065</td>\n",
       "      <td>-122.169935</td>\n",
       "    </tr>\n",
       "    <tr>\n",
       "      <th>1</th>\n",
       "      <td>01/02/2019</td>\n",
       "      <td>AQS</td>\n",
       "      <td>60010009</td>\n",
       "      <td>1</td>\n",
       "      <td>0.6</td>\n",
       "      <td>ppm</td>\n",
       "      <td>7</td>\n",
       "      <td>Oakland</td>\n",
       "      <td>24</td>\n",
       "      <td>100.0</td>\n",
       "      <td>42101</td>\n",
       "      <td>Carbon monoxide</td>\n",
       "      <td>41860</td>\n",
       "      <td>San Francisco-Oakland-Hayward, CA</td>\n",
       "      <td>6</td>\n",
       "      <td>California</td>\n",
       "      <td>1</td>\n",
       "      <td>Alameda</td>\n",
       "      <td>37.743065</td>\n",
       "      <td>-122.169935</td>\n",
       "    </tr>\n",
       "    <tr>\n",
       "      <th>2</th>\n",
       "      <td>01/03/2019</td>\n",
       "      <td>AQS</td>\n",
       "      <td>60010009</td>\n",
       "      <td>1</td>\n",
       "      <td>0.6</td>\n",
       "      <td>ppm</td>\n",
       "      <td>7</td>\n",
       "      <td>Oakland</td>\n",
       "      <td>24</td>\n",
       "      <td>100.0</td>\n",
       "      <td>42101</td>\n",
       "      <td>Carbon monoxide</td>\n",
       "      <td>41860</td>\n",
       "      <td>San Francisco-Oakland-Hayward, CA</td>\n",
       "      <td>6</td>\n",
       "      <td>California</td>\n",
       "      <td>1</td>\n",
       "      <td>Alameda</td>\n",
       "      <td>37.743065</td>\n",
       "      <td>-122.169935</td>\n",
       "    </tr>\n",
       "    <tr>\n",
       "      <th>3</th>\n",
       "      <td>01/04/2019</td>\n",
       "      <td>AQS</td>\n",
       "      <td>60010009</td>\n",
       "      <td>1</td>\n",
       "      <td>0.7</td>\n",
       "      <td>ppm</td>\n",
       "      <td>8</td>\n",
       "      <td>Oakland</td>\n",
       "      <td>24</td>\n",
       "      <td>100.0</td>\n",
       "      <td>42101</td>\n",
       "      <td>Carbon monoxide</td>\n",
       "      <td>41860</td>\n",
       "      <td>San Francisco-Oakland-Hayward, CA</td>\n",
       "      <td>6</td>\n",
       "      <td>California</td>\n",
       "      <td>1</td>\n",
       "      <td>Alameda</td>\n",
       "      <td>37.743065</td>\n",
       "      <td>-122.169935</td>\n",
       "    </tr>\n",
       "    <tr>\n",
       "      <th>4</th>\n",
       "      <td>01/05/2019</td>\n",
       "      <td>AQS</td>\n",
       "      <td>60010009</td>\n",
       "      <td>1</td>\n",
       "      <td>0.6</td>\n",
       "      <td>ppm</td>\n",
       "      <td>7</td>\n",
       "      <td>Oakland</td>\n",
       "      <td>24</td>\n",
       "      <td>100.0</td>\n",
       "      <td>42101</td>\n",
       "      <td>Carbon monoxide</td>\n",
       "      <td>41860</td>\n",
       "      <td>San Francisco-Oakland-Hayward, CA</td>\n",
       "      <td>6</td>\n",
       "      <td>California</td>\n",
       "      <td>1</td>\n",
       "      <td>Alameda</td>\n",
       "      <td>37.743065</td>\n",
       "      <td>-122.169935</td>\n",
       "    </tr>\n",
       "  </tbody>\n",
       "</table>\n",
       "</div>"
      ],
      "text/plain": [
       "         Date Source   Site ID  POC  Daily Max 8-hour CO Concentration UNITS  \\\n",
       "0  01/01/2019    AQS  60010009    1                                0.4   ppm   \n",
       "1  01/02/2019    AQS  60010009    1                                0.6   ppm   \n",
       "2  01/03/2019    AQS  60010009    1                                0.6   ppm   \n",
       "3  01/04/2019    AQS  60010009    1                                0.7   ppm   \n",
       "4  01/05/2019    AQS  60010009    1                                0.6   ppm   \n",
       "\n",
       "   DAILY_AQI_VALUE Site Name  DAILY_OBS_COUNT  PERCENT_COMPLETE  \\\n",
       "0                5   Oakland               18              75.0   \n",
       "1                7   Oakland               24             100.0   \n",
       "2                7   Oakland               24             100.0   \n",
       "3                8   Oakland               24             100.0   \n",
       "4                7   Oakland               24             100.0   \n",
       "\n",
       "   AQS_PARAMETER_CODE AQS_PARAMETER_DESC  CBSA_CODE  \\\n",
       "0               42101    Carbon monoxide      41860   \n",
       "1               42101    Carbon monoxide      41860   \n",
       "2               42101    Carbon monoxide      41860   \n",
       "3               42101    Carbon monoxide      41860   \n",
       "4               42101    Carbon monoxide      41860   \n",
       "\n",
       "                           CBSA_NAME  STATE_CODE       STATE  COUNTY_CODE  \\\n",
       "0  San Francisco-Oakland-Hayward, CA           6  California            1   \n",
       "1  San Francisco-Oakland-Hayward, CA           6  California            1   \n",
       "2  San Francisco-Oakland-Hayward, CA           6  California            1   \n",
       "3  San Francisco-Oakland-Hayward, CA           6  California            1   \n",
       "4  San Francisco-Oakland-Hayward, CA           6  California            1   \n",
       "\n",
       "    COUNTY  SITE_LATITUDE  SITE_LONGITUDE  \n",
       "0  Alameda      37.743065     -122.169935  \n",
       "1  Alameda      37.743065     -122.169935  \n",
       "2  Alameda      37.743065     -122.169935  \n",
       "3  Alameda      37.743065     -122.169935  \n",
       "4  Alameda      37.743065     -122.169935  "
      ]
     },
     "execution_count": 154,
     "metadata": {},
     "output_type": "execute_result"
    }
   ],
   "source": [
    "co_19.head()"
   ]
  },
  {
   "cell_type": "code",
   "execution_count": 155,
   "metadata": {},
   "outputs": [
    {
     "name": "stdout",
     "output_type": "stream",
     "text": [
      "<class 'pandas.core.frame.DataFrame'>\n",
      "RangeIndex: 22290 entries, 0 to 22289\n",
      "Data columns (total 20 columns):\n",
      " #   Column                             Non-Null Count  Dtype  \n",
      "---  ------                             --------------  -----  \n",
      " 0   Date                               22290 non-null  object \n",
      " 1   Source                             22290 non-null  object \n",
      " 2   Site ID                            22290 non-null  int64  \n",
      " 3   POC                                22290 non-null  int64  \n",
      " 4   Daily Max 8-hour CO Concentration  22290 non-null  float64\n",
      " 5   UNITS                              22290 non-null  object \n",
      " 6   DAILY_AQI_VALUE                    22290 non-null  int64  \n",
      " 7   Site Name                          22290 non-null  object \n",
      " 8   DAILY_OBS_COUNT                    22290 non-null  int64  \n",
      " 9   PERCENT_COMPLETE                   22290 non-null  float64\n",
      " 10  AQS_PARAMETER_CODE                 22290 non-null  int64  \n",
      " 11  AQS_PARAMETER_DESC                 22290 non-null  object \n",
      " 12  CBSA_CODE                          22290 non-null  int64  \n",
      " 13  CBSA_NAME                          22290 non-null  object \n",
      " 14  STATE_CODE                         22290 non-null  int64  \n",
      " 15  STATE                              22290 non-null  object \n",
      " 16  COUNTY_CODE                        22290 non-null  int64  \n",
      " 17  COUNTY                             22290 non-null  object \n",
      " 18  SITE_LATITUDE                      22290 non-null  float64\n",
      " 19  SITE_LONGITUDE                     22290 non-null  float64\n",
      "dtypes: float64(4), int64(8), object(8)\n",
      "memory usage: 3.4+ MB\n"
     ]
    }
   ],
   "source": [
    "co_19.info()"
   ]
  },
  {
   "cell_type": "code",
   "execution_count": 156,
   "metadata": {},
   "outputs": [],
   "source": [
    "#We notice that 'Date' is not a Datetime format\n",
    "#convert 'Date' to datetime dtype. We choose this specific arrangement as opposed to\n",
    "# %d/%m/%y because the data is rcorded that way originally. This is why first inspection of the CSV file is necessary\n",
    "co_19['Date']=pd.to_datetime(co_19['Date'], format = \"%m/%d/%Y\")\n",
    "pm10_19['Date']=pd.to_datetime(pm10_19['Date'], format = \"%m/%d/%Y\")\n",
    "pm25_19['Date']=pd.to_datetime(pm25_19['Date'], format = \"%m/%d/%Y\")\n",
    "no2_19['Date']=pd.to_datetime(no2_19['Date'], format = \"%m/%d/%Y\")\n",
    "o3_19['Date']=pd.to_datetime(o3_19['Date'], format = \"%m/%d/%Y\")\n"
   ]
  },
  {
   "cell_type": "code",
   "execution_count": 157,
   "metadata": {},
   "outputs": [
    {
     "name": "stderr",
     "output_type": "stream",
     "text": [
      "C:\\Users\\Thekra\\AppData\\Local\\Temp\\ipykernel_5828\\3832656372.py:6: FutureWarning: The default value of numeric_only in DataFrameGroupBy.mean is deprecated. In a future version, numeric_only will default to False. Either specify numeric_only or select only columns which should be valid for the function.\n",
      "  co_19=co_19.groupby('Date').mean()\n",
      "C:\\Users\\Thekra\\AppData\\Local\\Temp\\ipykernel_5828\\3832656372.py:7: FutureWarning: The default value of numeric_only in DataFrameGroupBy.mean is deprecated. In a future version, numeric_only will default to False. Either specify numeric_only or select only columns which should be valid for the function.\n",
      "  o3_19=o3_19.groupby('Date').mean()\n",
      "C:\\Users\\Thekra\\AppData\\Local\\Temp\\ipykernel_5828\\3832656372.py:8: FutureWarning: The default value of numeric_only in DataFrameGroupBy.mean is deprecated. In a future version, numeric_only will default to False. Either specify numeric_only or select only columns which should be valid for the function.\n",
      "  no2_19=no2_19.groupby('Date').mean()\n",
      "C:\\Users\\Thekra\\AppData\\Local\\Temp\\ipykernel_5828\\3832656372.py:9: FutureWarning: The default value of numeric_only in DataFrameGroupBy.mean is deprecated. In a future version, numeric_only will default to False. Either specify numeric_only or select only columns which should be valid for the function.\n",
      "  pm10_19=pm10_19.groupby('Date').mean()\n",
      "C:\\Users\\Thekra\\AppData\\Local\\Temp\\ipykernel_5828\\3832656372.py:10: FutureWarning: The default value of numeric_only in DataFrameGroupBy.mean is deprecated. In a future version, numeric_only will default to False. Either specify numeric_only or select only columns which should be valid for the function.\n",
      "  pm25_19=pm25_19.groupby('Date').mean()\n"
     ]
    }
   ],
   "source": [
    "#Now we will groupby() date and assign that to the original dataset. \n",
    "#Rationale for grouping by date: for every day, there is around -+50 entries; one recodrding for each county\n",
    "#It's best to see the big picture and just view the concenration of that pollutant over that day,\n",
    "#aka instead of +2000 entries /rows for each dataset we will get only 365 or so depending on if there are any missing dates\n",
    "#grouping by date will automatically eliminates the column 'County'\n",
    "co_19=co_19.groupby('Date').mean()\n",
    "o3_19=o3_19.groupby('Date').mean()\n",
    "no2_19=no2_19.groupby('Date').mean()\n",
    "pm10_19=pm10_19.groupby('Date').mean()\n",
    "pm25_19=pm25_19.groupby('Date').mean()"
   ]
  },
  {
   "cell_type": "code",
   "execution_count": 158,
   "metadata": {},
   "outputs": [
    {
     "data": {
      "text/html": [
       "<div>\n",
       "<style scoped>\n",
       "    .dataframe tbody tr th:only-of-type {\n",
       "        vertical-align: middle;\n",
       "    }\n",
       "\n",
       "    .dataframe tbody tr th {\n",
       "        vertical-align: top;\n",
       "    }\n",
       "\n",
       "    .dataframe thead th {\n",
       "        text-align: right;\n",
       "    }\n",
       "</style>\n",
       "<table border=\"1\" class=\"dataframe\">\n",
       "  <thead>\n",
       "    <tr style=\"text-align: right;\">\n",
       "      <th></th>\n",
       "      <th>Site ID</th>\n",
       "      <th>POC</th>\n",
       "      <th>Daily Max 1-hour NO2 Concentration</th>\n",
       "      <th>DAILY_AQI_VALUE</th>\n",
       "      <th>DAILY_OBS_COUNT</th>\n",
       "      <th>PERCENT_COMPLETE</th>\n",
       "      <th>AQS_PARAMETER_CODE</th>\n",
       "      <th>CBSA_CODE</th>\n",
       "      <th>STATE_CODE</th>\n",
       "      <th>COUNTY_CODE</th>\n",
       "      <th>SITE_LATITUDE</th>\n",
       "      <th>SITE_LONGITUDE</th>\n",
       "    </tr>\n",
       "    <tr>\n",
       "      <th>Date</th>\n",
       "      <th></th>\n",
       "      <th></th>\n",
       "      <th></th>\n",
       "      <th></th>\n",
       "      <th></th>\n",
       "      <th></th>\n",
       "      <th></th>\n",
       "      <th></th>\n",
       "      <th></th>\n",
       "      <th></th>\n",
       "      <th></th>\n",
       "      <th></th>\n",
       "    </tr>\n",
       "  </thead>\n",
       "  <tbody>\n",
       "    <tr>\n",
       "      <th>2019-01-01</th>\n",
       "      <td>6.054638e+07</td>\n",
       "      <td>1.166667</td>\n",
       "      <td>19.560417</td>\n",
       "      <td>18.093750</td>\n",
       "      <td>23.177083</td>\n",
       "      <td>96.708333</td>\n",
       "      <td>42602.0</td>\n",
       "      <td>36027.500000</td>\n",
       "      <td>6.0</td>\n",
       "      <td>54.479167</td>\n",
       "      <td>35.704739</td>\n",
       "      <td>-119.580122</td>\n",
       "    </tr>\n",
       "    <tr>\n",
       "      <th>2019-01-02</th>\n",
       "      <td>6.054638e+07</td>\n",
       "      <td>1.166667</td>\n",
       "      <td>29.459375</td>\n",
       "      <td>27.520833</td>\n",
       "      <td>22.843750</td>\n",
       "      <td>95.333333</td>\n",
       "      <td>42602.0</td>\n",
       "      <td>36027.500000</td>\n",
       "      <td>6.0</td>\n",
       "      <td>54.479167</td>\n",
       "      <td>35.704739</td>\n",
       "      <td>-119.580122</td>\n",
       "    </tr>\n",
       "    <tr>\n",
       "      <th>2019-01-03</th>\n",
       "      <td>6.054668e+07</td>\n",
       "      <td>1.163265</td>\n",
       "      <td>30.051020</td>\n",
       "      <td>28.030612</td>\n",
       "      <td>22.959184</td>\n",
       "      <td>95.795918</td>\n",
       "      <td>42602.0</td>\n",
       "      <td>36023.673469</td>\n",
       "      <td>6.0</td>\n",
       "      <td>54.510204</td>\n",
       "      <td>35.686228</td>\n",
       "      <td>-119.569303</td>\n",
       "    </tr>\n",
       "    <tr>\n",
       "      <th>2019-01-04</th>\n",
       "      <td>6.054689e+07</td>\n",
       "      <td>1.163265</td>\n",
       "      <td>32.317347</td>\n",
       "      <td>30.214286</td>\n",
       "      <td>23.000000</td>\n",
       "      <td>95.979592</td>\n",
       "      <td>42602.0</td>\n",
       "      <td>36040.000000</td>\n",
       "      <td>6.0</td>\n",
       "      <td>54.530612</td>\n",
       "      <td>35.675181</td>\n",
       "      <td>-119.564776</td>\n",
       "    </tr>\n",
       "    <tr>\n",
       "      <th>2019-01-05</th>\n",
       "      <td>6.054689e+07</td>\n",
       "      <td>1.163265</td>\n",
       "      <td>24.112245</td>\n",
       "      <td>22.438776</td>\n",
       "      <td>23.051020</td>\n",
       "      <td>96.204082</td>\n",
       "      <td>42602.0</td>\n",
       "      <td>36040.000000</td>\n",
       "      <td>6.0</td>\n",
       "      <td>54.530612</td>\n",
       "      <td>35.675181</td>\n",
       "      <td>-119.564776</td>\n",
       "    </tr>\n",
       "  </tbody>\n",
       "</table>\n",
       "</div>"
      ],
      "text/plain": [
       "                 Site ID       POC  Daily Max 1-hour NO2 Concentration  \\\n",
       "Date                                                                     \n",
       "2019-01-01  6.054638e+07  1.166667                           19.560417   \n",
       "2019-01-02  6.054638e+07  1.166667                           29.459375   \n",
       "2019-01-03  6.054668e+07  1.163265                           30.051020   \n",
       "2019-01-04  6.054689e+07  1.163265                           32.317347   \n",
       "2019-01-05  6.054689e+07  1.163265                           24.112245   \n",
       "\n",
       "            DAILY_AQI_VALUE  DAILY_OBS_COUNT  PERCENT_COMPLETE  \\\n",
       "Date                                                             \n",
       "2019-01-01        18.093750        23.177083         96.708333   \n",
       "2019-01-02        27.520833        22.843750         95.333333   \n",
       "2019-01-03        28.030612        22.959184         95.795918   \n",
       "2019-01-04        30.214286        23.000000         95.979592   \n",
       "2019-01-05        22.438776        23.051020         96.204082   \n",
       "\n",
       "            AQS_PARAMETER_CODE     CBSA_CODE  STATE_CODE  COUNTY_CODE  \\\n",
       "Date                                                                    \n",
       "2019-01-01             42602.0  36027.500000         6.0    54.479167   \n",
       "2019-01-02             42602.0  36027.500000         6.0    54.479167   \n",
       "2019-01-03             42602.0  36023.673469         6.0    54.510204   \n",
       "2019-01-04             42602.0  36040.000000         6.0    54.530612   \n",
       "2019-01-05             42602.0  36040.000000         6.0    54.530612   \n",
       "\n",
       "            SITE_LATITUDE  SITE_LONGITUDE  \n",
       "Date                                       \n",
       "2019-01-01      35.704739     -119.580122  \n",
       "2019-01-02      35.704739     -119.580122  \n",
       "2019-01-03      35.686228     -119.569303  \n",
       "2019-01-04      35.675181     -119.564776  \n",
       "2019-01-05      35.675181     -119.564776  "
      ]
     },
     "execution_count": 158,
     "metadata": {},
     "output_type": "execute_result"
    }
   ],
   "source": [
    "#take a look at an example\n",
    "no2_19.head()"
   ]
  },
  {
   "cell_type": "markdown",
   "metadata": {},
   "source": [
    "Notice that 'County' and 'Units' were gone after grouping. \n",
    ">Explain why?"
   ]
  },
  {
   "cell_type": "code",
   "execution_count": 159,
   "metadata": {},
   "outputs": [
    {
     "name": "stdout",
     "output_type": "stream",
     "text": [
      "<class 'pandas.core.frame.DataFrame'>\n",
      "DatetimeIndex: 365 entries, 2019-01-01 to 2019-12-31\n",
      "Data columns (total 12 columns):\n",
      " #   Column                              Non-Null Count  Dtype  \n",
      "---  ------                              --------------  -----  \n",
      " 0   Site ID                             365 non-null    float64\n",
      " 1   POC                                 365 non-null    float64\n",
      " 2   Daily Max 1-hour NO2 Concentration  365 non-null    float64\n",
      " 3   DAILY_AQI_VALUE                     365 non-null    float64\n",
      " 4   DAILY_OBS_COUNT                     365 non-null    float64\n",
      " 5   PERCENT_COMPLETE                    365 non-null    float64\n",
      " 6   AQS_PARAMETER_CODE                  365 non-null    float64\n",
      " 7   CBSA_CODE                           365 non-null    float64\n",
      " 8   STATE_CODE                          365 non-null    float64\n",
      " 9   COUNTY_CODE                         365 non-null    float64\n",
      " 10  SITE_LATITUDE                       365 non-null    float64\n",
      " 11  SITE_LONGITUDE                      365 non-null    float64\n",
      "dtypes: float64(12)\n",
      "memory usage: 37.1 KB\n"
     ]
    }
   ],
   "source": [
    "#for this dataset, 365 data entries (as expected) where previously it was 34,515 \n",
    "no2_19.info()"
   ]
  },
  {
   "cell_type": "markdown",
   "metadata": {},
   "source": [
    "Next step: eliminate the following columns because of their irrelevance: Site ID, POC, Dails AQI, Daily OBS, AQSParamerter code, CBSA_code. StateCode, CountyCoe, Site latitude, site longitude\n",
    "> I've decided to keep 'SITE ID' just in case the analysis shows something interesting and we want to delve deeper in analysis\n",
    "> Update: Site ID is not important because it numerical and after merging all sites will be calculated as avergaes so I'll delete that"
   ]
  },
  {
   "cell_type": "code",
   "execution_count": 160,
   "metadata": {},
   "outputs": [],
   "source": [
    "co_19.drop(['Site ID','POC','CBSA_CODE','DAILY_AQI_VALUE','DAILY_OBS_COUNT',\n",
    "             'AQS_PARAMETER_CODE','STATE_CODE','COUNTY_CODE','SITE_LATITUDE','SITE_LONGITUDE'], axis=1, inplace=True)\n",
    "pm25_19.drop(['Site ID','POC','CBSA_CODE','DAILY_AQI_VALUE','DAILY_OBS_COUNT',\n",
    "             'AQS_PARAMETER_CODE','STATE_CODE','COUNTY_CODE','SITE_LATITUDE','SITE_LONGITUDE'], axis=1, inplace=True)\n",
    "pm10_19.drop(['Site ID','POC','CBSA_CODE','DAILY_AQI_VALUE','DAILY_OBS_COUNT',\n",
    "             'AQS_PARAMETER_CODE','STATE_CODE','COUNTY_CODE','SITE_LATITUDE','SITE_LONGITUDE'], axis=1, inplace=True)\n",
    "o3_19.drop(['Site ID','POC','CBSA_CODE','DAILY_AQI_VALUE','DAILY_OBS_COUNT',\n",
    "             'AQS_PARAMETER_CODE','STATE_CODE','COUNTY_CODE','SITE_LATITUDE','SITE_LONGITUDE'], axis=1, inplace=True)\n",
    "no2_19.drop(['Site ID','POC','CBSA_CODE','DAILY_AQI_VALUE','DAILY_OBS_COUNT',\n",
    "             'AQS_PARAMETER_CODE','STATE_CODE','COUNTY_CODE','SITE_LATITUDE','SITE_LONGITUDE'], axis=1, inplace=True)"
   ]
  },
  {
   "cell_type": "code",
   "execution_count": 161,
   "metadata": {},
   "outputs": [
    {
     "data": {
      "text/html": [
       "<div>\n",
       "<style scoped>\n",
       "    .dataframe tbody tr th:only-of-type {\n",
       "        vertical-align: middle;\n",
       "    }\n",
       "\n",
       "    .dataframe tbody tr th {\n",
       "        vertical-align: top;\n",
       "    }\n",
       "\n",
       "    .dataframe thead th {\n",
       "        text-align: right;\n",
       "    }\n",
       "</style>\n",
       "<table border=\"1\" class=\"dataframe\">\n",
       "  <thead>\n",
       "    <tr style=\"text-align: right;\">\n",
       "      <th></th>\n",
       "      <th>Daily Max 8-hour Ozone Concentration</th>\n",
       "      <th>PERCENT_COMPLETE</th>\n",
       "    </tr>\n",
       "    <tr>\n",
       "      <th>Date</th>\n",
       "      <th></th>\n",
       "      <th></th>\n",
       "    </tr>\n",
       "  </thead>\n",
       "  <tbody>\n",
       "    <tr>\n",
       "      <th>2019-01-01</th>\n",
       "      <td>0.033000</td>\n",
       "      <td>99.734177</td>\n",
       "    </tr>\n",
       "    <tr>\n",
       "      <th>2019-01-02</th>\n",
       "      <td>0.030066</td>\n",
       "      <td>99.523179</td>\n",
       "    </tr>\n",
       "    <tr>\n",
       "      <th>2019-01-03</th>\n",
       "      <td>0.028192</td>\n",
       "      <td>99.384615</td>\n",
       "    </tr>\n",
       "    <tr>\n",
       "      <th>2019-01-04</th>\n",
       "      <td>0.028737</td>\n",
       "      <td>99.884615</td>\n",
       "    </tr>\n",
       "    <tr>\n",
       "      <th>2019-01-05</th>\n",
       "      <td>0.031823</td>\n",
       "      <td>99.810127</td>\n",
       "    </tr>\n",
       "  </tbody>\n",
       "</table>\n",
       "</div>"
      ],
      "text/plain": [
       "            Daily Max 8-hour Ozone Concentration  PERCENT_COMPLETE\n",
       "Date                                                              \n",
       "2019-01-01                              0.033000         99.734177\n",
       "2019-01-02                              0.030066         99.523179\n",
       "2019-01-03                              0.028192         99.384615\n",
       "2019-01-04                              0.028737         99.884615\n",
       "2019-01-05                              0.031823         99.810127"
      ]
     },
     "execution_count": 161,
     "metadata": {},
     "output_type": "execute_result"
    }
   ],
   "source": [
    "#have a look at the results\n",
    "o3_19.head()"
   ]
  },
  {
   "cell_type": "code",
   "execution_count": 162,
   "metadata": {},
   "outputs": [
    {
     "name": "stdout",
     "output_type": "stream",
     "text": [
      "(365, 2)\n",
      "(365, 2)\n",
      "(364, 2)\n",
      "(365, 2)\n",
      "(365, 2)\n"
     ]
    }
   ],
   "source": [
    "#Nice. Now, are we misisng any dates?\n",
    "print(co_19.shape)\n",
    "print(no2_19.shape)\n",
    "print(o3_19.shape)\n",
    "print(pm10_19.shape)\n",
    "print(pm25_19.shape)"
   ]
  },
  {
   "cell_type": "code",
   "execution_count": 163,
   "metadata": {},
   "outputs": [
    {
     "data": {
      "text/plain": [
       "DatetimeIndex(['2019-12-31'], dtype='datetime64[ns]', freq=None)"
      ]
     },
     "execution_count": 163,
     "metadata": {},
     "output_type": "execute_result"
    }
   ],
   "source": [
    "#missing dates in o3. It's fun to find find which day it is :)\n",
    "pd.date_range(start = '2019-01-01', end = '2019-12-31').difference(o3_19.index)"
   ]
  },
  {
   "cell_type": "code",
   "execution_count": 164,
   "metadata": {},
   "outputs": [
    {
     "data": {
      "text/html": [
       "<div>\n",
       "<style scoped>\n",
       "    .dataframe tbody tr th:only-of-type {\n",
       "        vertical-align: middle;\n",
       "    }\n",
       "\n",
       "    .dataframe tbody tr th {\n",
       "        vertical-align: top;\n",
       "    }\n",
       "\n",
       "    .dataframe thead th {\n",
       "        text-align: right;\n",
       "    }\n",
       "</style>\n",
       "<table border=\"1\" class=\"dataframe\">\n",
       "  <thead>\n",
       "    <tr style=\"text-align: right;\">\n",
       "      <th></th>\n",
       "      <th>Daily Max 8-hour Ozone Concentration</th>\n",
       "      <th>PERCENT_COMPLETE</th>\n",
       "    </tr>\n",
       "    <tr>\n",
       "      <th>Date</th>\n",
       "      <th></th>\n",
       "      <th></th>\n",
       "    </tr>\n",
       "  </thead>\n",
       "  <tbody>\n",
       "    <tr>\n",
       "      <th>2019-12-26</th>\n",
       "      <td>0.031275</td>\n",
       "      <td>99.607843</td>\n",
       "    </tr>\n",
       "    <tr>\n",
       "      <th>2019-12-27</th>\n",
       "      <td>0.029230</td>\n",
       "      <td>99.447368</td>\n",
       "    </tr>\n",
       "    <tr>\n",
       "      <th>2019-12-28</th>\n",
       "      <td>0.029285</td>\n",
       "      <td>99.506329</td>\n",
       "    </tr>\n",
       "    <tr>\n",
       "      <th>2019-12-29</th>\n",
       "      <td>0.028924</td>\n",
       "      <td>99.582278</td>\n",
       "    </tr>\n",
       "    <tr>\n",
       "      <th>2019-12-30</th>\n",
       "      <td>0.028506</td>\n",
       "      <td>99.582278</td>\n",
       "    </tr>\n",
       "  </tbody>\n",
       "</table>\n",
       "</div>"
      ],
      "text/plain": [
       "            Daily Max 8-hour Ozone Concentration  PERCENT_COMPLETE\n",
       "Date                                                              \n",
       "2019-12-26                              0.031275         99.607843\n",
       "2019-12-27                              0.029230         99.447368\n",
       "2019-12-28                              0.029285         99.506329\n",
       "2019-12-29                              0.028924         99.582278\n",
       "2019-12-30                              0.028506         99.582278"
      ]
     },
     "execution_count": 164,
     "metadata": {},
     "output_type": "execute_result"
    }
   ],
   "source": [
    "#the result told us that the missing date is December 31. Let's check of thats true:\n",
    "o3_19.tail()"
   ]
  },
  {
   "cell_type": "markdown",
   "metadata": {},
   "source": [
    "Next Step: rename columns\n",
    "First explore all the columns that we have so far after grouping by and dropping others, then rename"
   ]
  },
  {
   "cell_type": "code",
   "execution_count": 165,
   "metadata": {},
   "outputs": [
    {
     "name": "stdout",
     "output_type": "stream",
     "text": [
      "Daily Max 8-hour CO Concentration    False\n",
      "PERCENT_COMPLETE                     False\n",
      "dtype: bool\n",
      "Daily Max 8-hour Ozone Concentration    False\n",
      "PERCENT_COMPLETE                        False\n",
      "dtype: bool\n",
      "Daily Max 1-hour NO2 Concentration    False\n",
      "PERCENT_COMPLETE                      False\n",
      "dtype: bool\n",
      "Daily Mean PM10 Concentration    False\n",
      "PERCENT_COMPLETE                 False\n",
      "dtype: bool\n",
      "Daily Mean PM2.5 Concentration    False\n",
      "PERCENT_COMPLETE                  False\n",
      "dtype: bool\n"
     ]
    }
   ],
   "source": [
    "#Ok cool. Are we missing any data points at all?\n",
    "print(co_19.isna().any())\n",
    "print(o3_19.isna().any())\n",
    "print(no2_19.isna().any())\n",
    "print(pm10_19.isna().any())\n",
    "print(pm25_19.isna().any())"
   ]
  },
  {
   "cell_type": "code",
   "execution_count": 166,
   "metadata": {},
   "outputs": [
    {
     "name": "stdout",
     "output_type": "stream",
     "text": [
      "Index(['Daily Max 8-hour CO Concentration', 'PERCENT_COMPLETE'], dtype='object')\n",
      "Index(['Daily Max 1-hour NO2 Concentration', 'PERCENT_COMPLETE'], dtype='object')\n",
      "Index(['Daily Max 8-hour Ozone Concentration', 'PERCENT_COMPLETE'], dtype='object')\n",
      "Index(['Daily Mean PM10 Concentration', 'PERCENT_COMPLETE'], dtype='object')\n",
      "Index(['Daily Mean PM2.5 Concentration', 'PERCENT_COMPLETE'], dtype='object')\n"
     ]
    }
   ],
   "source": [
    "print(co_19.columns)\n",
    "print(no2_19.columns)\n",
    "print(o3_19.columns)\n",
    "print(pm10_19.columns)\n",
    "print(pm25_19.columns)"
   ]
  },
  {
   "cell_type": "code",
   "execution_count": 167,
   "metadata": {},
   "outputs": [],
   "source": [
    "#rename columns\n",
    "co_19.rename(columns={'Site ID':'site_id', 'Daily Max 8-hour CO Concentration':'daily_max_co','PERCENT_COMPLETE':'percent_complete'}, inplace=True)\n"
   ]
  },
  {
   "cell_type": "code",
   "execution_count": 168,
   "metadata": {},
   "outputs": [],
   "source": [
    "no2_19.rename(columns={'Site ID':'site_id','Daily Max 1-hour NO2 Concentration':'daily_max_no2', 'PERCENT_COMPLETE':'percent_complete'}, inplace=True)\n",
    "o3_19.rename(columns={'Site ID':'site_id','Daily Max 8-hour Ozone Concentration':'daily_max_o3','PERCENT_COMPLETE':'percent_complete'}, inplace=True)\n",
    "pm10_19.rename(columns={'Site ID':'site_id','Daily Mean PM10 Concentration':'daily_mean_pm10','PERCENT_COMPLETE':'percent_complete'}, inplace=True)\n",
    "pm25_19.rename(columns={'Site ID':'site_id','Daily Mean PM2.5 Concentration':'daily_mean_pm2.5','PERCENT_COMPLETE':'percent_complete'}, inplace=True)\n"
   ]
  },
  {
   "cell_type": "markdown",
   "metadata": {},
   "source": [
    "Rename percent_complete to indicate each percent_complete is specific to each pollutant (e.g. percent_complete_co3) so they dont get mergened togther after we pd.merge(). or explore any specific information provided in this column each dataset on its own beofore moving foreward with this dataset"
   ]
  },
  {
   "cell_type": "code",
   "execution_count": 169,
   "metadata": {},
   "outputs": [
    {
     "data": {
      "text/html": [
       "<div>\n",
       "<style scoped>\n",
       "    .dataframe tbody tr th:only-of-type {\n",
       "        vertical-align: middle;\n",
       "    }\n",
       "\n",
       "    .dataframe tbody tr th {\n",
       "        vertical-align: top;\n",
       "    }\n",
       "\n",
       "    .dataframe thead th {\n",
       "        text-align: right;\n",
       "    }\n",
       "</style>\n",
       "<table border=\"1\" class=\"dataframe\">\n",
       "  <thead>\n",
       "    <tr style=\"text-align: right;\">\n",
       "      <th></th>\n",
       "      <th>daily_mean_pm10</th>\n",
       "      <th>percent_complete</th>\n",
       "    </tr>\n",
       "    <tr>\n",
       "      <th>Date</th>\n",
       "      <th></th>\n",
       "      <th></th>\n",
       "    </tr>\n",
       "  </thead>\n",
       "  <tbody>\n",
       "    <tr>\n",
       "      <th>2019-01-01</th>\n",
       "      <td>16.166667</td>\n",
       "      <td>100.0</td>\n",
       "    </tr>\n",
       "    <tr>\n",
       "      <th>2019-01-02</th>\n",
       "      <td>17.734940</td>\n",
       "      <td>100.0</td>\n",
       "    </tr>\n",
       "    <tr>\n",
       "      <th>2019-01-03</th>\n",
       "      <td>24.357664</td>\n",
       "      <td>100.0</td>\n",
       "    </tr>\n",
       "    <tr>\n",
       "      <th>2019-01-04</th>\n",
       "      <td>23.626506</td>\n",
       "      <td>100.0</td>\n",
       "    </tr>\n",
       "    <tr>\n",
       "      <th>2019-01-05</th>\n",
       "      <td>19.404762</td>\n",
       "      <td>100.0</td>\n",
       "    </tr>\n",
       "    <tr>\n",
       "      <th>...</th>\n",
       "      <td>...</td>\n",
       "      <td>...</td>\n",
       "    </tr>\n",
       "    <tr>\n",
       "      <th>2019-12-27</th>\n",
       "      <td>10.439024</td>\n",
       "      <td>100.0</td>\n",
       "    </tr>\n",
       "    <tr>\n",
       "      <th>2019-12-28</th>\n",
       "      <td>15.768293</td>\n",
       "      <td>100.0</td>\n",
       "    </tr>\n",
       "    <tr>\n",
       "      <th>2019-12-29</th>\n",
       "      <td>15.425373</td>\n",
       "      <td>100.0</td>\n",
       "    </tr>\n",
       "    <tr>\n",
       "      <th>2019-12-30</th>\n",
       "      <td>11.462500</td>\n",
       "      <td>100.0</td>\n",
       "    </tr>\n",
       "    <tr>\n",
       "      <th>2019-12-31</th>\n",
       "      <td>14.975610</td>\n",
       "      <td>100.0</td>\n",
       "    </tr>\n",
       "  </tbody>\n",
       "</table>\n",
       "<p>365 rows × 2 columns</p>\n",
       "</div>"
      ],
      "text/plain": [
       "            daily_mean_pm10  percent_complete\n",
       "Date                                         \n",
       "2019-01-01        16.166667             100.0\n",
       "2019-01-02        17.734940             100.0\n",
       "2019-01-03        24.357664             100.0\n",
       "2019-01-04        23.626506             100.0\n",
       "2019-01-05        19.404762             100.0\n",
       "...                     ...               ...\n",
       "2019-12-27        10.439024             100.0\n",
       "2019-12-28        15.768293             100.0\n",
       "2019-12-29        15.425373             100.0\n",
       "2019-12-30        11.462500             100.0\n",
       "2019-12-31        14.975610             100.0\n",
       "\n",
       "[365 rows x 2 columns]"
      ]
     },
     "execution_count": 169,
     "metadata": {},
     "output_type": "execute_result"
    }
   ],
   "source": [
    "#have a look at how it looks now \n",
    "pm10_19"
   ]
  },
  {
   "cell_type": "markdown",
   "metadata": {},
   "source": [
    "Before we merge let's explore something fun and interesting to hone our coding skills. \n",
    "According to the dictionary, a minimum percent complete for any pollutant on any given day of 75% is required. \n",
    "Lets explore if any percent_complete is below 75?"
   ]
  },
  {
   "cell_type": "code",
   "execution_count": 170,
   "metadata": {},
   "outputs": [
    {
     "data": {
      "text/plain": [
       "daily_max_co        float64\n",
       "percent_complete    float64\n",
       "dtype: object"
      ]
     },
     "execution_count": 170,
     "metadata": {},
     "output_type": "execute_result"
    }
   ],
   "source": [
    "co_19.dtypes"
   ]
  },
  {
   "cell_type": "code",
   "execution_count": 171,
   "metadata": {},
   "outputs": [],
   "source": [
    "#It is not possible to query the column percent_complete if it is object dtype.\n",
    "#Below I tried to convert 'percent complete into an int. but I forgot that there are commas in the numbers aks float \n",
    "#the error message was basically saying that i'd lose percsion if i convert from object to int "
   ]
  },
  {
   "cell_type": "code",
   "execution_count": 172,
   "metadata": {},
   "outputs": [
    {
     "data": {
      "text/html": [
       "<div>\n",
       "<style scoped>\n",
       "    .dataframe tbody tr th:only-of-type {\n",
       "        vertical-align: middle;\n",
       "    }\n",
       "\n",
       "    .dataframe tbody tr th {\n",
       "        vertical-align: top;\n",
       "    }\n",
       "\n",
       "    .dataframe thead th {\n",
       "        text-align: right;\n",
       "    }\n",
       "</style>\n",
       "<table border=\"1\" class=\"dataframe\">\n",
       "  <thead>\n",
       "    <tr style=\"text-align: right;\">\n",
       "      <th></th>\n",
       "      <th>daily_max_co</th>\n",
       "      <th>percent_complete</th>\n",
       "    </tr>\n",
       "    <tr>\n",
       "      <th>Date</th>\n",
       "      <th></th>\n",
       "      <th></th>\n",
       "    </tr>\n",
       "  </thead>\n",
       "  <tbody>\n",
       "    <tr>\n",
       "      <th>2019-01-01</th>\n",
       "      <td>0.477049</td>\n",
       "      <td>75.868852</td>\n",
       "    </tr>\n",
       "    <tr>\n",
       "      <th>2019-01-02</th>\n",
       "      <td>0.685246</td>\n",
       "      <td>95.786885</td>\n",
       "    </tr>\n",
       "    <tr>\n",
       "      <th>2019-01-03</th>\n",
       "      <td>0.766129</td>\n",
       "      <td>96.580645</td>\n",
       "    </tr>\n",
       "    <tr>\n",
       "      <th>2019-01-04</th>\n",
       "      <td>0.830645</td>\n",
       "      <td>98.129032</td>\n",
       "    </tr>\n",
       "    <tr>\n",
       "      <th>2019-01-05</th>\n",
       "      <td>0.840323</td>\n",
       "      <td>99.193548</td>\n",
       "    </tr>\n",
       "    <tr>\n",
       "      <th>...</th>\n",
       "      <td>...</td>\n",
       "      <td>...</td>\n",
       "    </tr>\n",
       "    <tr>\n",
       "      <th>2019-12-27</th>\n",
       "      <td>0.608333</td>\n",
       "      <td>96.550000</td>\n",
       "    </tr>\n",
       "    <tr>\n",
       "      <th>2019-12-28</th>\n",
       "      <td>0.693333</td>\n",
       "      <td>98.683333</td>\n",
       "    </tr>\n",
       "    <tr>\n",
       "      <th>2019-12-29</th>\n",
       "      <td>0.788333</td>\n",
       "      <td>98.966667</td>\n",
       "    </tr>\n",
       "    <tr>\n",
       "      <th>2019-12-30</th>\n",
       "      <td>0.698333</td>\n",
       "      <td>99.033333</td>\n",
       "    </tr>\n",
       "    <tr>\n",
       "      <th>2019-12-31</th>\n",
       "      <td>0.648333</td>\n",
       "      <td>96.066667</td>\n",
       "    </tr>\n",
       "  </tbody>\n",
       "</table>\n",
       "<p>365 rows × 2 columns</p>\n",
       "</div>"
      ],
      "text/plain": [
       "            daily_max_co  percent_complete\n",
       "Date                                      \n",
       "2019-01-01      0.477049         75.868852\n",
       "2019-01-02      0.685246         95.786885\n",
       "2019-01-03      0.766129         96.580645\n",
       "2019-01-04      0.830645         98.129032\n",
       "2019-01-05      0.840323         99.193548\n",
       "...                  ...               ...\n",
       "2019-12-27      0.608333         96.550000\n",
       "2019-12-28      0.693333         98.683333\n",
       "2019-12-29      0.788333         98.966667\n",
       "2019-12-30      0.698333         99.033333\n",
       "2019-12-31      0.648333         96.066667\n",
       "\n",
       "[365 rows x 2 columns]"
      ]
     },
     "execution_count": 172,
     "metadata": {},
     "output_type": "execute_result"
    }
   ],
   "source": [
    "co_19.astype('float64')"
   ]
  },
  {
   "cell_type": "code",
   "execution_count": 173,
   "metadata": {},
   "outputs": [
    {
     "data": {
      "text/plain": [
       "False"
      ]
     },
     "execution_count": 173,
     "metadata": {},
     "output_type": "execute_result"
    }
   ],
   "source": [
    "#find any % compete below 75\n",
    "(co_19['percent_complete'] < 75.0).any()"
   ]
  },
  {
   "cell_type": "code",
   "execution_count": 174,
   "metadata": {},
   "outputs": [
    {
     "data": {
      "text/html": [
       "<div>\n",
       "<style scoped>\n",
       "    .dataframe tbody tr th:only-of-type {\n",
       "        vertical-align: middle;\n",
       "    }\n",
       "\n",
       "    .dataframe tbody tr th {\n",
       "        vertical-align: top;\n",
       "    }\n",
       "\n",
       "    .dataframe thead th {\n",
       "        text-align: right;\n",
       "    }\n",
       "</style>\n",
       "<table border=\"1\" class=\"dataframe\">\n",
       "  <thead>\n",
       "    <tr style=\"text-align: right;\">\n",
       "      <th></th>\n",
       "      <th>daily_mean_pm2.5</th>\n",
       "      <th>percent_complete</th>\n",
       "    </tr>\n",
       "    <tr>\n",
       "      <th>Date</th>\n",
       "      <th></th>\n",
       "      <th></th>\n",
       "    </tr>\n",
       "  </thead>\n",
       "  <tbody>\n",
       "    <tr>\n",
       "      <th>2019-01-01</th>\n",
       "      <td>9.606452</td>\n",
       "      <td>100.0</td>\n",
       "    </tr>\n",
       "    <tr>\n",
       "      <th>2019-01-02</th>\n",
       "      <td>12.747414</td>\n",
       "      <td>100.0</td>\n",
       "    </tr>\n",
       "    <tr>\n",
       "      <th>2019-01-03</th>\n",
       "      <td>16.041667</td>\n",
       "      <td>100.0</td>\n",
       "    </tr>\n",
       "    <tr>\n",
       "      <th>2019-01-04</th>\n",
       "      <td>18.258065</td>\n",
       "      <td>100.0</td>\n",
       "    </tr>\n",
       "    <tr>\n",
       "      <th>2019-01-05</th>\n",
       "      <td>11.968293</td>\n",
       "      <td>100.0</td>\n",
       "    </tr>\n",
       "    <tr>\n",
       "      <th>...</th>\n",
       "      <td>...</td>\n",
       "      <td>...</td>\n",
       "    </tr>\n",
       "    <tr>\n",
       "      <th>2019-12-27</th>\n",
       "      <td>7.513821</td>\n",
       "      <td>100.0</td>\n",
       "    </tr>\n",
       "    <tr>\n",
       "      <th>2019-12-28</th>\n",
       "      <td>12.344715</td>\n",
       "      <td>100.0</td>\n",
       "    </tr>\n",
       "    <tr>\n",
       "      <th>2019-12-29</th>\n",
       "      <td>12.076020</td>\n",
       "      <td>100.0</td>\n",
       "    </tr>\n",
       "    <tr>\n",
       "      <th>2019-12-30</th>\n",
       "      <td>8.441667</td>\n",
       "      <td>100.0</td>\n",
       "    </tr>\n",
       "    <tr>\n",
       "      <th>2019-12-31</th>\n",
       "      <td>11.286508</td>\n",
       "      <td>100.0</td>\n",
       "    </tr>\n",
       "  </tbody>\n",
       "</table>\n",
       "<p>365 rows × 2 columns</p>\n",
       "</div>"
      ],
      "text/plain": [
       "            daily_mean_pm2.5  percent_complete\n",
       "Date                                          \n",
       "2019-01-01          9.606452             100.0\n",
       "2019-01-02         12.747414             100.0\n",
       "2019-01-03         16.041667             100.0\n",
       "2019-01-04         18.258065             100.0\n",
       "2019-01-05         11.968293             100.0\n",
       "...                      ...               ...\n",
       "2019-12-27          7.513821             100.0\n",
       "2019-12-28         12.344715             100.0\n",
       "2019-12-29         12.076020             100.0\n",
       "2019-12-30          8.441667             100.0\n",
       "2019-12-31         11.286508             100.0\n",
       "\n",
       "[365 rows x 2 columns]"
      ]
     },
     "execution_count": 174,
     "metadata": {},
     "output_type": "execute_result"
    }
   ],
   "source": [
    "#lets do the same for the rest\n",
    "no2_19.astype('float64')\n",
    "o3_19.astype('float64')\n",
    "pm10_19.astype('float64')\n",
    "pm25_19.astype('float64')"
   ]
  },
  {
   "cell_type": "code",
   "execution_count": 175,
   "metadata": {},
   "outputs": [
    {
     "name": "stdout",
     "output_type": "stream",
     "text": [
      "False\n",
      "False\n",
      "False\n",
      "False\n"
     ]
    }
   ],
   "source": [
    "print((no2_19['percent_complete'] < 75.0).any())\n",
    "print((o3_19['percent_complete'] < 75.0).any())\n",
    "print((pm10_19['percent_complete'] < 75.0).any())\n",
    "print((pm25_19['percent_complete'] < 75.0).any())"
   ]
  },
  {
   "cell_type": "code",
   "execution_count": 176,
   "metadata": {},
   "outputs": [],
   "source": [
    "#Now that I no longer need the percent_complete I'll drop them because it\n",
    "#will effect the way I merge all the datasets and will not be menaingful anymore\n",
    "co_19.drop(['percent_complete'], axis=1,inplace=True)"
   ]
  },
  {
   "cell_type": "code",
   "execution_count": 177,
   "metadata": {},
   "outputs": [],
   "source": [
    "no2_19.drop(['percent_complete'], axis=1, inplace=True)\n",
    "o3_19.drop(['percent_complete'], axis=1, inplace=True)\n",
    "pm10_19.drop(['percent_complete'], axis=1, inplace=True)\n",
    "pm25_19.drop(['percent_complete'], axis=1, inplace=True)"
   ]
  },
  {
   "cell_type": "code",
   "execution_count": 178,
   "metadata": {},
   "outputs": [
    {
     "data": {
      "text/html": [
       "<div>\n",
       "<style scoped>\n",
       "    .dataframe tbody tr th:only-of-type {\n",
       "        vertical-align: middle;\n",
       "    }\n",
       "\n",
       "    .dataframe tbody tr th {\n",
       "        vertical-align: top;\n",
       "    }\n",
       "\n",
       "    .dataframe thead th {\n",
       "        text-align: right;\n",
       "    }\n",
       "</style>\n",
       "<table border=\"1\" class=\"dataframe\">\n",
       "  <thead>\n",
       "    <tr style=\"text-align: right;\">\n",
       "      <th></th>\n",
       "      <th>daily_max_co</th>\n",
       "    </tr>\n",
       "    <tr>\n",
       "      <th>Date</th>\n",
       "      <th></th>\n",
       "    </tr>\n",
       "  </thead>\n",
       "  <tbody>\n",
       "    <tr>\n",
       "      <th>2019-01-01</th>\n",
       "      <td>0.477049</td>\n",
       "    </tr>\n",
       "    <tr>\n",
       "      <th>2019-01-02</th>\n",
       "      <td>0.685246</td>\n",
       "    </tr>\n",
       "    <tr>\n",
       "      <th>2019-01-03</th>\n",
       "      <td>0.766129</td>\n",
       "    </tr>\n",
       "    <tr>\n",
       "      <th>2019-01-04</th>\n",
       "      <td>0.830645</td>\n",
       "    </tr>\n",
       "    <tr>\n",
       "      <th>2019-01-05</th>\n",
       "      <td>0.840323</td>\n",
       "    </tr>\n",
       "    <tr>\n",
       "      <th>...</th>\n",
       "      <td>...</td>\n",
       "    </tr>\n",
       "    <tr>\n",
       "      <th>2019-12-27</th>\n",
       "      <td>0.608333</td>\n",
       "    </tr>\n",
       "    <tr>\n",
       "      <th>2019-12-28</th>\n",
       "      <td>0.693333</td>\n",
       "    </tr>\n",
       "    <tr>\n",
       "      <th>2019-12-29</th>\n",
       "      <td>0.788333</td>\n",
       "    </tr>\n",
       "    <tr>\n",
       "      <th>2019-12-30</th>\n",
       "      <td>0.698333</td>\n",
       "    </tr>\n",
       "    <tr>\n",
       "      <th>2019-12-31</th>\n",
       "      <td>0.648333</td>\n",
       "    </tr>\n",
       "  </tbody>\n",
       "</table>\n",
       "<p>365 rows × 1 columns</p>\n",
       "</div>"
      ],
      "text/plain": [
       "            daily_max_co\n",
       "Date                    \n",
       "2019-01-01      0.477049\n",
       "2019-01-02      0.685246\n",
       "2019-01-03      0.766129\n",
       "2019-01-04      0.830645\n",
       "2019-01-05      0.840323\n",
       "...                  ...\n",
       "2019-12-27      0.608333\n",
       "2019-12-28      0.693333\n",
       "2019-12-29      0.788333\n",
       "2019-12-30      0.698333\n",
       "2019-12-31      0.648333\n",
       "\n",
       "[365 rows x 1 columns]"
      ]
     },
     "execution_count": 178,
     "metadata": {},
     "output_type": "execute_result"
    }
   ],
   "source": [
    "co_19"
   ]
  },
  {
   "cell_type": "markdown",
   "metadata": {},
   "source": [
    "Next Step: Merge 2019 datasets together"
   ]
  },
  {
   "cell_type": "code",
   "execution_count": 179,
   "metadata": {},
   "outputs": [],
   "source": [
    "from functools import reduce"
   ]
  },
  {
   "cell_type": "code",
   "execution_count": 180,
   "metadata": {},
   "outputs": [],
   "source": [
    "df2019=[co_19,o3_19,no2_19,pm10_19,pm25_19]"
   ]
  },
  {
   "cell_type": "code",
   "execution_count": 181,
   "metadata": {},
   "outputs": [
    {
     "name": "stdout",
     "output_type": "stream",
     "text": [
      "            daily_max_co  daily_max_o3  daily_max_no2  daily_mean_pm10  \\\n",
      "Date                                                                     \n",
      "2019-01-01      0.477049      0.033000      19.560417        16.166667   \n",
      "2019-01-02      0.685246      0.030066      29.459375        17.734940   \n",
      "2019-01-03      0.766129      0.028192      30.051020        24.357664   \n",
      "2019-01-04      0.830645      0.028737      32.317347        23.626506   \n",
      "2019-01-05      0.840323      0.031823      24.112245        19.404762   \n",
      "...                  ...           ...            ...              ...   \n",
      "2019-12-27      0.608333      0.029230      24.465556        10.439024   \n",
      "2019-12-28      0.693333      0.029285      23.453846        15.768293   \n",
      "2019-12-29      0.788333      0.028924      20.415217        15.425373   \n",
      "2019-12-30      0.698333      0.028506      23.014130        11.462500   \n",
      "2019-12-31      0.648333           NaN      23.470330        14.975610   \n",
      "\n",
      "            daily_mean_pm2.5  \n",
      "Date                          \n",
      "2019-01-01          9.606452  \n",
      "2019-01-02         12.747414  \n",
      "2019-01-03         16.041667  \n",
      "2019-01-04         18.258065  \n",
      "2019-01-05         11.968293  \n",
      "...                      ...  \n",
      "2019-12-27          7.513821  \n",
      "2019-12-28         12.344715  \n",
      "2019-12-29         12.076020  \n",
      "2019-12-30          8.441667  \n",
      "2019-12-31         11.286508  \n",
      "\n",
      "[365 rows x 5 columns]\n"
     ]
    }
   ],
   "source": [
    "#how='outer': This results in the union of keys from both frames. All rows from both DataFrames will be included,\n",
    "#filling in NaNs where necessary if a key is present in one frame but not in the other\n",
    "air2019 = reduce(lambda  left,right: pd.merge(left,right,on=['Date'],\n",
    "                                            how='outer'), df2019)\n",
    "print(air2019)"
   ]
  },
  {
   "cell_type": "code",
   "execution_count": 182,
   "metadata": {},
   "outputs": [
    {
     "data": {
      "text/html": [
       "<div>\n",
       "<style scoped>\n",
       "    .dataframe tbody tr th:only-of-type {\n",
       "        vertical-align: middle;\n",
       "    }\n",
       "\n",
       "    .dataframe tbody tr th {\n",
       "        vertical-align: top;\n",
       "    }\n",
       "\n",
       "    .dataframe thead th {\n",
       "        text-align: right;\n",
       "    }\n",
       "</style>\n",
       "<table border=\"1\" class=\"dataframe\">\n",
       "  <thead>\n",
       "    <tr style=\"text-align: right;\">\n",
       "      <th></th>\n",
       "      <th>daily_max_co</th>\n",
       "      <th>daily_max_o3</th>\n",
       "      <th>daily_max_no2</th>\n",
       "      <th>daily_mean_pm10</th>\n",
       "      <th>daily_mean_pm2.5</th>\n",
       "    </tr>\n",
       "    <tr>\n",
       "      <th>Date</th>\n",
       "      <th></th>\n",
       "      <th></th>\n",
       "      <th></th>\n",
       "      <th></th>\n",
       "      <th></th>\n",
       "    </tr>\n",
       "  </thead>\n",
       "  <tbody>\n",
       "    <tr>\n",
       "      <th>2019-01-01</th>\n",
       "      <td>0.477049</td>\n",
       "      <td>0.033000</td>\n",
       "      <td>19.560417</td>\n",
       "      <td>16.166667</td>\n",
       "      <td>9.606452</td>\n",
       "    </tr>\n",
       "    <tr>\n",
       "      <th>2019-01-02</th>\n",
       "      <td>0.685246</td>\n",
       "      <td>0.030066</td>\n",
       "      <td>29.459375</td>\n",
       "      <td>17.734940</td>\n",
       "      <td>12.747414</td>\n",
       "    </tr>\n",
       "    <tr>\n",
       "      <th>2019-01-03</th>\n",
       "      <td>0.766129</td>\n",
       "      <td>0.028192</td>\n",
       "      <td>30.051020</td>\n",
       "      <td>24.357664</td>\n",
       "      <td>16.041667</td>\n",
       "    </tr>\n",
       "    <tr>\n",
       "      <th>2019-01-04</th>\n",
       "      <td>0.830645</td>\n",
       "      <td>0.028737</td>\n",
       "      <td>32.317347</td>\n",
       "      <td>23.626506</td>\n",
       "      <td>18.258065</td>\n",
       "    </tr>\n",
       "    <tr>\n",
       "      <th>2019-01-05</th>\n",
       "      <td>0.840323</td>\n",
       "      <td>0.031823</td>\n",
       "      <td>24.112245</td>\n",
       "      <td>19.404762</td>\n",
       "      <td>11.968293</td>\n",
       "    </tr>\n",
       "    <tr>\n",
       "      <th>...</th>\n",
       "      <td>...</td>\n",
       "      <td>...</td>\n",
       "      <td>...</td>\n",
       "      <td>...</td>\n",
       "      <td>...</td>\n",
       "    </tr>\n",
       "    <tr>\n",
       "      <th>2019-12-27</th>\n",
       "      <td>0.608333</td>\n",
       "      <td>0.029230</td>\n",
       "      <td>24.465556</td>\n",
       "      <td>10.439024</td>\n",
       "      <td>7.513821</td>\n",
       "    </tr>\n",
       "    <tr>\n",
       "      <th>2019-12-28</th>\n",
       "      <td>0.693333</td>\n",
       "      <td>0.029285</td>\n",
       "      <td>23.453846</td>\n",
       "      <td>15.768293</td>\n",
       "      <td>12.344715</td>\n",
       "    </tr>\n",
       "    <tr>\n",
       "      <th>2019-12-29</th>\n",
       "      <td>0.788333</td>\n",
       "      <td>0.028924</td>\n",
       "      <td>20.415217</td>\n",
       "      <td>15.425373</td>\n",
       "      <td>12.076020</td>\n",
       "    </tr>\n",
       "    <tr>\n",
       "      <th>2019-12-30</th>\n",
       "      <td>0.698333</td>\n",
       "      <td>0.028506</td>\n",
       "      <td>23.014130</td>\n",
       "      <td>11.462500</td>\n",
       "      <td>8.441667</td>\n",
       "    </tr>\n",
       "    <tr>\n",
       "      <th>2019-12-31</th>\n",
       "      <td>0.648333</td>\n",
       "      <td>NaN</td>\n",
       "      <td>23.470330</td>\n",
       "      <td>14.975610</td>\n",
       "      <td>11.286508</td>\n",
       "    </tr>\n",
       "  </tbody>\n",
       "</table>\n",
       "<p>365 rows × 5 columns</p>\n",
       "</div>"
      ],
      "text/plain": [
       "            daily_max_co  daily_max_o3  daily_max_no2  daily_mean_pm10  \\\n",
       "Date                                                                     \n",
       "2019-01-01      0.477049      0.033000      19.560417        16.166667   \n",
       "2019-01-02      0.685246      0.030066      29.459375        17.734940   \n",
       "2019-01-03      0.766129      0.028192      30.051020        24.357664   \n",
       "2019-01-04      0.830645      0.028737      32.317347        23.626506   \n",
       "2019-01-05      0.840323      0.031823      24.112245        19.404762   \n",
       "...                  ...           ...            ...              ...   \n",
       "2019-12-27      0.608333      0.029230      24.465556        10.439024   \n",
       "2019-12-28      0.693333      0.029285      23.453846        15.768293   \n",
       "2019-12-29      0.788333      0.028924      20.415217        15.425373   \n",
       "2019-12-30      0.698333      0.028506      23.014130        11.462500   \n",
       "2019-12-31      0.648333           NaN      23.470330        14.975610   \n",
       "\n",
       "            daily_mean_pm2.5  \n",
       "Date                          \n",
       "2019-01-01          9.606452  \n",
       "2019-01-02         12.747414  \n",
       "2019-01-03         16.041667  \n",
       "2019-01-04         18.258065  \n",
       "2019-01-05         11.968293  \n",
       "...                      ...  \n",
       "2019-12-27          7.513821  \n",
       "2019-12-28         12.344715  \n",
       "2019-12-29         12.076020  \n",
       "2019-12-30          8.441667  \n",
       "2019-12-31         11.286508  \n",
       "\n",
       "[365 rows x 5 columns]"
      ]
     },
     "execution_count": 182,
     "metadata": {},
     "output_type": "execute_result"
    }
   ],
   "source": [
    "air2019"
   ]
  },
  {
   "cell_type": "markdown",
   "metadata": {},
   "source": [
    "2020 Datasets "
   ]
  },
  {
   "cell_type": "code",
   "execution_count": 183,
   "metadata": {},
   "outputs": [
    {
     "data": {
      "text/html": [
       "<div>\n",
       "<style scoped>\n",
       "    .dataframe tbody tr th:only-of-type {\n",
       "        vertical-align: middle;\n",
       "    }\n",
       "\n",
       "    .dataframe tbody tr th {\n",
       "        vertical-align: top;\n",
       "    }\n",
       "\n",
       "    .dataframe thead th {\n",
       "        text-align: right;\n",
       "    }\n",
       "</style>\n",
       "<table border=\"1\" class=\"dataframe\">\n",
       "  <thead>\n",
       "    <tr style=\"text-align: right;\">\n",
       "      <th></th>\n",
       "      <th>Date</th>\n",
       "      <th>Source</th>\n",
       "      <th>Site ID</th>\n",
       "      <th>POC</th>\n",
       "      <th>Daily Max 8-hour CO Concentration</th>\n",
       "      <th>UNITS</th>\n",
       "      <th>DAILY_AQI_VALUE</th>\n",
       "      <th>Site Name</th>\n",
       "      <th>DAILY_OBS_COUNT</th>\n",
       "      <th>PERCENT_COMPLETE</th>\n",
       "      <th>AQS_PARAMETER_CODE</th>\n",
       "      <th>AQS_PARAMETER_DESC</th>\n",
       "      <th>CBSA_CODE</th>\n",
       "      <th>CBSA_NAME</th>\n",
       "      <th>STATE_CODE</th>\n",
       "      <th>STATE</th>\n",
       "      <th>COUNTY_CODE</th>\n",
       "      <th>COUNTY</th>\n",
       "      <th>SITE_LATITUDE</th>\n",
       "      <th>SITE_LONGITUDE</th>\n",
       "    </tr>\n",
       "  </thead>\n",
       "  <tbody>\n",
       "    <tr>\n",
       "      <th>0</th>\n",
       "      <td>01/01/2020</td>\n",
       "      <td>AQS</td>\n",
       "      <td>60010009</td>\n",
       "      <td>1</td>\n",
       "      <td>0.7</td>\n",
       "      <td>ppm</td>\n",
       "      <td>8</td>\n",
       "      <td>Oakland</td>\n",
       "      <td>18</td>\n",
       "      <td>75.0</td>\n",
       "      <td>42101</td>\n",
       "      <td>Carbon monoxide</td>\n",
       "      <td>41860</td>\n",
       "      <td>San Francisco-Oakland-Hayward, CA</td>\n",
       "      <td>6</td>\n",
       "      <td>California</td>\n",
       "      <td>1</td>\n",
       "      <td>Alameda</td>\n",
       "      <td>37.743065</td>\n",
       "      <td>-122.169935</td>\n",
       "    </tr>\n",
       "    <tr>\n",
       "      <th>1</th>\n",
       "      <td>01/02/2020</td>\n",
       "      <td>AQS</td>\n",
       "      <td>60010009</td>\n",
       "      <td>1</td>\n",
       "      <td>0.7</td>\n",
       "      <td>ppm</td>\n",
       "      <td>8</td>\n",
       "      <td>Oakland</td>\n",
       "      <td>24</td>\n",
       "      <td>100.0</td>\n",
       "      <td>42101</td>\n",
       "      <td>Carbon monoxide</td>\n",
       "      <td>41860</td>\n",
       "      <td>San Francisco-Oakland-Hayward, CA</td>\n",
       "      <td>6</td>\n",
       "      <td>California</td>\n",
       "      <td>1</td>\n",
       "      <td>Alameda</td>\n",
       "      <td>37.743065</td>\n",
       "      <td>-122.169935</td>\n",
       "    </tr>\n",
       "    <tr>\n",
       "      <th>2</th>\n",
       "      <td>01/03/2020</td>\n",
       "      <td>AQS</td>\n",
       "      <td>60010009</td>\n",
       "      <td>1</td>\n",
       "      <td>0.9</td>\n",
       "      <td>ppm</td>\n",
       "      <td>10</td>\n",
       "      <td>Oakland</td>\n",
       "      <td>24</td>\n",
       "      <td>100.0</td>\n",
       "      <td>42101</td>\n",
       "      <td>Carbon monoxide</td>\n",
       "      <td>41860</td>\n",
       "      <td>San Francisco-Oakland-Hayward, CA</td>\n",
       "      <td>6</td>\n",
       "      <td>California</td>\n",
       "      <td>1</td>\n",
       "      <td>Alameda</td>\n",
       "      <td>37.743065</td>\n",
       "      <td>-122.169935</td>\n",
       "    </tr>\n",
       "    <tr>\n",
       "      <th>3</th>\n",
       "      <td>01/04/2020</td>\n",
       "      <td>AQS</td>\n",
       "      <td>60010009</td>\n",
       "      <td>1</td>\n",
       "      <td>0.8</td>\n",
       "      <td>ppm</td>\n",
       "      <td>9</td>\n",
       "      <td>Oakland</td>\n",
       "      <td>24</td>\n",
       "      <td>100.0</td>\n",
       "      <td>42101</td>\n",
       "      <td>Carbon monoxide</td>\n",
       "      <td>41860</td>\n",
       "      <td>San Francisco-Oakland-Hayward, CA</td>\n",
       "      <td>6</td>\n",
       "      <td>California</td>\n",
       "      <td>1</td>\n",
       "      <td>Alameda</td>\n",
       "      <td>37.743065</td>\n",
       "      <td>-122.169935</td>\n",
       "    </tr>\n",
       "    <tr>\n",
       "      <th>4</th>\n",
       "      <td>01/05/2020</td>\n",
       "      <td>AQS</td>\n",
       "      <td>60010009</td>\n",
       "      <td>1</td>\n",
       "      <td>0.7</td>\n",
       "      <td>ppm</td>\n",
       "      <td>8</td>\n",
       "      <td>Oakland</td>\n",
       "      <td>24</td>\n",
       "      <td>100.0</td>\n",
       "      <td>42101</td>\n",
       "      <td>Carbon monoxide</td>\n",
       "      <td>41860</td>\n",
       "      <td>San Francisco-Oakland-Hayward, CA</td>\n",
       "      <td>6</td>\n",
       "      <td>California</td>\n",
       "      <td>1</td>\n",
       "      <td>Alameda</td>\n",
       "      <td>37.743065</td>\n",
       "      <td>-122.169935</td>\n",
       "    </tr>\n",
       "    <tr>\n",
       "      <th>...</th>\n",
       "      <td>...</td>\n",
       "      <td>...</td>\n",
       "      <td>...</td>\n",
       "      <td>...</td>\n",
       "      <td>...</td>\n",
       "      <td>...</td>\n",
       "      <td>...</td>\n",
       "      <td>...</td>\n",
       "      <td>...</td>\n",
       "      <td>...</td>\n",
       "      <td>...</td>\n",
       "      <td>...</td>\n",
       "      <td>...</td>\n",
       "      <td>...</td>\n",
       "      <td>...</td>\n",
       "      <td>...</td>\n",
       "      <td>...</td>\n",
       "      <td>...</td>\n",
       "      <td>...</td>\n",
       "      <td>...</td>\n",
       "    </tr>\n",
       "    <tr>\n",
       "      <th>22130</th>\n",
       "      <td>12/27/2020</td>\n",
       "      <td>AQS</td>\n",
       "      <td>60990005</td>\n",
       "      <td>3</td>\n",
       "      <td>1.1</td>\n",
       "      <td>ppm</td>\n",
       "      <td>13</td>\n",
       "      <td>Modesto-14th Street</td>\n",
       "      <td>24</td>\n",
       "      <td>100.0</td>\n",
       "      <td>42101</td>\n",
       "      <td>Carbon monoxide</td>\n",
       "      <td>33700</td>\n",
       "      <td>Modesto, CA</td>\n",
       "      <td>6</td>\n",
       "      <td>California</td>\n",
       "      <td>99</td>\n",
       "      <td>Stanislaus</td>\n",
       "      <td>37.642165</td>\n",
       "      <td>-120.994212</td>\n",
       "    </tr>\n",
       "    <tr>\n",
       "      <th>22131</th>\n",
       "      <td>12/28/2020</td>\n",
       "      <td>AQS</td>\n",
       "      <td>60990005</td>\n",
       "      <td>3</td>\n",
       "      <td>1.1</td>\n",
       "      <td>ppm</td>\n",
       "      <td>13</td>\n",
       "      <td>Modesto-14th Street</td>\n",
       "      <td>24</td>\n",
       "      <td>100.0</td>\n",
       "      <td>42101</td>\n",
       "      <td>Carbon monoxide</td>\n",
       "      <td>33700</td>\n",
       "      <td>Modesto, CA</td>\n",
       "      <td>6</td>\n",
       "      <td>California</td>\n",
       "      <td>99</td>\n",
       "      <td>Stanislaus</td>\n",
       "      <td>37.642165</td>\n",
       "      <td>-120.994212</td>\n",
       "    </tr>\n",
       "    <tr>\n",
       "      <th>22132</th>\n",
       "      <td>12/29/2020</td>\n",
       "      <td>AQS</td>\n",
       "      <td>60990005</td>\n",
       "      <td>3</td>\n",
       "      <td>1.6</td>\n",
       "      <td>ppm</td>\n",
       "      <td>18</td>\n",
       "      <td>Modesto-14th Street</td>\n",
       "      <td>24</td>\n",
       "      <td>100.0</td>\n",
       "      <td>42101</td>\n",
       "      <td>Carbon monoxide</td>\n",
       "      <td>33700</td>\n",
       "      <td>Modesto, CA</td>\n",
       "      <td>6</td>\n",
       "      <td>California</td>\n",
       "      <td>99</td>\n",
       "      <td>Stanislaus</td>\n",
       "      <td>37.642165</td>\n",
       "      <td>-120.994212</td>\n",
       "    </tr>\n",
       "    <tr>\n",
       "      <th>22133</th>\n",
       "      <td>12/30/2020</td>\n",
       "      <td>AQS</td>\n",
       "      <td>60990005</td>\n",
       "      <td>3</td>\n",
       "      <td>1.7</td>\n",
       "      <td>ppm</td>\n",
       "      <td>19</td>\n",
       "      <td>Modesto-14th Street</td>\n",
       "      <td>24</td>\n",
       "      <td>100.0</td>\n",
       "      <td>42101</td>\n",
       "      <td>Carbon monoxide</td>\n",
       "      <td>33700</td>\n",
       "      <td>Modesto, CA</td>\n",
       "      <td>6</td>\n",
       "      <td>California</td>\n",
       "      <td>99</td>\n",
       "      <td>Stanislaus</td>\n",
       "      <td>37.642165</td>\n",
       "      <td>-120.994212</td>\n",
       "    </tr>\n",
       "    <tr>\n",
       "      <th>22134</th>\n",
       "      <td>12/31/2020</td>\n",
       "      <td>AQS</td>\n",
       "      <td>60990005</td>\n",
       "      <td>3</td>\n",
       "      <td>1.1</td>\n",
       "      <td>ppm</td>\n",
       "      <td>13</td>\n",
       "      <td>Modesto-14th Street</td>\n",
       "      <td>24</td>\n",
       "      <td>100.0</td>\n",
       "      <td>42101</td>\n",
       "      <td>Carbon monoxide</td>\n",
       "      <td>33700</td>\n",
       "      <td>Modesto, CA</td>\n",
       "      <td>6</td>\n",
       "      <td>California</td>\n",
       "      <td>99</td>\n",
       "      <td>Stanislaus</td>\n",
       "      <td>37.642165</td>\n",
       "      <td>-120.994212</td>\n",
       "    </tr>\n",
       "  </tbody>\n",
       "</table>\n",
       "<p>22135 rows × 20 columns</p>\n",
       "</div>"
      ],
      "text/plain": [
       "             Date Source   Site ID  POC  Daily Max 8-hour CO Concentration  \\\n",
       "0      01/01/2020    AQS  60010009    1                                0.7   \n",
       "1      01/02/2020    AQS  60010009    1                                0.7   \n",
       "2      01/03/2020    AQS  60010009    1                                0.9   \n",
       "3      01/04/2020    AQS  60010009    1                                0.8   \n",
       "4      01/05/2020    AQS  60010009    1                                0.7   \n",
       "...           ...    ...       ...  ...                                ...   \n",
       "22130  12/27/2020    AQS  60990005    3                                1.1   \n",
       "22131  12/28/2020    AQS  60990005    3                                1.1   \n",
       "22132  12/29/2020    AQS  60990005    3                                1.6   \n",
       "22133  12/30/2020    AQS  60990005    3                                1.7   \n",
       "22134  12/31/2020    AQS  60990005    3                                1.1   \n",
       "\n",
       "      UNITS  DAILY_AQI_VALUE            Site Name  DAILY_OBS_COUNT  \\\n",
       "0       ppm                8              Oakland               18   \n",
       "1       ppm                8              Oakland               24   \n",
       "2       ppm               10              Oakland               24   \n",
       "3       ppm                9              Oakland               24   \n",
       "4       ppm                8              Oakland               24   \n",
       "...     ...              ...                  ...              ...   \n",
       "22130   ppm               13  Modesto-14th Street               24   \n",
       "22131   ppm               13  Modesto-14th Street               24   \n",
       "22132   ppm               18  Modesto-14th Street               24   \n",
       "22133   ppm               19  Modesto-14th Street               24   \n",
       "22134   ppm               13  Modesto-14th Street               24   \n",
       "\n",
       "       PERCENT_COMPLETE  AQS_PARAMETER_CODE AQS_PARAMETER_DESC  CBSA_CODE  \\\n",
       "0                  75.0               42101    Carbon monoxide      41860   \n",
       "1                 100.0               42101    Carbon monoxide      41860   \n",
       "2                 100.0               42101    Carbon monoxide      41860   \n",
       "3                 100.0               42101    Carbon monoxide      41860   \n",
       "4                 100.0               42101    Carbon monoxide      41860   \n",
       "...                 ...                 ...                ...        ...   \n",
       "22130             100.0               42101    Carbon monoxide      33700   \n",
       "22131             100.0               42101    Carbon monoxide      33700   \n",
       "22132             100.0               42101    Carbon monoxide      33700   \n",
       "22133             100.0               42101    Carbon monoxide      33700   \n",
       "22134             100.0               42101    Carbon monoxide      33700   \n",
       "\n",
       "                               CBSA_NAME  STATE_CODE       STATE  COUNTY_CODE  \\\n",
       "0      San Francisco-Oakland-Hayward, CA           6  California            1   \n",
       "1      San Francisco-Oakland-Hayward, CA           6  California            1   \n",
       "2      San Francisco-Oakland-Hayward, CA           6  California            1   \n",
       "3      San Francisco-Oakland-Hayward, CA           6  California            1   \n",
       "4      San Francisco-Oakland-Hayward, CA           6  California            1   \n",
       "...                                  ...         ...         ...          ...   \n",
       "22130                        Modesto, CA           6  California           99   \n",
       "22131                        Modesto, CA           6  California           99   \n",
       "22132                        Modesto, CA           6  California           99   \n",
       "22133                        Modesto, CA           6  California           99   \n",
       "22134                        Modesto, CA           6  California           99   \n",
       "\n",
       "           COUNTY  SITE_LATITUDE  SITE_LONGITUDE  \n",
       "0         Alameda      37.743065     -122.169935  \n",
       "1         Alameda      37.743065     -122.169935  \n",
       "2         Alameda      37.743065     -122.169935  \n",
       "3         Alameda      37.743065     -122.169935  \n",
       "4         Alameda      37.743065     -122.169935  \n",
       "...           ...            ...             ...  \n",
       "22130  Stanislaus      37.642165     -120.994212  \n",
       "22131  Stanislaus      37.642165     -120.994212  \n",
       "22132  Stanislaus      37.642165     -120.994212  \n",
       "22133  Stanislaus      37.642165     -120.994212  \n",
       "22134  Stanislaus      37.642165     -120.994212  \n",
       "\n",
       "[22135 rows x 20 columns]"
      ]
     },
     "execution_count": 183,
     "metadata": {},
     "output_type": "execute_result"
    }
   ],
   "source": [
    "co_20"
   ]
  },
  {
   "cell_type": "code",
   "execution_count": 184,
   "metadata": {},
   "outputs": [
    {
     "name": "stdout",
     "output_type": "stream",
     "text": [
      "25\n",
      "43\n",
      "33\n",
      "51\n",
      "49\n"
     ]
    }
   ],
   "source": [
    "#Same number of counties\n",
    "print(co_20.COUNTY.nunique())\n",
    "print(pm10_20.COUNTY.nunique())\n",
    "print(no2_20.COUNTY.nunique())\n",
    "print(pm25_20.COUNTY.nunique())\n",
    "print(o3_20.COUNTY.nunique())"
   ]
  },
  {
   "cell_type": "code",
   "execution_count": 185,
   "metadata": {},
   "outputs": [
    {
     "name": "stdout",
     "output_type": "stream",
     "text": [
      "<class 'pandas.core.frame.DataFrame'>\n",
      "RangeIndex: 22135 entries, 0 to 22134\n",
      "Data columns (total 20 columns):\n",
      " #   Column                             Non-Null Count  Dtype  \n",
      "---  ------                             --------------  -----  \n",
      " 0   Date                               22135 non-null  object \n",
      " 1   Source                             22135 non-null  object \n",
      " 2   Site ID                            22135 non-null  int64  \n",
      " 3   POC                                22135 non-null  int64  \n",
      " 4   Daily Max 8-hour CO Concentration  22135 non-null  float64\n",
      " 5   UNITS                              22135 non-null  object \n",
      " 6   DAILY_AQI_VALUE                    22135 non-null  int64  \n",
      " 7   Site Name                          22135 non-null  object \n",
      " 8   DAILY_OBS_COUNT                    22135 non-null  int64  \n",
      " 9   PERCENT_COMPLETE                   22135 non-null  float64\n",
      " 10  AQS_PARAMETER_CODE                 22135 non-null  int64  \n",
      " 11  AQS_PARAMETER_DESC                 22135 non-null  object \n",
      " 12  CBSA_CODE                          22135 non-null  int64  \n",
      " 13  CBSA_NAME                          22135 non-null  object \n",
      " 14  STATE_CODE                         22135 non-null  int64  \n",
      " 15  STATE                              22135 non-null  object \n",
      " 16  COUNTY_CODE                        22135 non-null  int64  \n",
      " 17  COUNTY                             22135 non-null  object \n",
      " 18  SITE_LATITUDE                      22135 non-null  float64\n",
      " 19  SITE_LONGITUDE                     22135 non-null  float64\n",
      "dtypes: float64(4), int64(8), object(8)\n",
      "memory usage: 3.4+ MB\n"
     ]
    }
   ],
   "source": [
    "#explore data type\n",
    "co_20.info()"
   ]
  },
  {
   "cell_type": "code",
   "execution_count": 186,
   "metadata": {},
   "outputs": [],
   "source": [
    "#We notice that 'Date' is not a Datetime format\n",
    "#convert 'Date' to datetime dtype. We choose this specific arrangement as opposed to\n",
    "# %d/%m/%y because the data is rcorded that way originally. This is why first inspection of the CSV file is necessary\n",
    "co_20['Date']=pd.to_datetime(co_20['Date'], format = \"%m/%d/%Y\")\n",
    "pm10_20['Date']=pd.to_datetime(pm10_20['Date'], format = \"%m/%d/%Y\")\n",
    "pm25_20['Date']=pd.to_datetime(pm25_20['Date'], format = \"%m/%d/%Y\")\n",
    "no2_20['Date']=pd.to_datetime(no2_20['Date'], format = \"%m/%d/%Y\")\n",
    "o3_20['Date']=pd.to_datetime(o3_20['Date'], format = \"%m/%d/%Y\")"
   ]
  },
  {
   "cell_type": "code",
   "execution_count": 187,
   "metadata": {},
   "outputs": [
    {
     "name": "stdout",
     "output_type": "stream",
     "text": [
      "<class 'pandas.core.frame.DataFrame'>\n",
      "RangeIndex: 22135 entries, 0 to 22134\n",
      "Data columns (total 20 columns):\n",
      " #   Column                             Non-Null Count  Dtype         \n",
      "---  ------                             --------------  -----         \n",
      " 0   Date                               22135 non-null  datetime64[ns]\n",
      " 1   Source                             22135 non-null  object        \n",
      " 2   Site ID                            22135 non-null  int64         \n",
      " 3   POC                                22135 non-null  int64         \n",
      " 4   Daily Max 8-hour CO Concentration  22135 non-null  float64       \n",
      " 5   UNITS                              22135 non-null  object        \n",
      " 6   DAILY_AQI_VALUE                    22135 non-null  int64         \n",
      " 7   Site Name                          22135 non-null  object        \n",
      " 8   DAILY_OBS_COUNT                    22135 non-null  int64         \n",
      " 9   PERCENT_COMPLETE                   22135 non-null  float64       \n",
      " 10  AQS_PARAMETER_CODE                 22135 non-null  int64         \n",
      " 11  AQS_PARAMETER_DESC                 22135 non-null  object        \n",
      " 12  CBSA_CODE                          22135 non-null  int64         \n",
      " 13  CBSA_NAME                          22135 non-null  object        \n",
      " 14  STATE_CODE                         22135 non-null  int64         \n",
      " 15  STATE                              22135 non-null  object        \n",
      " 16  COUNTY_CODE                        22135 non-null  int64         \n",
      " 17  COUNTY                             22135 non-null  object        \n",
      " 18  SITE_LATITUDE                      22135 non-null  float64       \n",
      " 19  SITE_LONGITUDE                     22135 non-null  float64       \n",
      "dtypes: datetime64[ns](1), float64(4), int64(8), object(7)\n",
      "memory usage: 3.4+ MB\n"
     ]
    }
   ],
   "source": [
    "co_20.info()"
   ]
  },
  {
   "cell_type": "code",
   "execution_count": 188,
   "metadata": {},
   "outputs": [
    {
     "name": "stderr",
     "output_type": "stream",
     "text": [
      "C:\\Users\\Thekra\\AppData\\Local\\Temp\\ipykernel_5828\\2571562249.py:1: FutureWarning: The default value of numeric_only in DataFrameGroupBy.mean is deprecated. In a future version, numeric_only will default to False. Either specify numeric_only or select only columns which should be valid for the function.\n",
      "  co_20=co_20.groupby('Date').mean()\n",
      "C:\\Users\\Thekra\\AppData\\Local\\Temp\\ipykernel_5828\\2571562249.py:2: FutureWarning: The default value of numeric_only in DataFrameGroupBy.mean is deprecated. In a future version, numeric_only will default to False. Either specify numeric_only or select only columns which should be valid for the function.\n",
      "  o3_20=o3_20.groupby('Date').mean()\n",
      "C:\\Users\\Thekra\\AppData\\Local\\Temp\\ipykernel_5828\\2571562249.py:3: FutureWarning: The default value of numeric_only in DataFrameGroupBy.mean is deprecated. In a future version, numeric_only will default to False. Either specify numeric_only or select only columns which should be valid for the function.\n",
      "  no2_20=no2_20.groupby('Date').mean()\n",
      "C:\\Users\\Thekra\\AppData\\Local\\Temp\\ipykernel_5828\\2571562249.py:4: FutureWarning: The default value of numeric_only in DataFrameGroupBy.mean is deprecated. In a future version, numeric_only will default to False. Either specify numeric_only or select only columns which should be valid for the function.\n",
      "  pm10_20=pm10_20.groupby('Date').mean()\n",
      "C:\\Users\\Thekra\\AppData\\Local\\Temp\\ipykernel_5828\\2571562249.py:5: FutureWarning: The default value of numeric_only in DataFrameGroupBy.mean is deprecated. In a future version, numeric_only will default to False. Either specify numeric_only or select only columns which should be valid for the function.\n",
      "  pm25_20=pm25_20.groupby('Date').mean()\n"
     ]
    }
   ],
   "source": [
    "co_20=co_20.groupby('Date').mean()\n",
    "o3_20=o3_20.groupby('Date').mean()\n",
    "no2_20=no2_20.groupby('Date').mean()\n",
    "pm10_20=pm10_20.groupby('Date').mean()\n",
    "pm25_20=pm25_20.groupby('Date').mean()"
   ]
  },
  {
   "cell_type": "code",
   "execution_count": 189,
   "metadata": {},
   "outputs": [],
   "source": [
    "co_20.drop(['Site ID','POC','CBSA_CODE','DAILY_AQI_VALUE','DAILY_OBS_COUNT',\n",
    "             'AQS_PARAMETER_CODE','STATE_CODE','COUNTY_CODE','SITE_LATITUDE','SITE_LONGITUDE'], axis=1, inplace=True)\n",
    "pm25_20.drop(['Site ID','POC','CBSA_CODE','DAILY_AQI_VALUE','DAILY_OBS_COUNT',\n",
    "             'AQS_PARAMETER_CODE','STATE_CODE','COUNTY_CODE','SITE_LATITUDE','SITE_LONGITUDE'], axis=1, inplace=True)\n",
    "pm10_20.drop(['Site ID','POC','CBSA_CODE','DAILY_AQI_VALUE','DAILY_OBS_COUNT',\n",
    "             'AQS_PARAMETER_CODE','STATE_CODE','COUNTY_CODE','SITE_LATITUDE','SITE_LONGITUDE'], axis=1, inplace=True)\n",
    "o3_20.drop(['Site ID','POC','CBSA_CODE','DAILY_AQI_VALUE','DAILY_OBS_COUNT',\n",
    "             'AQS_PARAMETER_CODE','STATE_CODE','COUNTY_CODE','SITE_LATITUDE','SITE_LONGITUDE'], axis=1, inplace=True)\n",
    "no2_20.drop(['Site ID','POC','CBSA_CODE','DAILY_AQI_VALUE','DAILY_OBS_COUNT',\n",
    "             'AQS_PARAMETER_CODE','STATE_CODE','COUNTY_CODE','SITE_LATITUDE','SITE_LONGITUDE'], axis=1, inplace=True)"
   ]
  },
  {
   "cell_type": "code",
   "execution_count": 190,
   "metadata": {},
   "outputs": [
    {
     "data": {
      "text/html": [
       "<div>\n",
       "<style scoped>\n",
       "    .dataframe tbody tr th:only-of-type {\n",
       "        vertical-align: middle;\n",
       "    }\n",
       "\n",
       "    .dataframe tbody tr th {\n",
       "        vertical-align: top;\n",
       "    }\n",
       "\n",
       "    .dataframe thead th {\n",
       "        text-align: right;\n",
       "    }\n",
       "</style>\n",
       "<table border=\"1\" class=\"dataframe\">\n",
       "  <thead>\n",
       "    <tr style=\"text-align: right;\">\n",
       "      <th></th>\n",
       "      <th>Daily Max 1-hour NO2 Concentration</th>\n",
       "      <th>PERCENT_COMPLETE</th>\n",
       "    </tr>\n",
       "    <tr>\n",
       "      <th>Date</th>\n",
       "      <th></th>\n",
       "      <th></th>\n",
       "    </tr>\n",
       "  </thead>\n",
       "  <tbody>\n",
       "    <tr>\n",
       "      <th>2020-01-01</th>\n",
       "      <td>19.377895</td>\n",
       "      <td>96.968421</td>\n",
       "    </tr>\n",
       "    <tr>\n",
       "      <th>2020-01-02</th>\n",
       "      <td>24.768085</td>\n",
       "      <td>96.319149</td>\n",
       "    </tr>\n",
       "    <tr>\n",
       "      <th>2020-01-03</th>\n",
       "      <td>28.981915</td>\n",
       "      <td>96.446809</td>\n",
       "    </tr>\n",
       "    <tr>\n",
       "      <th>2020-01-04</th>\n",
       "      <td>24.519149</td>\n",
       "      <td>96.595745</td>\n",
       "    </tr>\n",
       "    <tr>\n",
       "      <th>2020-01-05</th>\n",
       "      <td>20.793684</td>\n",
       "      <td>96.452632</td>\n",
       "    </tr>\n",
       "    <tr>\n",
       "      <th>...</th>\n",
       "      <td>...</td>\n",
       "      <td>...</td>\n",
       "    </tr>\n",
       "    <tr>\n",
       "      <th>2020-12-27</th>\n",
       "      <td>17.320408</td>\n",
       "      <td>96.397959</td>\n",
       "    </tr>\n",
       "    <tr>\n",
       "      <th>2020-12-28</th>\n",
       "      <td>17.998958</td>\n",
       "      <td>96.125000</td>\n",
       "    </tr>\n",
       "    <tr>\n",
       "      <th>2020-12-29</th>\n",
       "      <td>24.556701</td>\n",
       "      <td>95.958763</td>\n",
       "    </tr>\n",
       "    <tr>\n",
       "      <th>2020-12-30</th>\n",
       "      <td>26.660825</td>\n",
       "      <td>95.804124</td>\n",
       "    </tr>\n",
       "    <tr>\n",
       "      <th>2020-12-31</th>\n",
       "      <td>22.574227</td>\n",
       "      <td>96.443299</td>\n",
       "    </tr>\n",
       "  </tbody>\n",
       "</table>\n",
       "<p>366 rows × 2 columns</p>\n",
       "</div>"
      ],
      "text/plain": [
       "            Daily Max 1-hour NO2 Concentration  PERCENT_COMPLETE\n",
       "Date                                                            \n",
       "2020-01-01                           19.377895         96.968421\n",
       "2020-01-02                           24.768085         96.319149\n",
       "2020-01-03                           28.981915         96.446809\n",
       "2020-01-04                           24.519149         96.595745\n",
       "2020-01-05                           20.793684         96.452632\n",
       "...                                        ...               ...\n",
       "2020-12-27                           17.320408         96.397959\n",
       "2020-12-28                           17.998958         96.125000\n",
       "2020-12-29                           24.556701         95.958763\n",
       "2020-12-30                           26.660825         95.804124\n",
       "2020-12-31                           22.574227         96.443299\n",
       "\n",
       "[366 rows x 2 columns]"
      ]
     },
     "execution_count": 190,
     "metadata": {},
     "output_type": "execute_result"
    }
   ],
   "source": [
    "no2_20"
   ]
  },
  {
   "cell_type": "code",
   "execution_count": 191,
   "metadata": {},
   "outputs": [
    {
     "name": "stdout",
     "output_type": "stream",
     "text": [
      "(366, 2)\n",
      "(366, 2)\n",
      "(365, 2)\n",
      "(366, 2)\n",
      "(366, 2)\n"
     ]
    }
   ],
   "source": [
    "#Nice. Now, are we misisng any dates?\n",
    "print(co_20.shape)\n",
    "print(no2_20.shape)\n",
    "print(o3_20.shape)\n",
    "print(pm10_20.shape)\n",
    "print(pm25_20.shape)"
   ]
  },
  {
   "cell_type": "code",
   "execution_count": 192,
   "metadata": {},
   "outputs": [],
   "source": [
    "#looks like we have extra dates! we will use daterange and it is preprogrammed to have exactly 365 days\n",
    "#so whatever more rows there is a possibility that these are duplicates. Let's find out:"
   ]
  },
  {
   "cell_type": "code",
   "execution_count": 193,
   "metadata": {},
   "outputs": [
    {
     "name": "stdout",
     "output_type": "stream",
     "text": [
      "DatetimeIndex(['2019-01-01', '2019-01-02', '2019-01-03', '2019-01-04',\n",
      "               '2019-01-05', '2019-01-06', '2019-01-07', '2019-01-08',\n",
      "               '2019-01-09', '2019-01-10',\n",
      "               ...\n",
      "               '2019-12-22', '2019-12-23', '2019-12-24', '2019-12-25',\n",
      "               '2019-12-26', '2019-12-27', '2019-12-28', '2019-12-29',\n",
      "               '2019-12-30', '2019-12-31'],\n",
      "              dtype='datetime64[ns]', length=365, freq=None)\n",
      "DatetimeIndex(['2019-01-01', '2019-01-02', '2019-01-03', '2019-01-04',\n",
      "               '2019-01-05', '2019-01-06', '2019-01-07', '2019-01-08',\n",
      "               '2019-01-09', '2019-01-10',\n",
      "               ...\n",
      "               '2019-12-22', '2019-12-23', '2019-12-24', '2019-12-25',\n",
      "               '2019-12-26', '2019-12-27', '2019-12-28', '2019-12-29',\n",
      "               '2019-12-30', '2019-12-31'],\n",
      "              dtype='datetime64[ns]', length=365, freq=None)\n",
      "DatetimeIndex(['2019-01-01', '2019-01-02', '2019-01-03', '2019-01-04',\n",
      "               '2019-01-05', '2019-01-06', '2019-01-07', '2019-01-08',\n",
      "               '2019-01-09', '2019-01-10',\n",
      "               ...\n",
      "               '2019-12-22', '2019-12-23', '2019-12-24', '2019-12-25',\n",
      "               '2019-12-26', '2019-12-27', '2019-12-28', '2019-12-29',\n",
      "               '2019-12-30', '2019-12-31'],\n",
      "              dtype='datetime64[ns]', length=365, freq=None)\n",
      "DatetimeIndex(['2019-01-01', '2019-01-02', '2019-01-03', '2019-01-04',\n",
      "               '2019-01-05', '2019-01-06', '2019-01-07', '2019-01-08',\n",
      "               '2019-01-09', '2019-01-10',\n",
      "               ...\n",
      "               '2019-12-22', '2019-12-23', '2019-12-24', '2019-12-25',\n",
      "               '2019-12-26', '2019-12-27', '2019-12-28', '2019-12-29',\n",
      "               '2019-12-30', '2019-12-31'],\n",
      "              dtype='datetime64[ns]', length=365, freq=None)\n",
      "DatetimeIndex(['2019-01-01', '2019-01-02', '2019-01-03', '2019-01-04',\n",
      "               '2019-01-05', '2019-01-06', '2019-01-07', '2019-01-08',\n",
      "               '2019-01-09', '2019-01-10',\n",
      "               ...\n",
      "               '2019-12-22', '2019-12-23', '2019-12-24', '2019-12-25',\n",
      "               '2019-12-26', '2019-12-27', '2019-12-28', '2019-12-29',\n",
      "               '2019-12-30', '2019-12-31'],\n",
      "              dtype='datetime64[ns]', length=365, freq=None)\n"
     ]
    }
   ],
   "source": [
    "#looks like there are 365 days and are unique. Mey be duplicates?\n",
    "print(pd.date_range(start = '2019-01-01', end = '2019-12-31').difference(co_20.index))\n",
    "print(pd.date_range(start = '2019-01-01', end = '2019-12-31').difference(o3_20.index))\n",
    "print(pd.date_range(start = '2019-01-01', end = '2019-12-31').difference(no2_20.index))\n",
    "print(pd.date_range(start = '2019-01-01', end = '2019-12-31').difference(pm10_20.index))\n",
    "print(pd.date_range(start = '2019-01-01', end = '2019-12-31').difference(pm25_20.index))\n",
    "\n"
   ]
  },
  {
   "cell_type": "code",
   "execution_count": 194,
   "metadata": {},
   "outputs": [
    {
     "name": "stdout",
     "output_type": "stream",
     "text": [
      "False    365\n",
      "True       1\n",
      "dtype: int64\n",
      "False    366\n",
      "dtype: int64\n",
      "False    364\n",
      "True       1\n",
      "dtype: int64\n",
      "False    364\n",
      "True       2\n",
      "dtype: int64\n",
      "False    366\n",
      "dtype: int64\n"
     ]
    }
   ],
   "source": [
    "#days are complete so may be duplicated rows\n",
    "print(co_20.duplicated().value_counts())\n",
    "print(no2_20.duplicated().value_counts())\n",
    "print(o3_20.duplicated().value_counts())\n",
    "print(pm10_20.duplicated().value_counts())\n",
    "print(pm25_20.duplicated().value_counts())"
   ]
  },
  {
   "cell_type": "code",
   "execution_count": 195,
   "metadata": {},
   "outputs": [
    {
     "name": "stdout",
     "output_type": "stream",
     "text": [
      "                0\n",
      "Date             \n",
      "2020-01-01  False\n",
      "2020-01-02  False\n",
      "2020-01-03  False\n",
      "2020-01-04  False\n",
      "2020-01-05  False\n",
      "...           ...\n",
      "2020-12-27  False\n",
      "2020-12-28  False\n",
      "2020-12-29  False\n",
      "2020-12-30  False\n",
      "2020-12-31  False\n",
      "\n",
      "[366 rows x 1 columns]\n"
     ]
    }
   ],
   "source": [
    "duplicated=pd.DataFrame(pm10_20.duplicated())\n",
    "print(duplicated)"
   ]
  },
  {
   "cell_type": "code",
   "execution_count": 196,
   "metadata": {},
   "outputs": [
    {
     "data": {
      "text/html": [
       "<div>\n",
       "<style scoped>\n",
       "    .dataframe tbody tr th:only-of-type {\n",
       "        vertical-align: middle;\n",
       "    }\n",
       "\n",
       "    .dataframe tbody tr th {\n",
       "        vertical-align: top;\n",
       "    }\n",
       "\n",
       "    .dataframe thead th {\n",
       "        text-align: right;\n",
       "    }\n",
       "</style>\n",
       "<table border=\"1\" class=\"dataframe\">\n",
       "  <thead>\n",
       "    <tr style=\"text-align: right;\">\n",
       "      <th></th>\n",
       "      <th>Daily Mean PM10 Concentration</th>\n",
       "      <th>PERCENT_COMPLETE</th>\n",
       "    </tr>\n",
       "    <tr>\n",
       "      <th>Date</th>\n",
       "      <th></th>\n",
       "      <th></th>\n",
       "    </tr>\n",
       "  </thead>\n",
       "  <tbody>\n",
       "    <tr>\n",
       "      <th>2020-01-21</th>\n",
       "      <td>14.000000</td>\n",
       "      <td>100.0</td>\n",
       "    </tr>\n",
       "    <tr>\n",
       "      <th>2020-08-05</th>\n",
       "      <td>29.925926</td>\n",
       "      <td>100.0</td>\n",
       "    </tr>\n",
       "  </tbody>\n",
       "</table>\n",
       "</div>"
      ],
      "text/plain": [
       "            Daily Mean PM10 Concentration  PERCENT_COMPLETE\n",
       "Date                                                       \n",
       "2020-01-21                      14.000000             100.0\n",
       "2020-08-05                      29.925926             100.0"
      ]
     },
     "execution_count": 196,
     "metadata": {},
     "output_type": "execute_result"
    }
   ],
   "source": [
    "pm10_20[pm10_20.duplicated()]"
   ]
  },
  {
   "cell_type": "code",
   "execution_count": 197,
   "metadata": {},
   "outputs": [
    {
     "data": {
      "text/html": [
       "<div>\n",
       "<style scoped>\n",
       "    .dataframe tbody tr th:only-of-type {\n",
       "        vertical-align: middle;\n",
       "    }\n",
       "\n",
       "    .dataframe tbody tr th {\n",
       "        vertical-align: top;\n",
       "    }\n",
       "\n",
       "    .dataframe thead th {\n",
       "        text-align: right;\n",
       "    }\n",
       "</style>\n",
       "<table border=\"1\" class=\"dataframe\">\n",
       "  <thead>\n",
       "    <tr style=\"text-align: right;\">\n",
       "      <th></th>\n",
       "      <th>Daily Max 8-hour Ozone Concentration</th>\n",
       "      <th>PERCENT_COMPLETE</th>\n",
       "    </tr>\n",
       "    <tr>\n",
       "      <th>Date</th>\n",
       "      <th></th>\n",
       "      <th></th>\n",
       "    </tr>\n",
       "  </thead>\n",
       "  <tbody>\n",
       "    <tr>\n",
       "      <th>2020-05-03</th>\n",
       "      <td>0.045295</td>\n",
       "      <td>99.746988</td>\n",
       "    </tr>\n",
       "  </tbody>\n",
       "</table>\n",
       "</div>"
      ],
      "text/plain": [
       "            Daily Max 8-hour Ozone Concentration  PERCENT_COMPLETE\n",
       "Date                                                              \n",
       "2020-05-03                              0.045295         99.746988"
      ]
     },
     "execution_count": 197,
     "metadata": {},
     "output_type": "execute_result"
    }
   ],
   "source": [
    "o3_20[o3_20.duplicated()]"
   ]
  },
  {
   "cell_type": "code",
   "execution_count": 198,
   "metadata": {},
   "outputs": [
    {
     "data": {
      "text/html": [
       "<div>\n",
       "<style scoped>\n",
       "    .dataframe tbody tr th:only-of-type {\n",
       "        vertical-align: middle;\n",
       "    }\n",
       "\n",
       "    .dataframe tbody tr th {\n",
       "        vertical-align: top;\n",
       "    }\n",
       "\n",
       "    .dataframe thead th {\n",
       "        text-align: right;\n",
       "    }\n",
       "</style>\n",
       "<table border=\"1\" class=\"dataframe\">\n",
       "  <thead>\n",
       "    <tr style=\"text-align: right;\">\n",
       "      <th></th>\n",
       "      <th>Daily Max 8-hour CO Concentration</th>\n",
       "      <th>PERCENT_COMPLETE</th>\n",
       "    </tr>\n",
       "    <tr>\n",
       "      <th>Date</th>\n",
       "      <th></th>\n",
       "      <th></th>\n",
       "    </tr>\n",
       "  </thead>\n",
       "  <tbody>\n",
       "    <tr>\n",
       "      <th>2020-08-10</th>\n",
       "      <td>0.303226</td>\n",
       "      <td>97.790323</td>\n",
       "    </tr>\n",
       "  </tbody>\n",
       "</table>\n",
       "</div>"
      ],
      "text/plain": [
       "            Daily Max 8-hour CO Concentration  PERCENT_COMPLETE\n",
       "Date                                                           \n",
       "2020-08-10                           0.303226         97.790323"
      ]
     },
     "execution_count": 198,
     "metadata": {},
     "output_type": "execute_result"
    }
   ],
   "source": [
    "co_20[co_20.duplicated()]"
   ]
  },
  {
   "cell_type": "code",
   "execution_count": 205,
   "metadata": {},
   "outputs": [
    {
     "name": "stdout",
     "output_type": "stream",
     "text": [
      "Daily Max 8-hour CO Concentration    False\n",
      "PERCENT_COMPLETE                     False\n",
      "dtype: bool\n",
      "Daily Max 8-hour Ozone Concentration    False\n",
      "PERCENT_COMPLETE                        False\n",
      "dtype: bool\n",
      "Daily Max 1-hour NO2 Concentration    False\n",
      "PERCENT_COMPLETE                      False\n",
      "dtype: bool\n",
      "Daily Mean PM10 Concentration    False\n",
      "PERCENT_COMPLETE                 False\n",
      "dtype: bool\n",
      "Daily Mean PM2.5 Concentration    False\n",
      "PERCENT_COMPLETE                  False\n",
      "dtype: bool\n"
     ]
    }
   ],
   "source": [
    "print(co_20.isna().any())\n",
    "print(o3_20.isna().any())\n",
    "print(no2_20.isna().any())\n",
    "print(pm10_20.isna().any())\n",
    "print(pm25_20.isna().any())"
   ]
  },
  {
   "cell_type": "code",
   "execution_count": 215,
   "metadata": {},
   "outputs": [
    {
     "data": {
      "text/html": [
       "<div>\n",
       "<style scoped>\n",
       "    .dataframe tbody tr th:only-of-type {\n",
       "        vertical-align: middle;\n",
       "    }\n",
       "\n",
       "    .dataframe tbody tr th {\n",
       "        vertical-align: top;\n",
       "    }\n",
       "\n",
       "    .dataframe thead th {\n",
       "        text-align: right;\n",
       "    }\n",
       "</style>\n",
       "<table border=\"1\" class=\"dataframe\">\n",
       "  <thead>\n",
       "    <tr style=\"text-align: right;\">\n",
       "      <th></th>\n",
       "      <th>Daily Max 8-hour CO Concentration</th>\n",
       "    </tr>\n",
       "    <tr>\n",
       "      <th>Date</th>\n",
       "      <th></th>\n",
       "    </tr>\n",
       "  </thead>\n",
       "  <tbody>\n",
       "    <tr>\n",
       "      <th>2020-01-01</th>\n",
       "      <td>0.609836</td>\n",
       "    </tr>\n",
       "    <tr>\n",
       "      <th>2020-01-02</th>\n",
       "      <td>0.650820</td>\n",
       "    </tr>\n",
       "    <tr>\n",
       "      <th>2020-01-03</th>\n",
       "      <td>0.801639</td>\n",
       "    </tr>\n",
       "    <tr>\n",
       "      <th>2020-01-04</th>\n",
       "      <td>0.831148</td>\n",
       "    </tr>\n",
       "    <tr>\n",
       "      <th>2020-01-05</th>\n",
       "      <td>0.732787</td>\n",
       "    </tr>\n",
       "    <tr>\n",
       "      <th>...</th>\n",
       "      <td>...</td>\n",
       "    </tr>\n",
       "    <tr>\n",
       "      <th>2020-12-27</th>\n",
       "      <td>0.558333</td>\n",
       "    </tr>\n",
       "    <tr>\n",
       "      <th>2020-12-28</th>\n",
       "      <td>0.421667</td>\n",
       "    </tr>\n",
       "    <tr>\n",
       "      <th>2020-12-29</th>\n",
       "      <td>0.613115</td>\n",
       "    </tr>\n",
       "    <tr>\n",
       "      <th>2020-12-30</th>\n",
       "      <td>0.711475</td>\n",
       "    </tr>\n",
       "    <tr>\n",
       "      <th>2020-12-31</th>\n",
       "      <td>0.693220</td>\n",
       "    </tr>\n",
       "  </tbody>\n",
       "</table>\n",
       "<p>366 rows × 1 columns</p>\n",
       "</div>"
      ],
      "text/plain": [
       "            Daily Max 8-hour CO Concentration\n",
       "Date                                         \n",
       "2020-01-01                           0.609836\n",
       "2020-01-02                           0.650820\n",
       "2020-01-03                           0.801639\n",
       "2020-01-04                           0.831148\n",
       "2020-01-05                           0.732787\n",
       "...                                       ...\n",
       "2020-12-27                           0.558333\n",
       "2020-12-28                           0.421667\n",
       "2020-12-29                           0.613115\n",
       "2020-12-30                           0.711475\n",
       "2020-12-31                           0.693220\n",
       "\n",
       "[366 rows x 1 columns]"
      ]
     },
     "execution_count": 215,
     "metadata": {},
     "output_type": "execute_result"
    }
   ],
   "source": [
    "co_20"
   ]
  },
  {
   "cell_type": "code",
   "execution_count": 227,
   "metadata": {},
   "outputs": [],
   "source": [
    "co_20.rename(columns={'Site ID':'site_id','Daily Max 8-hour CO Concentration':'daily_max_co', 'PERCENT_COMPLETE':'percent_complete'}, inplace=True)\n",
    "no2_20.rename(columns={'Site ID':'site_id','Daily Max 1-hour NO2 Concentration':'daily_max_no2', 'PERCENT_COMPLETE':'percent_complete'}, inplace=True)\n",
    "o3_20.rename(columns={'Site ID':'site_id','Daily Max 8-hour Ozone Concentration':'daily_max_o3','PERCENT_COMPLETE':'percent_complete'}, inplace=True)\n",
    "pm10_20.rename(columns={'Site ID':'site_id','Daily Mean PM10 Concentration':'daily_mean_pm10','PERCENT_COMPLETE':'percent_complete'}, inplace=True)\n",
    "pm25_20.rename(columns={'Site ID':'site_id','Daily Mean PM2.5 Concentration':'daily_mean_pm2.5','PERCENT_COMPLETE':'percent_complete'}, inplace=True)\n"
   ]
  },
  {
   "cell_type": "code",
   "execution_count": 228,
   "metadata": {},
   "outputs": [
    {
     "name": "stdout",
     "output_type": "stream",
     "text": [
      "Index(['daily_max_co'], dtype='object')\n"
     ]
    }
   ],
   "source": [
    "print(co_20.columns)"
   ]
  },
  {
   "cell_type": "code",
   "execution_count": 229,
   "metadata": {},
   "outputs": [
    {
     "ename": "KeyError",
     "evalue": "\"['percent_complete'] not found in axis\"",
     "output_type": "error",
     "traceback": [
      "\u001b[1;31m---------------------------------------------------------------------------\u001b[0m",
      "\u001b[1;31mKeyError\u001b[0m                                  Traceback (most recent call last)",
      "Input \u001b[1;32mIn [229]\u001b[0m, in \u001b[0;36m<module>\u001b[1;34m\u001b[0m\n\u001b[1;32m----> 1\u001b[0m \u001b[43mco_20\u001b[49m\u001b[38;5;241;43m.\u001b[39;49m\u001b[43mdrop\u001b[49m\u001b[43m(\u001b[49m\u001b[43m[\u001b[49m\u001b[38;5;124;43m'\u001b[39;49m\u001b[38;5;124;43mpercent_complete\u001b[39;49m\u001b[38;5;124;43m'\u001b[39;49m\u001b[43m]\u001b[49m\u001b[43m,\u001b[49m\u001b[43m \u001b[49m\u001b[43maxis\u001b[49m\u001b[38;5;241;43m=\u001b[39;49m\u001b[38;5;241;43m1\u001b[39;49m\u001b[43m,\u001b[49m\u001b[43m \u001b[49m\u001b[43minplace\u001b[49m\u001b[38;5;241;43m=\u001b[39;49m\u001b[38;5;28;43;01mTrue\u001b[39;49;00m\u001b[43m)\u001b[49m\n\u001b[0;32m      2\u001b[0m no2_20\u001b[38;5;241m.\u001b[39mdrop([\u001b[38;5;124m'\u001b[39m\u001b[38;5;124mpercent_complete\u001b[39m\u001b[38;5;124m'\u001b[39m], axis\u001b[38;5;241m=\u001b[39m\u001b[38;5;241m1\u001b[39m, inplace\u001b[38;5;241m=\u001b[39m\u001b[38;5;28;01mTrue\u001b[39;00m)\n\u001b[0;32m      3\u001b[0m o3_20\u001b[38;5;241m.\u001b[39mdrop([\u001b[38;5;124m'\u001b[39m\u001b[38;5;124mpercent_complete\u001b[39m\u001b[38;5;124m'\u001b[39m], axis\u001b[38;5;241m=\u001b[39m\u001b[38;5;241m1\u001b[39m, inplace\u001b[38;5;241m=\u001b[39m\u001b[38;5;28;01mTrue\u001b[39;00m)\n",
      "File \u001b[1;32mc:\\Users\\Thekra\\AppData\\Local\\Programs\\Python\\Python39\\lib\\site-packages\\pandas\\util\\_decorators.py:331\u001b[0m, in \u001b[0;36mdeprecate_nonkeyword_arguments.<locals>.decorate.<locals>.wrapper\u001b[1;34m(*args, **kwargs)\u001b[0m\n\u001b[0;32m    325\u001b[0m \u001b[38;5;28;01mif\u001b[39;00m \u001b[38;5;28mlen\u001b[39m(args) \u001b[38;5;241m>\u001b[39m num_allow_args:\n\u001b[0;32m    326\u001b[0m     warnings\u001b[38;5;241m.\u001b[39mwarn(\n\u001b[0;32m    327\u001b[0m         msg\u001b[38;5;241m.\u001b[39mformat(arguments\u001b[38;5;241m=\u001b[39m_format_argument_list(allow_args)),\n\u001b[0;32m    328\u001b[0m         \u001b[38;5;167;01mFutureWarning\u001b[39;00m,\n\u001b[0;32m    329\u001b[0m         stacklevel\u001b[38;5;241m=\u001b[39mfind_stack_level(),\n\u001b[0;32m    330\u001b[0m     )\n\u001b[1;32m--> 331\u001b[0m \u001b[38;5;28;01mreturn\u001b[39;00m func(\u001b[38;5;241m*\u001b[39margs, \u001b[38;5;241m*\u001b[39m\u001b[38;5;241m*\u001b[39mkwargs)\n",
      "File \u001b[1;32mc:\\Users\\Thekra\\AppData\\Local\\Programs\\Python\\Python39\\lib\\site-packages\\pandas\\core\\frame.py:5388\u001b[0m, in \u001b[0;36mDataFrame.drop\u001b[1;34m(self, labels, axis, index, columns, level, inplace, errors)\u001b[0m\n\u001b[0;32m   5240\u001b[0m \u001b[38;5;129m@deprecate_nonkeyword_arguments\u001b[39m(version\u001b[38;5;241m=\u001b[39m\u001b[38;5;28;01mNone\u001b[39;00m, allowed_args\u001b[38;5;241m=\u001b[39m[\u001b[38;5;124m\"\u001b[39m\u001b[38;5;124mself\u001b[39m\u001b[38;5;124m\"\u001b[39m, \u001b[38;5;124m\"\u001b[39m\u001b[38;5;124mlabels\u001b[39m\u001b[38;5;124m\"\u001b[39m])\n\u001b[0;32m   5241\u001b[0m \u001b[38;5;28;01mdef\u001b[39;00m \u001b[38;5;21mdrop\u001b[39m(  \u001b[38;5;66;03m# type: ignore[override]\u001b[39;00m\n\u001b[0;32m   5242\u001b[0m     \u001b[38;5;28mself\u001b[39m,\n\u001b[1;32m   (...)\u001b[0m\n\u001b[0;32m   5249\u001b[0m     errors: IgnoreRaise \u001b[38;5;241m=\u001b[39m \u001b[38;5;124m\"\u001b[39m\u001b[38;5;124mraise\u001b[39m\u001b[38;5;124m\"\u001b[39m,\n\u001b[0;32m   5250\u001b[0m ) \u001b[38;5;241m-\u001b[39m\u001b[38;5;241m>\u001b[39m DataFrame \u001b[38;5;241m|\u001b[39m \u001b[38;5;28;01mNone\u001b[39;00m:\n\u001b[0;32m   5251\u001b[0m     \u001b[38;5;124;03m\"\"\"\u001b[39;00m\n\u001b[0;32m   5252\u001b[0m \u001b[38;5;124;03m    Drop specified labels from rows or columns.\u001b[39;00m\n\u001b[0;32m   5253\u001b[0m \n\u001b[1;32m   (...)\u001b[0m\n\u001b[0;32m   5386\u001b[0m \u001b[38;5;124;03m            weight  1.0     0.8\u001b[39;00m\n\u001b[0;32m   5387\u001b[0m \u001b[38;5;124;03m    \"\"\"\u001b[39;00m\n\u001b[1;32m-> 5388\u001b[0m     \u001b[38;5;28;01mreturn\u001b[39;00m \u001b[38;5;28;43msuper\u001b[39;49m\u001b[43m(\u001b[49m\u001b[43m)\u001b[49m\u001b[38;5;241;43m.\u001b[39;49m\u001b[43mdrop\u001b[49m\u001b[43m(\u001b[49m\n\u001b[0;32m   5389\u001b[0m \u001b[43m        \u001b[49m\u001b[43mlabels\u001b[49m\u001b[38;5;241;43m=\u001b[39;49m\u001b[43mlabels\u001b[49m\u001b[43m,\u001b[49m\n\u001b[0;32m   5390\u001b[0m \u001b[43m        \u001b[49m\u001b[43maxis\u001b[49m\u001b[38;5;241;43m=\u001b[39;49m\u001b[43maxis\u001b[49m\u001b[43m,\u001b[49m\n\u001b[0;32m   5391\u001b[0m \u001b[43m        \u001b[49m\u001b[43mindex\u001b[49m\u001b[38;5;241;43m=\u001b[39;49m\u001b[43mindex\u001b[49m\u001b[43m,\u001b[49m\n\u001b[0;32m   5392\u001b[0m \u001b[43m        \u001b[49m\u001b[43mcolumns\u001b[49m\u001b[38;5;241;43m=\u001b[39;49m\u001b[43mcolumns\u001b[49m\u001b[43m,\u001b[49m\n\u001b[0;32m   5393\u001b[0m \u001b[43m        \u001b[49m\u001b[43mlevel\u001b[49m\u001b[38;5;241;43m=\u001b[39;49m\u001b[43mlevel\u001b[49m\u001b[43m,\u001b[49m\n\u001b[0;32m   5394\u001b[0m \u001b[43m        \u001b[49m\u001b[43minplace\u001b[49m\u001b[38;5;241;43m=\u001b[39;49m\u001b[43minplace\u001b[49m\u001b[43m,\u001b[49m\n\u001b[0;32m   5395\u001b[0m \u001b[43m        \u001b[49m\u001b[43merrors\u001b[49m\u001b[38;5;241;43m=\u001b[39;49m\u001b[43merrors\u001b[49m\u001b[43m,\u001b[49m\n\u001b[0;32m   5396\u001b[0m \u001b[43m    \u001b[49m\u001b[43m)\u001b[49m\n",
      "File \u001b[1;32mc:\\Users\\Thekra\\AppData\\Local\\Programs\\Python\\Python39\\lib\\site-packages\\pandas\\util\\_decorators.py:331\u001b[0m, in \u001b[0;36mdeprecate_nonkeyword_arguments.<locals>.decorate.<locals>.wrapper\u001b[1;34m(*args, **kwargs)\u001b[0m\n\u001b[0;32m    325\u001b[0m \u001b[38;5;28;01mif\u001b[39;00m \u001b[38;5;28mlen\u001b[39m(args) \u001b[38;5;241m>\u001b[39m num_allow_args:\n\u001b[0;32m    326\u001b[0m     warnings\u001b[38;5;241m.\u001b[39mwarn(\n\u001b[0;32m    327\u001b[0m         msg\u001b[38;5;241m.\u001b[39mformat(arguments\u001b[38;5;241m=\u001b[39m_format_argument_list(allow_args)),\n\u001b[0;32m    328\u001b[0m         \u001b[38;5;167;01mFutureWarning\u001b[39;00m,\n\u001b[0;32m    329\u001b[0m         stacklevel\u001b[38;5;241m=\u001b[39mfind_stack_level(),\n\u001b[0;32m    330\u001b[0m     )\n\u001b[1;32m--> 331\u001b[0m \u001b[38;5;28;01mreturn\u001b[39;00m func(\u001b[38;5;241m*\u001b[39margs, \u001b[38;5;241m*\u001b[39m\u001b[38;5;241m*\u001b[39mkwargs)\n",
      "File \u001b[1;32mc:\\Users\\Thekra\\AppData\\Local\\Programs\\Python\\Python39\\lib\\site-packages\\pandas\\core\\generic.py:4505\u001b[0m, in \u001b[0;36mNDFrame.drop\u001b[1;34m(self, labels, axis, index, columns, level, inplace, errors)\u001b[0m\n\u001b[0;32m   4503\u001b[0m \u001b[38;5;28;01mfor\u001b[39;00m axis, labels \u001b[38;5;129;01min\u001b[39;00m axes\u001b[38;5;241m.\u001b[39mitems():\n\u001b[0;32m   4504\u001b[0m     \u001b[38;5;28;01mif\u001b[39;00m labels \u001b[38;5;129;01mis\u001b[39;00m \u001b[38;5;129;01mnot\u001b[39;00m \u001b[38;5;28;01mNone\u001b[39;00m:\n\u001b[1;32m-> 4505\u001b[0m         obj \u001b[38;5;241m=\u001b[39m \u001b[43mobj\u001b[49m\u001b[38;5;241;43m.\u001b[39;49m\u001b[43m_drop_axis\u001b[49m\u001b[43m(\u001b[49m\u001b[43mlabels\u001b[49m\u001b[43m,\u001b[49m\u001b[43m \u001b[49m\u001b[43maxis\u001b[49m\u001b[43m,\u001b[49m\u001b[43m \u001b[49m\u001b[43mlevel\u001b[49m\u001b[38;5;241;43m=\u001b[39;49m\u001b[43mlevel\u001b[49m\u001b[43m,\u001b[49m\u001b[43m \u001b[49m\u001b[43merrors\u001b[49m\u001b[38;5;241;43m=\u001b[39;49m\u001b[43merrors\u001b[49m\u001b[43m)\u001b[49m\n\u001b[0;32m   4507\u001b[0m \u001b[38;5;28;01mif\u001b[39;00m inplace:\n\u001b[0;32m   4508\u001b[0m     \u001b[38;5;28mself\u001b[39m\u001b[38;5;241m.\u001b[39m_update_inplace(obj)\n",
      "File \u001b[1;32mc:\\Users\\Thekra\\AppData\\Local\\Programs\\Python\\Python39\\lib\\site-packages\\pandas\\core\\generic.py:4546\u001b[0m, in \u001b[0;36mNDFrame._drop_axis\u001b[1;34m(self, labels, axis, level, errors, only_slice)\u001b[0m\n\u001b[0;32m   4544\u001b[0m         new_axis \u001b[38;5;241m=\u001b[39m axis\u001b[38;5;241m.\u001b[39mdrop(labels, level\u001b[38;5;241m=\u001b[39mlevel, errors\u001b[38;5;241m=\u001b[39merrors)\n\u001b[0;32m   4545\u001b[0m     \u001b[38;5;28;01melse\u001b[39;00m:\n\u001b[1;32m-> 4546\u001b[0m         new_axis \u001b[38;5;241m=\u001b[39m \u001b[43maxis\u001b[49m\u001b[38;5;241;43m.\u001b[39;49m\u001b[43mdrop\u001b[49m\u001b[43m(\u001b[49m\u001b[43mlabels\u001b[49m\u001b[43m,\u001b[49m\u001b[43m \u001b[49m\u001b[43merrors\u001b[49m\u001b[38;5;241;43m=\u001b[39;49m\u001b[43merrors\u001b[49m\u001b[43m)\u001b[49m\n\u001b[0;32m   4547\u001b[0m     indexer \u001b[38;5;241m=\u001b[39m axis\u001b[38;5;241m.\u001b[39mget_indexer(new_axis)\n\u001b[0;32m   4549\u001b[0m \u001b[38;5;66;03m# Case for non-unique axis\u001b[39;00m\n\u001b[0;32m   4550\u001b[0m \u001b[38;5;28;01melse\u001b[39;00m:\n",
      "File \u001b[1;32mc:\\Users\\Thekra\\AppData\\Local\\Programs\\Python\\Python39\\lib\\site-packages\\pandas\\core\\indexes\\base.py:6975\u001b[0m, in \u001b[0;36mIndex.drop\u001b[1;34m(self, labels, errors)\u001b[0m\n\u001b[0;32m   6973\u001b[0m \u001b[38;5;28;01mif\u001b[39;00m mask\u001b[38;5;241m.\u001b[39many():\n\u001b[0;32m   6974\u001b[0m     \u001b[38;5;28;01mif\u001b[39;00m errors \u001b[38;5;241m!=\u001b[39m \u001b[38;5;124m\"\u001b[39m\u001b[38;5;124mignore\u001b[39m\u001b[38;5;124m\"\u001b[39m:\n\u001b[1;32m-> 6975\u001b[0m         \u001b[38;5;28;01mraise\u001b[39;00m \u001b[38;5;167;01mKeyError\u001b[39;00m(\u001b[38;5;124mf\u001b[39m\u001b[38;5;124m\"\u001b[39m\u001b[38;5;132;01m{\u001b[39;00m\u001b[38;5;28mlist\u001b[39m(labels[mask])\u001b[38;5;132;01m}\u001b[39;00m\u001b[38;5;124m not found in axis\u001b[39m\u001b[38;5;124m\"\u001b[39m)\n\u001b[0;32m   6976\u001b[0m     indexer \u001b[38;5;241m=\u001b[39m indexer[\u001b[38;5;241m~\u001b[39mmask]\n\u001b[0;32m   6977\u001b[0m \u001b[38;5;28;01mreturn\u001b[39;00m \u001b[38;5;28mself\u001b[39m\u001b[38;5;241m.\u001b[39mdelete(indexer)\n",
      "\u001b[1;31mKeyError\u001b[0m: \"['percent_complete'] not found in axis\""
     ]
    }
   ],
   "source": [
    "co_20.drop(['percent_complete'], axis=1, inplace=True)\n",
    "no2_20.drop(['percent_complete'], axis=1, inplace=True)\n",
    "o3_20.drop(['percent_complete'], axis=1, inplace=True)\n",
    "pm10_20.drop(['percent_complete'], axis=1, inplace=True)\n",
    "pm25_20.drop(['percent_complete'], axis=1, inplace=True)"
   ]
  },
  {
   "cell_type": "code",
   "execution_count": 230,
   "metadata": {},
   "outputs": [
    {
     "data": {
      "text/html": [
       "<div>\n",
       "<style scoped>\n",
       "    .dataframe tbody tr th:only-of-type {\n",
       "        vertical-align: middle;\n",
       "    }\n",
       "\n",
       "    .dataframe tbody tr th {\n",
       "        vertical-align: top;\n",
       "    }\n",
       "\n",
       "    .dataframe thead th {\n",
       "        text-align: right;\n",
       "    }\n",
       "</style>\n",
       "<table border=\"1\" class=\"dataframe\">\n",
       "  <thead>\n",
       "    <tr style=\"text-align: right;\">\n",
       "      <th></th>\n",
       "      <th>daily_max_co</th>\n",
       "      <th>daily_max_o3</th>\n",
       "      <th>daily_max_no2</th>\n",
       "      <th>daily_mean_pm10</th>\n",
       "      <th>daily_mean_pm2.5</th>\n",
       "    </tr>\n",
       "    <tr>\n",
       "      <th>Date</th>\n",
       "      <th></th>\n",
       "      <th></th>\n",
       "      <th></th>\n",
       "      <th></th>\n",
       "      <th></th>\n",
       "    </tr>\n",
       "  </thead>\n",
       "  <tbody>\n",
       "    <tr>\n",
       "      <th>2020-01-01</th>\n",
       "      <td>0.609836</td>\n",
       "      <td>0.030753</td>\n",
       "      <td>19.377895</td>\n",
       "      <td>17.615385</td>\n",
       "      <td>14.747429</td>\n",
       "    </tr>\n",
       "    <tr>\n",
       "      <th>2020-01-02</th>\n",
       "      <td>0.650820</td>\n",
       "      <td>0.028703</td>\n",
       "      <td>24.768085</td>\n",
       "      <td>16.880952</td>\n",
       "      <td>11.920155</td>\n",
       "    </tr>\n",
       "    <tr>\n",
       "      <th>2020-01-03</th>\n",
       "      <td>0.801639</td>\n",
       "      <td>0.027613</td>\n",
       "      <td>28.981915</td>\n",
       "      <td>19.894118</td>\n",
       "      <td>14.472222</td>\n",
       "    </tr>\n",
       "    <tr>\n",
       "      <th>2020-01-04</th>\n",
       "      <td>0.831148</td>\n",
       "      <td>0.031654</td>\n",
       "      <td>24.519149</td>\n",
       "      <td>19.930556</td>\n",
       "      <td>13.150725</td>\n",
       "    </tr>\n",
       "    <tr>\n",
       "      <th>2020-01-05</th>\n",
       "      <td>0.732787</td>\n",
       "      <td>0.033019</td>\n",
       "      <td>20.793684</td>\n",
       "      <td>13.023810</td>\n",
       "      <td>10.455725</td>\n",
       "    </tr>\n",
       "    <tr>\n",
       "      <th>...</th>\n",
       "      <td>...</td>\n",
       "      <td>...</td>\n",
       "      <td>...</td>\n",
       "      <td>...</td>\n",
       "      <td>...</td>\n",
       "    </tr>\n",
       "    <tr>\n",
       "      <th>2020-12-27</th>\n",
       "      <td>0.558333</td>\n",
       "      <td>0.030357</td>\n",
       "      <td>17.320408</td>\n",
       "      <td>13.482353</td>\n",
       "      <td>8.468889</td>\n",
       "    </tr>\n",
       "    <tr>\n",
       "      <th>2020-12-28</th>\n",
       "      <td>0.421667</td>\n",
       "      <td>0.033258</td>\n",
       "      <td>17.998958</td>\n",
       "      <td>8.625000</td>\n",
       "      <td>5.737594</td>\n",
       "    </tr>\n",
       "    <tr>\n",
       "      <th>2020-12-29</th>\n",
       "      <td>0.613115</td>\n",
       "      <td>0.028858</td>\n",
       "      <td>24.556701</td>\n",
       "      <td>10.465649</td>\n",
       "      <td>7.941799</td>\n",
       "    </tr>\n",
       "    <tr>\n",
       "      <th>2020-12-30</th>\n",
       "      <td>0.711475</td>\n",
       "      <td>0.029201</td>\n",
       "      <td>26.660825</td>\n",
       "      <td>14.488095</td>\n",
       "      <td>10.451095</td>\n",
       "    </tr>\n",
       "    <tr>\n",
       "      <th>2020-12-31</th>\n",
       "      <td>0.693220</td>\n",
       "      <td>NaN</td>\n",
       "      <td>22.574227</td>\n",
       "      <td>16.132530</td>\n",
       "      <td>11.587681</td>\n",
       "    </tr>\n",
       "  </tbody>\n",
       "</table>\n",
       "<p>366 rows × 5 columns</p>\n",
       "</div>"
      ],
      "text/plain": [
       "            daily_max_co  daily_max_o3  daily_max_no2  daily_mean_pm10  \\\n",
       "Date                                                                     \n",
       "2020-01-01      0.609836      0.030753      19.377895        17.615385   \n",
       "2020-01-02      0.650820      0.028703      24.768085        16.880952   \n",
       "2020-01-03      0.801639      0.027613      28.981915        19.894118   \n",
       "2020-01-04      0.831148      0.031654      24.519149        19.930556   \n",
       "2020-01-05      0.732787      0.033019      20.793684        13.023810   \n",
       "...                  ...           ...            ...              ...   \n",
       "2020-12-27      0.558333      0.030357      17.320408        13.482353   \n",
       "2020-12-28      0.421667      0.033258      17.998958         8.625000   \n",
       "2020-12-29      0.613115      0.028858      24.556701        10.465649   \n",
       "2020-12-30      0.711475      0.029201      26.660825        14.488095   \n",
       "2020-12-31      0.693220           NaN      22.574227        16.132530   \n",
       "\n",
       "            daily_mean_pm2.5  \n",
       "Date                          \n",
       "2020-01-01         14.747429  \n",
       "2020-01-02         11.920155  \n",
       "2020-01-03         14.472222  \n",
       "2020-01-04         13.150725  \n",
       "2020-01-05         10.455725  \n",
       "...                      ...  \n",
       "2020-12-27          8.468889  \n",
       "2020-12-28          5.737594  \n",
       "2020-12-29          7.941799  \n",
       "2020-12-30         10.451095  \n",
       "2020-12-31         11.587681  \n",
       "\n",
       "[366 rows x 5 columns]"
      ]
     },
     "execution_count": 230,
     "metadata": {},
     "output_type": "execute_result"
    }
   ],
   "source": [
    "df2020=[co_20,o3_20,no2_20,pm10_20,pm25_20]\n",
    "air2020 = reduce(lambda  left,right: pd.merge(left,right,on=['Date'],how='outer'), df2020)\n",
    "air2020"
   ]
  },
  {
   "cell_type": "markdown",
   "metadata": {},
   "source": [
    "2021 Datasets"
   ]
  },
  {
   "cell_type": "code",
   "execution_count": 232,
   "metadata": {},
   "outputs": [
    {
     "name": "stdout",
     "output_type": "stream",
     "text": [
      "25\n",
      "42\n",
      "33\n",
      "49\n",
      "48\n"
     ]
    }
   ],
   "source": [
    "#different numbers of counties\n",
    "print(co_21.COUNTY.nunique())\n",
    "print(pm10_21.COUNTY.nunique())\n",
    "print(no2_21.COUNTY.nunique())\n",
    "print(pm25_21.COUNTY.nunique())\n",
    "print(o3_21.COUNTY.nunique())"
   ]
  },
  {
   "cell_type": "code",
   "execution_count": 233,
   "metadata": {},
   "outputs": [
    {
     "name": "stdout",
     "output_type": "stream",
     "text": [
      "<class 'pandas.core.frame.DataFrame'>\n",
      "RangeIndex: 16968 entries, 0 to 16967\n",
      "Data columns (total 20 columns):\n",
      " #   Column                             Non-Null Count  Dtype  \n",
      "---  ------                             --------------  -----  \n",
      " 0   Date                               16968 non-null  object \n",
      " 1   Source                             16968 non-null  object \n",
      " 2   Site ID                            16968 non-null  int64  \n",
      " 3   POC                                16968 non-null  int64  \n",
      " 4   Daily Max 8-hour CO Concentration  16968 non-null  float64\n",
      " 5   UNITS                              16968 non-null  object \n",
      " 6   DAILY_AQI_VALUE                    16968 non-null  int64  \n",
      " 7   Site Name                          16968 non-null  object \n",
      " 8   DAILY_OBS_COUNT                    16968 non-null  int64  \n",
      " 9   PERCENT_COMPLETE                   16968 non-null  float64\n",
      " 10  AQS_PARAMETER_CODE                 16968 non-null  int64  \n",
      " 11  AQS_PARAMETER_DESC                 16968 non-null  object \n",
      " 12  CBSA_CODE                          16968 non-null  int64  \n",
      " 13  CBSA_NAME                          16968 non-null  object \n",
      " 14  STATE_CODE                         16968 non-null  int64  \n",
      " 15  STATE                              16968 non-null  object \n",
      " 16  COUNTY_CODE                        16968 non-null  int64  \n",
      " 17  COUNTY                             16968 non-null  object \n",
      " 18  SITE_LATITUDE                      16968 non-null  float64\n",
      " 19  SITE_LONGITUDE                     16968 non-null  float64\n",
      "dtypes: float64(4), int64(8), object(8)\n",
      "memory usage: 2.6+ MB\n"
     ]
    }
   ],
   "source": [
    "#explore data type\n",
    "co_21.info()"
   ]
  },
  {
   "cell_type": "code",
   "execution_count": 234,
   "metadata": {},
   "outputs": [],
   "source": [
    "co_21['Date']=pd.to_datetime(co_21['Date'], format = \"%m/%d/%Y\")\n",
    "pm10_21['Date']=pd.to_datetime(pm10_21['Date'], format = \"%m/%d/%Y\")\n",
    "pm25_21['Date']=pd.to_datetime(pm25_21['Date'], format = \"%m/%d/%Y\")\n",
    "no2_21['Date']=pd.to_datetime(no2_21['Date'], format = \"%m/%d/%Y\")\n",
    "o3_21['Date']=pd.to_datetime(o3_21['Date'], format = \"%m/%d/%Y\")"
   ]
  },
  {
   "cell_type": "code",
   "execution_count": 235,
   "metadata": {},
   "outputs": [
    {
     "name": "stderr",
     "output_type": "stream",
     "text": [
      "C:\\Users\\Thekra\\AppData\\Local\\Temp\\ipykernel_5828\\28008911.py:1: FutureWarning: The default value of numeric_only in DataFrameGroupBy.mean is deprecated. In a future version, numeric_only will default to False. Either specify numeric_only or select only columns which should be valid for the function.\n",
      "  co_21=co_21.groupby('Date').mean()\n",
      "C:\\Users\\Thekra\\AppData\\Local\\Temp\\ipykernel_5828\\28008911.py:2: FutureWarning: The default value of numeric_only in DataFrameGroupBy.mean is deprecated. In a future version, numeric_only will default to False. Either specify numeric_only or select only columns which should be valid for the function.\n",
      "  o3_21=o3_21.groupby('Date').mean()\n",
      "C:\\Users\\Thekra\\AppData\\Local\\Temp\\ipykernel_5828\\28008911.py:3: FutureWarning: The default value of numeric_only in DataFrameGroupBy.mean is deprecated. In a future version, numeric_only will default to False. Either specify numeric_only or select only columns which should be valid for the function.\n",
      "  no2_21=no2_21.groupby('Date').mean()\n",
      "C:\\Users\\Thekra\\AppData\\Local\\Temp\\ipykernel_5828\\28008911.py:4: FutureWarning: The default value of numeric_only in DataFrameGroupBy.mean is deprecated. In a future version, numeric_only will default to False. Either specify numeric_only or select only columns which should be valid for the function.\n",
      "  pm10_21=pm10_21.groupby('Date').mean()\n",
      "C:\\Users\\Thekra\\AppData\\Local\\Temp\\ipykernel_5828\\28008911.py:5: FutureWarning: The default value of numeric_only in DataFrameGroupBy.mean is deprecated. In a future version, numeric_only will default to False. Either specify numeric_only or select only columns which should be valid for the function.\n",
      "  pm25_21=pm25_21.groupby('Date').mean()\n"
     ]
    }
   ],
   "source": [
    "co_21=co_21.groupby('Date').mean()\n",
    "o3_21=o3_21.groupby('Date').mean()\n",
    "no2_21=no2_21.groupby('Date').mean()\n",
    "pm10_21=pm10_21.groupby('Date').mean()\n",
    "pm25_21=pm25_21.groupby('Date').mean()"
   ]
  },
  {
   "cell_type": "code",
   "execution_count": 237,
   "metadata": {},
   "outputs": [],
   "source": [
    "co_21.drop(['Site ID','POC','CBSA_CODE','DAILY_AQI_VALUE','DAILY_OBS_COUNT',\n",
    "             'AQS_PARAMETER_CODE','STATE_CODE','COUNTY_CODE','SITE_LATITUDE','SITE_LONGITUDE'], axis=1, inplace=True)\n",
    "pm25_21.drop(['Site ID','POC','CBSA_CODE','DAILY_AQI_VALUE','DAILY_OBS_COUNT',\n",
    "             'AQS_PARAMETER_CODE','STATE_CODE','COUNTY_CODE','SITE_LATITUDE','SITE_LONGITUDE'], axis=1, inplace=True)\n",
    "pm10_21.drop(['Site ID','POC','CBSA_CODE','DAILY_AQI_VALUE','DAILY_OBS_COUNT',\n",
    "             'AQS_PARAMETER_CODE','STATE_CODE','COUNTY_CODE','SITE_LATITUDE','SITE_LONGITUDE'], axis=1, inplace=True)\n",
    "o3_21.drop(['Site ID','POC','CBSA_CODE','DAILY_AQI_VALUE','DAILY_OBS_COUNT',\n",
    "             'AQS_PARAMETER_CODE','STATE_CODE','COUNTY_CODE','SITE_LATITUDE','SITE_LONGITUDE'], axis=1, inplace=True)\n",
    "no2_21.drop(['Site ID','POC','CBSA_CODE','DAILY_AQI_VALUE','DAILY_OBS_COUNT',\n",
    "             'AQS_PARAMETER_CODE','STATE_CODE','COUNTY_CODE','SITE_LATITUDE','SITE_LONGITUDE'], axis=1, inplace=True)"
   ]
  },
  {
   "cell_type": "code",
   "execution_count": null,
   "metadata": {},
   "outputs": [],
   "source": []
  },
  {
   "cell_type": "code",
   "execution_count": null,
   "metadata": {},
   "outputs": [],
   "source": []
  },
  {
   "cell_type": "markdown",
   "metadata": {},
   "source": [
    "--------------------------------------------------------------------------------------------------"
   ]
  },
  {
   "cell_type": "code",
   "execution_count": null,
   "metadata": {},
   "outputs": [],
   "source": [
    "#df1 = pd.DataFrame({'A': [1, 2], 'B': [3, 4]})\n",
    "#df2 = pd.DataFrame({'A': [5, 6], 'B': [7, 8]})\n",
    "\n",
    "#result = pd.concat([df1, df2])\n",
    "#result = pd.concat([df1, df2], axis=1)\n",
    "#print(result)\n"
   ]
  },
  {
   "cell_type": "code",
   "execution_count": null,
   "metadata": {},
   "outputs": [
    {
     "ename": "IndentationError",
     "evalue": "unexpected indent (2386845606.py, line 2)",
     "output_type": "error",
     "traceback": [
      "\u001b[1;36m  Input \u001b[1;32mIn [200]\u001b[1;36m\u001b[0m\n\u001b[1;33m    'A': ['A0', 'A1', 'A2', 'A3']})\u001b[0m\n\u001b[1;37m    ^\u001b[0m\n\u001b[1;31mIndentationError\u001b[0m\u001b[1;31m:\u001b[0m unexpected indent\n"
     ]
    }
   ],
   "source": [
    "#df1 = pd.DataFrame({'Key': ['K0', 'K1', 'K2', 'K3'],\n",
    "                    'A': ['A0', 'A1', 'A2', 'A3']})\n",
    "#df2 = pd.DataFrame({'Key': ['K0', 'K1', 'K2', 'K3'],\n",
    "                    'B': ['B0', 'B1', 'B2', 'B3']})\n",
    "\n",
    "#result = pd.merge(df1, df2)\n",
    "#print(result)\n"
   ]
  },
  {
   "cell_type": "code",
   "execution_count": null,
   "metadata": {},
   "outputs": [],
   "source": []
  },
  {
   "cell_type": "code",
   "execution_count": null,
   "metadata": {},
   "outputs": [],
   "source": [
    "#set 'Date' as the index\n",
    "co_19.set_index('Date')\n",
    "o3_19.set_index('Date')\n",
    "no2_19.set_index('Date')\n",
    "pm10_19.set_index('Date')\n",
    "pm25_19.set_index('Date')"
   ]
  },
  {
   "cell_type": "code",
   "execution_count": null,
   "metadata": {},
   "outputs": [],
   "source": [
    "#perform groupby() on each of the 5 air quality datasets to get the daily average concentration for each county\n",
    "co_19_mean= co_19.sort_index().groupby(['Date','COUNTY'])[['Daily Max 8-hour CO Concentration']].mean().round(2)\n",
    "pm10_19_mean= pm10_19.sort_index().groupby(['Date','COUNTY'])[['Daily Mean PM10 Concentration']].mean().round(2)\n",
    "pm25_19_mean = pm25_19.sort_index().groupby(['Date','COUNTY'])[['Daily Mean PM2.5 Concentration']].mean().round(2)\n",
    "o3_19_mean = o3_19.sort_index().groupby(['Date', 'COUNTY'])[['Daily Max 8-hour Ozone Concentration']].mean().round(2)\n",
    "no2_19_mean = no2_19.sort_index().groupby(['Date','COUNTY'])[['Daily Max 1-hour NO2 Concentration']].mean().round(2)"
   ]
  },
  {
   "cell_type": "code",
   "execution_count": null,
   "metadata": {},
   "outputs": [],
   "source": [
    "#the concatenated df of 2019 datasets should have 19,345 rows (364 days * 53 counties)\n",
    "air19= pd.concat([co_19_mean, pm10_19_mean, pm25_19_mean, o3_19_mean, no2_19_mean], join='outer', axis=1)\n",
    "air19"
   ]
  },
  {
   "cell_type": "code",
   "execution_count": null,
   "metadata": {},
   "outputs": [],
   "source": [
    "#find missing dates if there's any\n",
    "pd.date_range(start = '2019-01-01', end = '2019-12-31').difference(air19.index)\n"
   ]
  },
  {
   "cell_type": "code",
   "execution_count": null,
   "metadata": {},
   "outputs": [],
   "source": [
    "#even if some counties don't have measueemnet for a specifc pollutatnt, it should be listed and have NaN for the value of that specifc pollutant"
   ]
  },
  {
   "cell_type": "code",
   "execution_count": null,
   "metadata": {},
   "outputs": [],
   "source": [
    "#check the number of counties in the dataset. counties are now indecies after appkying groupby()\n",
    "list(air19.index)"
   ]
  },
  {
   "cell_type": "code",
   "execution_count": null,
   "metadata": {},
   "outputs": [],
   "source": [
    "air19.index.unique(level='COUNTY').value_counts().sum()"
   ]
  },
  {
   "cell_type": "code",
   "execution_count": null,
   "metadata": {},
   "outputs": [],
   "source": [
    "#find columns with no recodidings on a specifc day (which indicates wrong calculation)\n",
    "air19[air19.isnull().all(axis=1)]"
   ]
  },
  {
   "cell_type": "code",
   "execution_count": null,
   "metadata": {},
   "outputs": [],
   "source": [
    "air19[air19.isnull().any(axis=1)]"
   ]
  },
  {
   "cell_type": "code",
   "execution_count": null,
   "metadata": {},
   "outputs": [],
   "source": [
    "#apply groupby() to each of the 5 air quality datasets from 2020 to get the daily average concentration for each county\n",
    "co_20_mean= co_20.sort_index().groupby(['Date', 'COUNTY'])[['Daily Max 8-hour CO Concentration']].mean().round(2)\n",
    "pm10_20_mean= pm10_20.sort_index().groupby(['Date', 'COUNTY'])[['Daily Mean PM10 Concentration']].mean().round(2)\n",
    "pm25_20_mean = pm25_20.sort_index().groupby(['Date','COUNTY'])[['Daily Mean PM2.5 Concentration']].mean().round(2)\n",
    "o3_20_mean = o3_20.sort_index().groupby(['Date','COUNTY'])[['Daily Max 8-hour Ozone Concentration']].mean().round(2)\n",
    "no2_20_mean = no2_20.sort_index().groupby(['Date','COUNTY'])[['Daily Max 1-hour NO2 Concentration']].mean().round(2)"
   ]
  },
  {
   "cell_type": "code",
   "execution_count": null,
   "metadata": {},
   "outputs": [],
   "source": [
    "#concatenate 2019 and 2020 data\n",
    "air20= pd.concat([air19, co_20_mean, pm10_20_mean, pm25_20_mean, o3_20_mean, no2_20_mean], join='outer')\n",
    "air20"
   ]
  },
  {
   "cell_type": "code",
   "execution_count": null,
   "metadata": {},
   "outputs": [],
   "source": [
    "air20.reset_index(inplace=True)"
   ]
  },
  {
   "cell_type": "code",
   "execution_count": null,
   "metadata": {},
   "outputs": [],
   "source": [
    "new_df21.info()"
   ]
  },
  {
   "cell_type": "code",
   "execution_count": null,
   "metadata": {},
   "outputs": [],
   "source": [
    "new_df21[['Date', 'COUNTY']].duplicated().sum()"
   ]
  },
  {
   "cell_type": "code",
   "execution_count": null,
   "metadata": {},
   "outputs": [],
   "source": [
    "#apply groupby() on each of the 5 air quality datasets from 2021 to get the daily average concentration for each county\n",
    "co_21_mean= co_21.sort_index().groupby(['Date','COUNTY'])[['Daily Max 8-hour CO Concentration']].mean().round(2)\n",
    "pm10_21_mean= pm10_21.sort_index().groupby(['Date','COUNTY'])[['Daily Mean PM10 Concentration']].mean().round(2)\n",
    "pm25_21_mean = pm25_21.sort_index().groupby(['Date','COUNTY'])[['Daily Mean PM2.5 Concentration']].mean().round(2)\n",
    "o3_21_mean = o3_21.sort_index().groupby(['Date', 'COUNTY'])[['Daily Max 8-hour Ozone Concentration']].mean().round(2)\n",
    "no2_21_mean = no2_21.sort_index().groupby(['Date','COUNTY'])[['Daily Max 1-hour NO2 Concentration']].mean().round(2)"
   ]
  },
  {
   "cell_type": "code",
   "execution_count": null,
   "metadata": {},
   "outputs": [],
   "source": [
    "co_21.sort_index().groupby(['Date','COUNTY'])[['Daily Max 8-hour CO Concentration']].mean().round(2)"
   ]
  },
  {
   "cell_type": "code",
   "execution_count": null,
   "metadata": {},
   "outputs": [],
   "source": [
    "print(co_21_mean.shape)\n",
    "print(no2_21_mean.shape)\n",
    "print(o3_21_mean.shape)\n",
    "print(pm10_21_mean.shape)\n",
    "print(pm25_21_mean.shape)"
   ]
  },
  {
   "cell_type": "code",
   "execution_count": null,
   "metadata": {},
   "outputs": [],
   "source": [
    "#new_df20.reset_index(inplace=True)"
   ]
  },
  {
   "cell_type": "code",
   "execution_count": null,
   "metadata": {},
   "outputs": [],
   "source": [
    "#co_21_mean.reset_index(inplace=True)\n",
    "#pm10_21_mean.reset_index(inplace=True)\n",
    "#pm25_21_mean.reset_index(inplace=True)\n",
    "#o3_21_mean.reset_index(inplace=True)\n",
    "#no2_21_mean.reset_index(inplace=True)"
   ]
  },
  {
   "cell_type": "code",
   "execution_count": null,
   "metadata": {},
   "outputs": [],
   "source": [
    "#the concatenated df of 2021 datasets should have 19,345 rows\n",
    "air21= pd.merge([co_21_mean, pm10_21_mean, pm25_21_mean, o3_21_mean, no2_21_mean], on='Date')\n",
    "air21"
   ]
  },
  {
   "cell_type": "code",
   "execution_count": null,
   "metadata": {},
   "outputs": [],
   "source": [
    "#the concatenated df of 2021 datasets should have 18,980 rows (52 counties * 365 days)\n",
    "air21= pd.concat([co_21_mean, pm10_21_mean, pm25_21_mean, o3_21_mean, no2_21_mean], join='outer', axis=1)\n",
    "air21"
   ]
  },
  {
   "cell_type": "code",
   "execution_count": null,
   "metadata": {},
   "outputs": [],
   "source": [
    "#number of counties in 2021 dataset\n",
    "air21.index.unique(level='COUNTY').value_counts().sum()"
   ]
  },
  {
   "cell_type": "code",
   "execution_count": null,
   "metadata": {},
   "outputs": [],
   "source": [
    "#check for missing dates\n",
    "pd.date_range(start = '2021-01-01', end = '2021-12-31').difference(air19.index)\n"
   ]
  },
  {
   "cell_type": "code",
   "execution_count": null,
   "metadata": {},
   "outputs": [],
   "source": [
    "air21.reset_index(inplace=True)"
   ]
  },
  {
   "cell_type": "code",
   "execution_count": null,
   "metadata": {},
   "outputs": [],
   "source": [
    "#check for duplicates\n",
    "air21.duplicated().value_counts()"
   ]
  },
  {
   "cell_type": "code",
   "execution_count": null,
   "metadata": {},
   "outputs": [],
   "source": [
    "#check the unique counties in COVID-19 and air19 datasets\n",
    "cov_county = list(covid.area.unique())\n",
    "cov_county"
   ]
  },
  {
   "cell_type": "code",
   "execution_count": null,
   "metadata": {},
   "outputs": [],
   "source": [
    "covid.area.unique()"
   ]
  },
  {
   "cell_type": "code",
   "execution_count": null,
   "metadata": {},
   "outputs": [],
   "source": [
    "[x for x in covid.area.unique() if x not in air19.index]"
   ]
  },
  {
   "cell_type": "code",
   "execution_count": null,
   "metadata": {},
   "outputs": [],
   "source": [
    "for x in covid.area.unique():\n",
    "    if x not in co_19.COUNTY.unique():\n",
    "        print(x)"
   ]
  },
  {
   "cell_type": "code",
   "execution_count": null,
   "metadata": {},
   "outputs": [],
   "source": [
    "list(air21.index.values.sum())"
   ]
  },
  {
   "cell_type": "code",
   "execution_count": null,
   "metadata": {},
   "outputs": [],
   "source": [
    "air21.index.values.tolist()"
   ]
  },
  {
   "cell_type": "markdown",
   "metadata": {},
   "source": [
    "------------------------------------------------------------------------------------------------------------"
   ]
  },
  {
   "cell_type": "code",
   "execution_count": null,
   "metadata": {},
   "outputs": [],
   "source": [
    "co_19.set_index('Date')\n",
    "o3_19.set_index('Date')\n",
    "no2_19.set_index('Date')\n",
    "pm10_19.set_index('Date')\n",
    "pm25_19.set_index('Date')\n",
    "co_20.set_index('Date')\n",
    "o3_20.set_index('Date')\n",
    "no2_20.set_index('Date')\n",
    "pm10_20.set_index('Date')\n",
    "pm25_20.set_index('Date')"
   ]
  },
  {
   "cell_type": "code",
   "execution_count": null,
   "metadata": {},
   "outputs": [],
   "source": [
    "#concat() 2019 data\n",
    "new_df= pd.concat([co_19, pm10_19, pm25_19, o3_19, no2_19], join='outer', axis=1)\n",
    "new_df"
   ]
  },
  {
   "cell_type": "code",
   "execution_count": null,
   "metadata": {},
   "outputs": [],
   "source": [
    "#concat 2019 and 2020 data\n",
    "new_df20= pd.concat([new_df, co_20, pm10_20, pm25_20, o3_20, no2_20], join='outer')\n",
    "new_df20"
   ]
  },
  {
   "cell_type": "code",
   "execution_count": null,
   "metadata": {},
   "outputs": [],
   "source": [
    "new_df = pd.concat([co_19, no2_19, o3_19, pm25_19, pm10_19])\n",
    "\n",
    "new_df_county= list(new_df.COUNTY.unique())\n",
    "cov_county = list(covid.area.unique())\n",
    "\n",
    "[x for x in cov_county if x not in new_df_county]"
   ]
  },
  {
   "cell_type": "code",
   "execution_count": null,
   "metadata": {},
   "outputs": [],
   "source": [
    "new_df"
   ]
  },
  {
   "cell_type": "code",
   "execution_count": null,
   "metadata": {},
   "outputs": [],
   "source": [
    "counties = {'county':['Alameda','Amador','Butte','Calaveras','Colusa', 'Contra Costa', 'Del Norte',\n",
    "'El Dorado','Fresno', 'Glenn','Humboldt','Imperial','Inyo','Kern','Kings','Lake','Los Angeles','Madera',\n",
    "'Marin','Mariposa','Merced', 'Mono','Monterey','Napa','Nevada','Orange','Placer','Plumas','Riverside','Sacramento',\n",
    "'San Benito','San Bernardino','San Diego','San Francisco','San Joaquin','San Luis Obispo','San Mateo','Santa Barbara',\n",
    "'Santa Clara','Santa Cruz','Shasta','Siskiyou','Solano','Sonoma','Stanislaus','Sutter','Tehama','Trinity','Tulare',\n",
    "'Tuolumne','Ventura','Yolo']}"
   ]
  },
  {
   "cell_type": "code",
   "execution_count": null,
   "metadata": {},
   "outputs": [],
   "source": [
    "df= pd.DataFrame(counties)\n",
    "df"
   ]
  },
  {
   "cell_type": "code",
   "execution_count": null,
   "metadata": {},
   "outputs": [],
   "source": [
    "df['date']=pd.date_range(start='2021-01-01', end= '2021-12-31')"
   ]
  },
  {
   "cell_type": "code",
   "execution_count": null,
   "metadata": {},
   "outputs": [],
   "source": [
    "df_county_date= pd.date_range(start='2021-01-01', end= '2021-12-31')\n",
    "df_county_date"
   ]
  },
  {
   "cell_type": "code",
   "execution_count": null,
   "metadata": {},
   "outputs": [],
   "source": [
    "df_county_date['county']= counties"
   ]
  },
  {
   "cell_type": "markdown",
   "metadata": {},
   "source": [
    "Final thoughts:\n",
    "> You can search for exactly which counties are missing and dig deeper in analysis. You might create a list of all the countiyes of California then use glob() or any relevant method \n",
    "> It's important to understant why some pollutants recorded as Max while others at Mean"
   ]
  }
 ],
 "metadata": {
  "interpreter": {
   "hash": "d4d1e4263499bec80672ea0156c357c1ee493ec2b1c70f0acce89fc37c4a6abe"
  },
  "kernelspec": {
   "display_name": "Python 3.9.7 ('base')",
   "language": "python",
   "name": "python3"
  },
  "language_info": {
   "codemirror_mode": {
    "name": "ipython",
    "version": 3
   },
   "file_extension": ".py",
   "mimetype": "text/x-python",
   "name": "python",
   "nbconvert_exporter": "python",
   "pygments_lexer": "ipython3",
   "version": "3.9.7"
  },
  "orig_nbformat": 4
 },
 "nbformat": 4,
 "nbformat_minor": 2
}
